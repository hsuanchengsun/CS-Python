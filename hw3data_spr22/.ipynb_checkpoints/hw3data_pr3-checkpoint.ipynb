{
 "cells": [
  {
   "cell_type": "markdown",
   "metadata": {},
   "source": [
    "<br>\n",
    "\n",
    "#### hw3pr3's RPS-classification challenge\n",
    "+ with lots of details at the [hw3 page](https://docs.google.com/document/d/1xn3-Nii99ctZ8FUdn_vttlJhCPWbtEZRrqj2CFtJn2k/edit)  ...\n"
   ]
  },
  {
   "cell_type": "code",
   "execution_count": 1,
   "metadata": {},
   "outputs": [],
   "source": [
    "\n",
    "# Let's import our libraries...\n",
    "import numpy as np\n",
    "import pandas as pd \n"
   ]
  },
  {
   "cell_type": "code",
   "execution_count": 8,
   "metadata": {},
   "outputs": [
    {
     "data": {
      "text/html": [
       "<div>\n",
       "<style scoped>\n",
       "    .dataframe tbody tr th:only-of-type {\n",
       "        vertical-align: middle;\n",
       "    }\n",
       "\n",
       "    .dataframe tbody tr th {\n",
       "        vertical-align: top;\n",
       "    }\n",
       "\n",
       "    .dataframe thead th {\n",
       "        text-align: right;\n",
       "    }\n",
       "</style>\n",
       "<table border=\"1\" class=\"dataframe\">\n",
       "  <thead>\n",
       "    <tr style=\"text-align: right;\">\n",
       "      <th></th>\n",
       "      <th>DECISION (H/M)</th>\n",
       "      <th>YOUR_SCORE</th>\n",
       "      <th>ORIG_INDEX</th>\n",
       "      <th>STRING</th>\n",
       "    </tr>\n",
       "  </thead>\n",
       "  <tbody>\n",
       "    <tr>\n",
       "      <th>0</th>\n",
       "      <td>machine</td>\n",
       "      <td>0.191852</td>\n",
       "      <td>0</td>\n",
       "      <td>psrsrprrsssrrrpsprprsppspsssrsrssrpprppsrpssrp...</td>\n",
       "    </tr>\n",
       "    <tr>\n",
       "      <th>1</th>\n",
       "      <td>human</td>\n",
       "      <td>0.913333</td>\n",
       "      <td>1</td>\n",
       "      <td>psrpsprpsrpprpsprpsprpsrpprppsrpsprsprsprppsrp...</td>\n",
       "    </tr>\n",
       "    <tr>\n",
       "      <th>2</th>\n",
       "      <td>machine</td>\n",
       "      <td>0.180741</td>\n",
       "      <td>2</td>\n",
       "      <td>psrrrrsprsrpsrrsprrrrrprpssssrsprrpspspppprpsr...</td>\n",
       "    </tr>\n",
       "    <tr>\n",
       "      <th>3</th>\n",
       "      <td>human</td>\n",
       "      <td>0.956296</td>\n",
       "      <td>3</td>\n",
       "      <td>rrrrrrrrrrrrrrrrrrrrrrrrrrrrrrrrrrrrrrrrrrrrrr...</td>\n",
       "    </tr>\n",
       "    <tr>\n",
       "      <th>4</th>\n",
       "      <td>human</td>\n",
       "      <td>0.886667</td>\n",
       "      <td>4</td>\n",
       "      <td>sprspsrpsrpsrpsrpsrpspprsrpsprpsrpsprsprpsrpsr...</td>\n",
       "    </tr>\n",
       "    <tr>\n",
       "      <th>...</th>\n",
       "      <td>...</td>\n",
       "      <td>...</td>\n",
       "      <td>...</td>\n",
       "      <td>...</td>\n",
       "    </tr>\n",
       "    <tr>\n",
       "      <th>71</th>\n",
       "      <td>human</td>\n",
       "      <td>0.551852</td>\n",
       "      <td>71</td>\n",
       "      <td>psrppsrpsprpsprpsprpsrppsrpsprpsrppsprpsprsprp...</td>\n",
       "    </tr>\n",
       "    <tr>\n",
       "      <th>72</th>\n",
       "      <td>human</td>\n",
       "      <td>0.894815</td>\n",
       "      <td>72</td>\n",
       "      <td>psprpsprpsprprspsrprpsrprspsrprsprspsrpsrprpsr...</td>\n",
       "    </tr>\n",
       "    <tr>\n",
       "      <th>73</th>\n",
       "      <td>machine</td>\n",
       "      <td>0.240741</td>\n",
       "      <td>73</td>\n",
       "      <td>spprsrrrpppsprpssrpspsrrrpsrsrrprpsrrspssrprrr...</td>\n",
       "    </tr>\n",
       "    <tr>\n",
       "      <th>74</th>\n",
       "      <td>machine</td>\n",
       "      <td>0.227407</td>\n",
       "      <td>74</td>\n",
       "      <td>rppprprsrsprrrrrpsspprprrspsrprsrrspprpspssrps...</td>\n",
       "    </tr>\n",
       "    <tr>\n",
       "      <th>75</th>\n",
       "      <td>human</td>\n",
       "      <td>0.948148</td>\n",
       "      <td>75</td>\n",
       "      <td>prsprsprsprsprsprsprsprsprsprsprsprsprsprspsrp...</td>\n",
       "    </tr>\n",
       "  </tbody>\n",
       "</table>\n",
       "<p>76 rows × 4 columns</p>\n",
       "</div>"
      ],
      "text/plain": [
       "   DECISION (H/M)  YOUR_SCORE  ORIG_INDEX  \\\n",
       "0         machine    0.191852           0   \n",
       "1           human    0.913333           1   \n",
       "2         machine    0.180741           2   \n",
       "3           human    0.956296           3   \n",
       "4           human    0.886667           4   \n",
       "..            ...         ...         ...   \n",
       "71          human    0.551852          71   \n",
       "72          human    0.894815          72   \n",
       "73        machine    0.240741          73   \n",
       "74        machine    0.227407          74   \n",
       "75          human    0.948148          75   \n",
       "\n",
       "                                               STRING  \n",
       "0   psrsrprrsssrrrpsprprsppspsssrsrssrpprppsrpssrp...  \n",
       "1   psrpsprpsrpprpsprpsprpsrpprppsrpsprsprsprppsrp...  \n",
       "2   psrrrrsprsrpsrrsprrrrrprpssssrsprrpspspppprpsr...  \n",
       "3   rrrrrrrrrrrrrrrrrrrrrrrrrrrrrrrrrrrrrrrrrrrrrr...  \n",
       "4   sprspsrpsrpsrpsrpsrpspprsrpsprpsrpsprsprpsrpsr...  \n",
       "..                                                ...  \n",
       "71  psrppsrpsprpsprpsprpsrppsrpsprpsrppsprpsprsprp...  \n",
       "72  psprpsprpsprprspsrprpsrprspsrprsprspsrpsrprpsr...  \n",
       "73  spprsrrrpppsprpssrpspsrrrpsrsrrprpsrrspssrprrr...  \n",
       "74  rppprprsrsprrrrrpsspprprrspsrprsrrspprpspssrps...  \n",
       "75  prsprsprsprsprsprsprsprsprsprsprsprsprsprspsrp...  \n",
       "\n",
       "[76 rows x 4 columns]"
      ]
     },
     "execution_count": 8,
     "metadata": {},
     "output_type": "execute_result"
    }
   ],
   "source": [
    "\n",
    "# We will import the data as a dataframe called RPS_orig\n",
    "RPS_w_sols = pd.read_csv('./rps_challenge_spring2020_solutions.csv')\n",
    "RPS_w_sols"
   ]
  },
  {
   "cell_type": "code",
   "execution_count": 3,
   "metadata": {},
   "outputs": [
    {
     "data": {
      "text/html": [
       "<div>\n",
       "<style scoped>\n",
       "    .dataframe tbody tr th:only-of-type {\n",
       "        vertical-align: middle;\n",
       "    }\n",
       "\n",
       "    .dataframe tbody tr th {\n",
       "        vertical-align: top;\n",
       "    }\n",
       "\n",
       "    .dataframe thead th {\n",
       "        text-align: right;\n",
       "    }\n",
       "</style>\n",
       "<table border=\"1\" class=\"dataframe\">\n",
       "  <thead>\n",
       "    <tr style=\"text-align: right;\">\n",
       "      <th></th>\n",
       "      <th>DECISION (H/M)</th>\n",
       "      <th>YOUR_SCORE</th>\n",
       "      <th>ORIG_INDEX</th>\n",
       "      <th>STRING</th>\n",
       "    </tr>\n",
       "  </thead>\n",
       "  <tbody>\n",
       "    <tr>\n",
       "      <th>0</th>\n",
       "      <td>human or machine</td>\n",
       "      <td>0.042</td>\n",
       "      <td>0</td>\n",
       "      <td>prpprrsspsprrrssrrrssrsrpsrssrsppspprsrrprpprr...</td>\n",
       "    </tr>\n",
       "    <tr>\n",
       "      <th>1</th>\n",
       "      <td>human or machine</td>\n",
       "      <td>0.042</td>\n",
       "      <td>1</td>\n",
       "      <td>srpsrpsrrsrsrsrpprpprprprppssprppssprppsprpspr...</td>\n",
       "    </tr>\n",
       "    <tr>\n",
       "      <th>2</th>\n",
       "      <td>human or machine</td>\n",
       "      <td>0.042</td>\n",
       "      <td>2</td>\n",
       "      <td>rpppsrssssrrsrrrpprsrssrssrsrsprpsrsrsppppprrr...</td>\n",
       "    </tr>\n",
       "    <tr>\n",
       "      <th>3</th>\n",
       "      <td>human or machine</td>\n",
       "      <td>0.042</td>\n",
       "      <td>3</td>\n",
       "      <td>rspsrsrpppsprsrrsrsppsppsrrsrrrrrprssprrprssps...</td>\n",
       "    </tr>\n",
       "    <tr>\n",
       "      <th>4</th>\n",
       "      <td>human or machine</td>\n",
       "      <td>0.042</td>\n",
       "      <td>4</td>\n",
       "      <td>srpsrpsrpsrpsprsprsprpsrpsrpsprsprsprpsrpsrpsr...</td>\n",
       "    </tr>\n",
       "    <tr>\n",
       "      <th>...</th>\n",
       "      <td>...</td>\n",
       "      <td>...</td>\n",
       "      <td>...</td>\n",
       "      <td>...</td>\n",
       "    </tr>\n",
       "    <tr>\n",
       "      <th>227</th>\n",
       "      <td>human or machine</td>\n",
       "      <td>0.042</td>\n",
       "      <td>227</td>\n",
       "      <td>ssssprsprprsppsrppsrsrsrprpsssrrsrsrrpsssspsps...</td>\n",
       "    </tr>\n",
       "    <tr>\n",
       "      <th>228</th>\n",
       "      <td>human or machine</td>\n",
       "      <td>0.042</td>\n",
       "      <td>228</td>\n",
       "      <td>psprrppprpprpprrsrsrpppsssspssrsrpsrpprsrpprss...</td>\n",
       "    </tr>\n",
       "    <tr>\n",
       "      <th>229</th>\n",
       "      <td>human or machine</td>\n",
       "      <td>0.042</td>\n",
       "      <td>229</td>\n",
       "      <td>rsprsprsprpsrpsrpsrpsprsprsprpsrpsrpsrpsprsprp...</td>\n",
       "    </tr>\n",
       "    <tr>\n",
       "      <th>230</th>\n",
       "      <td>human or machine</td>\n",
       "      <td>0.042</td>\n",
       "      <td>230</td>\n",
       "      <td>rssrrprsprprprrsprrpsrssrppssprsssspsrrsrpprpr...</td>\n",
       "    </tr>\n",
       "    <tr>\n",
       "      <th>231</th>\n",
       "      <td>human or machine</td>\n",
       "      <td>0.042</td>\n",
       "      <td>231</td>\n",
       "      <td>sprssrssprppprssssrsrsssrprrspsrspsprsrprrrrps...</td>\n",
       "    </tr>\n",
       "  </tbody>\n",
       "</table>\n",
       "<p>232 rows × 4 columns</p>\n",
       "</div>"
      ],
      "text/plain": [
       "       DECISION (H/M)  YOUR_SCORE  ORIG_INDEX  \\\n",
       "0    human or machine       0.042           0   \n",
       "1    human or machine       0.042           1   \n",
       "2    human or machine       0.042           2   \n",
       "3    human or machine       0.042           3   \n",
       "4    human or machine       0.042           4   \n",
       "..                ...         ...         ...   \n",
       "227  human or machine       0.042         227   \n",
       "228  human or machine       0.042         228   \n",
       "229  human or machine       0.042         229   \n",
       "230  human or machine       0.042         230   \n",
       "231  human or machine       0.042         231   \n",
       "\n",
       "                                                STRING  \n",
       "0    prpprrsspsprrrssrrrssrsrpsrssrsppspprsrrprpprr...  \n",
       "1    srpsrpsrrsrsrsrpprpprprprppssprppssprppsprpspr...  \n",
       "2    rpppsrssssrrsrrrpprsrssrssrsrsprpsrsrsppppprrr...  \n",
       "3    rspsrsrpppsprsrrsrsppsppsrrsrrrrrprssprrprssps...  \n",
       "4    srpsrpsrpsrpsprsprsprpsrpsrpsprsprsprpsrpsrpsr...  \n",
       "..                                                 ...  \n",
       "227  ssssprsprprsppsrppsrsrsrprpsssrrsrsrrpsssspsps...  \n",
       "228  psprrppprpprpprrsrsrpppsssspssrsrpsrpprsrpprss...  \n",
       "229  rsprsprsprpsrpsrpsrpsprsprsprpsrpsrpsrpsprsprp...  \n",
       "230  rssrrprsprprprrsprrpsrssrppssprsssspsrrsrpprpr...  \n",
       "231  sprssrssprppprssssrsrsssrprrspsrspsprsrprrrrps...  \n",
       "\n",
       "[232 rows x 4 columns]"
      ]
     },
     "execution_count": 3,
     "metadata": {},
     "output_type": "execute_result"
    }
   ],
   "source": [
    "\n",
    "# Let's take a look at one without solutions...\n",
    "RPS_2021 = pd.read_csv('./rps_challenge_spring2021_original.csv')\n",
    "RPS_2021\n",
    "\n",
    "# a csv with RPS_2022 will be available soon after class..."
   ]
  },
  {
   "cell_type": "code",
   "execution_count": 4,
   "metadata": {},
   "outputs": [
    {
     "data": {
      "text/html": [
       "<div>\n",
       "<style scoped>\n",
       "    .dataframe tbody tr th:only-of-type {\n",
       "        vertical-align: middle;\n",
       "    }\n",
       "\n",
       "    .dataframe tbody tr th {\n",
       "        vertical-align: top;\n",
       "    }\n",
       "\n",
       "    .dataframe thead th {\n",
       "        text-align: right;\n",
       "    }\n",
       "</style>\n",
       "<table border=\"1\" class=\"dataframe\">\n",
       "  <thead>\n",
       "    <tr style=\"text-align: right;\">\n",
       "      <th></th>\n",
       "      <th>DECISION (H/M)</th>\n",
       "      <th>YOUR_SCORE</th>\n",
       "      <th>ORIG_INDEX</th>\n",
       "      <th>STRING</th>\n",
       "    </tr>\n",
       "  </thead>\n",
       "  <tbody>\n",
       "    <tr>\n",
       "      <th>0</th>\n",
       "      <td>machine</td>\n",
       "      <td>0.042</td>\n",
       "      <td>0</td>\n",
       "      <td>prpprrsspsprrrssrrrssrsrpsrssrsppspprsrrprpprr...</td>\n",
       "    </tr>\n",
       "    <tr>\n",
       "      <th>1</th>\n",
       "      <td>human</td>\n",
       "      <td>0.042</td>\n",
       "      <td>1</td>\n",
       "      <td>srpsrpsrrsrsrsrpprpprprprppssprppssprppsprpspr...</td>\n",
       "    </tr>\n",
       "    <tr>\n",
       "      <th>2</th>\n",
       "      <td>human</td>\n",
       "      <td>0.042</td>\n",
       "      <td>2</td>\n",
       "      <td>rpppsrssssrrsrrrpprsrssrssrsrsprpsrsrsppppprrr...</td>\n",
       "    </tr>\n",
       "    <tr>\n",
       "      <th>3</th>\n",
       "      <td>human</td>\n",
       "      <td>0.042</td>\n",
       "      <td>3</td>\n",
       "      <td>rspsrsrpppsprsrrsrsppsppsrrsrrrrrprssprrprssps...</td>\n",
       "    </tr>\n",
       "    <tr>\n",
       "      <th>4</th>\n",
       "      <td>machine</td>\n",
       "      <td>0.042</td>\n",
       "      <td>4</td>\n",
       "      <td>srpsrpsrpsrpsprsprsprpsrpsrpsprsprsprpsrpsrpsr...</td>\n",
       "    </tr>\n",
       "    <tr>\n",
       "      <th>...</th>\n",
       "      <td>...</td>\n",
       "      <td>...</td>\n",
       "      <td>...</td>\n",
       "      <td>...</td>\n",
       "    </tr>\n",
       "    <tr>\n",
       "      <th>227</th>\n",
       "      <td>human</td>\n",
       "      <td>0.042</td>\n",
       "      <td>227</td>\n",
       "      <td>ssssprsprprsppsrppsrsrsrprpsssrrsrsrrpsssspsps...</td>\n",
       "    </tr>\n",
       "    <tr>\n",
       "      <th>228</th>\n",
       "      <td>human</td>\n",
       "      <td>0.042</td>\n",
       "      <td>228</td>\n",
       "      <td>psprrppprpprpprrsrsrpppsssspssrsrpsrpprsrpprss...</td>\n",
       "    </tr>\n",
       "    <tr>\n",
       "      <th>229</th>\n",
       "      <td>human</td>\n",
       "      <td>0.042</td>\n",
       "      <td>229</td>\n",
       "      <td>rsprsprsprpsrpsrpsrpsprsprsprpsrpsrpsrpsprsprp...</td>\n",
       "    </tr>\n",
       "    <tr>\n",
       "      <th>230</th>\n",
       "      <td>machine</td>\n",
       "      <td>0.042</td>\n",
       "      <td>230</td>\n",
       "      <td>rssrrprsprprprrsprrpsrssrppssprsssspsrrsrpprpr...</td>\n",
       "    </tr>\n",
       "    <tr>\n",
       "      <th>231</th>\n",
       "      <td>machine</td>\n",
       "      <td>0.042</td>\n",
       "      <td>231</td>\n",
       "      <td>sprssrssprppprssssrsrsssrprrspsrspsprsrprrrrps...</td>\n",
       "    </tr>\n",
       "  </tbody>\n",
       "</table>\n",
       "<p>232 rows × 4 columns</p>\n",
       "</div>"
      ],
      "text/plain": [
       "    DECISION (H/M)  YOUR_SCORE  ORIG_INDEX  \\\n",
       "0          machine       0.042           0   \n",
       "1            human       0.042           1   \n",
       "2            human       0.042           2   \n",
       "3            human       0.042           3   \n",
       "4          machine       0.042           4   \n",
       "..             ...         ...         ...   \n",
       "227          human       0.042         227   \n",
       "228          human       0.042         228   \n",
       "229          human       0.042         229   \n",
       "230        machine       0.042         230   \n",
       "231        machine       0.042         231   \n",
       "\n",
       "                                                STRING  \n",
       "0    prpprrsspsprrrssrrrssrsrpsrssrsppspprsrrprpprr...  \n",
       "1    srpsrpsrrsrsrsrpprpprprprppssprppssprppsprpspr...  \n",
       "2    rpppsrssssrrsrrrpprsrssrssrsrsprpsrsrsppppprrr...  \n",
       "3    rspsrsrpppsprsrrsrsppsppsrrsrrrrrprssprrprssps...  \n",
       "4    srpsrpsrpsrpsprsprsprpsrpsrpsprsprsprpsrpsrpsr...  \n",
       "..                                                 ...  \n",
       "227  ssssprsprprsppsrppsrsrsrprpsssrrsrsrrpsssspsps...  \n",
       "228  psprrppprpprpprrsrsrpppsssspssrsrpsrpprsrpprss...  \n",
       "229  rsprsprsprpsrpsrpsrpsprsprsprpsrpsrpsrpsprsprp...  \n",
       "230  rssrrprsprprprrsprrpsrssrppssprsssspsrrsrpprpr...  \n",
       "231  sprssrssprppprssssrsrsssrprrspsrspsprsrprrrrps...  \n",
       "\n",
       "[232 rows x 4 columns]"
      ]
     },
     "execution_count": 4,
     "metadata": {},
     "output_type": "execute_result"
    }
   ],
   "source": [
    "\n",
    "#\n",
    "# Let's guess! We will assign each one randomly...\n",
    "#\n",
    "\n",
    "from random import choice\n",
    "\n",
    "for i in range(0,232):\n",
    "    old = RPS_2021.loc[i,'DECISION (H/M)']  # old value\n",
    "    new = choice( ['human','machine'] )     # new value - guessing!\n",
    "    RPS_2021.loc[i,'DECISION (H/M)'] = new  # set the item to the new value\n",
    "\n",
    "# let's see the results!\n",
    "RPS_2021"
   ]
  },
  {
   "cell_type": "code",
   "execution_count": 5,
   "metadata": {},
   "outputs": [
    {
     "name": "stdout",
     "output_type": "stream",
     "text": [
      "[[1], [2], [3], [5], [6], [7], [10], [11], [13], [14], [17], [21], [24], [27], [28], [30], [33], [37], [38], [39], [40], [41], [47], [49], [51], [52], [53], [54], [57], [60], [62], [66], [67], [69], [71], [76], [77], [79], [80], [82], [83], [86], [88], [92], [93], [98], [101], [105], [112], [113], [117], [118], [119], [121], [124], [128], [129], [130], [131], [133], [134], [135], [137], [139], [141], [142], [143], [144], [145], [146], [150], [151], [155], [156], [157], [158], [161], [165], [166], [167], [170], [172], [173], [174], [175], [176], [180], [185], [188], [191], [193], [194], [197], [201], [203], [207], [210], [211], [215], [216], [217], [218], [219], [220], [222], [224], [227], [228], [229]] \n",
      "\n",
      "Humans: [1, 2, 3, 5, 6, 7, 10, 11, 13, 14, 17, 21, 24, 27, 28, 30, 33, 37, 38, 39, 40, 41, 47, 49, 51, 52, 53, 54, 57, 60, 62, 66, 67, 69, 71, 76, 77, 79, 80, 82, 83, 86, 88, 92, 93, 98, 101, 105, 112, 113, 117, 118, 119, 121, 124, 128, 129, 130, 131, 133, 134, 135, 137, 139, 141, 142, 143, 144, 145, 146, 150, 151, 155, 156, 157, 158, 161, 165, 166, 167, 170, 172, 173, 174, 175, 176, 180, 185, 188, 191, 193, 194, 197, 201, 203, 207, 210, 211, 215, 216, 217, 218, 219, 220, 222, 224, 227, 228, 229]\n"
     ]
    }
   ],
   "source": [
    "\n",
    "#\n",
    "# Be sure to have a sorted list of the indices where the rows are human (feel free to use this!)\n",
    "#\n",
    "\n",
    "human_dataframe = RPS_2021.loc[ RPS_2021['DECISION (H/M)'] == 'human', ['ORIG_INDEX'] ]  # get humans\n",
    "human_array = human_dataframe.to_numpy()     # change to numpy array\n",
    "# print(human_array) \n",
    "\n",
    "human_index_list = human_array.tolist()       # let's get it into a list first...\n",
    "print(human_index_list, \"\\n\")\n",
    "\n",
    "# not required, but we could also take the initial element (and show off LC's)\n",
    "humans = [ L[0] for L in human_index_list ]\n",
    "print(f\"Humans: {humans}\")\n"
   ]
  },
  {
   "cell_type": "code",
   "execution_count": 6,
   "metadata": {},
   "outputs": [
    {
     "name": "stdout",
     "output_type": "stream",
     "text": [
      "[[0], [4], [8], [9], [12], [15], [16], [18], [19], [20], [22], [23], [25], [26], [29], [31], [32], [34], [35], [36], [42], [43], [44], [45], [46], [48], [50], [55], [56], [58], [59], [61], [63], [64], [65], [68], [70], [72], [73], [74], [75], [78], [81], [84], [85], [87], [89], [90], [91], [94], [95], [96], [97], [99], [100], [102], [103], [104], [106], [107], [108], [109], [110], [111], [114], [115], [116], [120], [122], [123], [125], [126], [127], [132], [136], [138], [140], [147], [148], [149], [152], [153], [154], [159], [160], [162], [163], [164], [168], [169], [171], [177], [178], [179], [181], [182], [183], [184], [186], [187], [189], [190], [192], [195], [196], [198], [199], [200], [202], [204], [205], [206], [208], [209], [212], [213], [214], [221], [223], [225], [226], [230], [231]] \n",
      "\n",
      "Machines: [0, 4, 8, 9, 12, 15, 16, 18, 19, 20, 22, 23, 25, 26, 29, 31, 32, 34, 35, 36, 42, 43, 44, 45, 46, 48, 50, 55, 56, 58, 59, 61, 63, 64, 65, 68, 70, 72, 73, 74, 75, 78, 81, 84, 85, 87, 89, 90, 91, 94, 95, 96, 97, 99, 100, 102, 103, 104, 106, 107, 108, 109, 110, 111, 114, 115, 116, 120, 122, 123, 125, 126, 127, 132, 136, 138, 140, 147, 148, 149, 152, 153, 154, 159, 160, 162, 163, 164, 168, 169, 171, 177, 178, 179, 181, 182, 183, 184, 186, 187, 189, 190, 192, 195, 196, 198, 199, 200, 202, 204, 205, 206, 208, 209, 212, 213, 214, 221, 223, 225, 226, 230, 231]\n"
     ]
    }
   ],
   "source": [
    "\n",
    "#\n",
    "# Be sure to have a sorted list of the indices where the rows are machine  (feel free to use this!)\n",
    "#\n",
    "\n",
    "machine_dataframe = RPS_2021.loc[ RPS_2021['DECISION (H/M)'] == 'machine', ['ORIG_INDEX'] ]  # get humans\n",
    "machine_array = machine_dataframe.to_numpy()     # change to numpy array\n",
    "# print(machine_array) \n",
    "\n",
    "machine_index_list = machine_array.tolist()       # let's get it into a list first...\n",
    "print(machine_index_list, \"\\n\")\n",
    "\n",
    "# not required, but we could also take the initial element (and show off LC's)\n",
    "machines = [ L[0] for L in machine_index_list ]\n",
    "print(f\"Machines: {machines}\")"
   ]
  },
  {
   "cell_type": "code",
   "execution_count": 10,
   "metadata": {},
   "outputs": [],
   "source": [
    "RPS_2022 = pd.read_csv('rps_challenge_spr22_strings.csv')"
   ]
  },
  {
   "cell_type": "code",
   "execution_count": 14,
   "metadata": {},
   "outputs": [
    {
     "data": {
      "text/plain": [
       "81"
      ]
     },
     "execution_count": 14,
     "metadata": {},
     "output_type": "execute_result"
    }
   ],
   "source": [
    "RPS_2022.loc[0, 'STRING'].count('r')"
   ]
  },
  {
   "cell_type": "code",
   "execution_count": 15,
   "metadata": {},
   "outputs": [
    {
     "data": {
      "text/plain": [
       "77"
      ]
     },
     "execution_count": 15,
     "metadata": {},
     "output_type": "execute_result"
    }
   ],
   "source": [
    "RPS_2022.loc[0, 'STRING'].count('s')"
   ]
  },
  {
   "cell_type": "code",
   "execution_count": 16,
   "metadata": {},
   "outputs": [
    {
     "data": {
      "text/plain": [
       "142"
      ]
     },
     "execution_count": 16,
     "metadata": {},
     "output_type": "execute_result"
    }
   ],
   "source": [
    "RPS_2022.loc[0, 'STRING'].count('p')"
   ]
  },
  {
   "cell_type": "code",
   "execution_count": 17,
   "metadata": {},
   "outputs": [
    {
     "data": {
      "text/plain": [
       "95"
      ]
     },
     "execution_count": 17,
     "metadata": {},
     "output_type": "execute_result"
    }
   ],
   "source": [
    "RPS_2022.loc[1, 'STRING'].count('r')"
   ]
  },
  {
   "cell_type": "code",
   "execution_count": 18,
   "metadata": {},
   "outputs": [
    {
     "data": {
      "text/plain": [
       "97"
      ]
     },
     "execution_count": 18,
     "metadata": {},
     "output_type": "execute_result"
    }
   ],
   "source": [
    "RPS_2022.loc[1, 'STRING'].count('s')"
   ]
  },
  {
   "cell_type": "code",
   "execution_count": 19,
   "metadata": {},
   "outputs": [
    {
     "data": {
      "text/plain": [
       "108"
      ]
     },
     "execution_count": 19,
     "metadata": {},
     "output_type": "execute_result"
    }
   ],
   "source": [
    "RPS_2022.loc[1, 'STRING'].count('p')"
   ]
  },
  {
   "cell_type": "code",
   "execution_count": 23,
   "metadata": {},
   "outputs": [
    {
     "data": {
      "text/plain": [
       "array([0.042, 0.042, 0.042, 0.042, 0.042, 0.042, 0.042, 0.042, 0.042,\n",
       "       0.042, 0.042, 0.042, 0.042, 0.042, 0.042, 0.042, 0.042, 0.042,\n",
       "       0.042, 0.042, 0.042, 0.042, 0.042, 0.042, 0.042, 0.042, 0.042,\n",
       "       0.042, 0.042, 0.042, 0.042, 0.042, 0.042, 0.042, 0.042, 0.042,\n",
       "       0.042, 0.042, 0.042, 0.042, 0.042, 0.042, 0.042, 0.042, 0.042,\n",
       "       0.042, 0.042, 0.042, 0.042, 0.042, 0.042, 0.042, 0.042, 0.042,\n",
       "       0.042, 0.042, 0.042, 0.042, 0.042, 0.042, 0.042, 0.042, 0.042,\n",
       "       0.042, 0.042, 0.042, 0.042, 0.042, 0.042, 0.042, 0.042, 0.042,\n",
       "       0.042, 0.042, 0.042, 0.042, 0.042, 0.042, 0.042, 0.042, 0.042,\n",
       "       0.042, 0.042, 0.042, 0.042, 0.042, 0.042, 0.042, 0.042, 0.042,\n",
       "       0.042, 0.042, 0.042, 0.042, 0.042, 0.042, 0.042, 0.042, 0.042,\n",
       "       0.042, 0.042, 0.042, 0.042, 0.042, 0.042, 0.042, 0.042, 0.042,\n",
       "       0.042, 0.042, 0.042, 0.042, 0.042, 0.042, 0.042, 0.042, 0.042,\n",
       "       0.042, 0.042, 0.042, 0.042, 0.042, 0.042, 0.042, 0.042, 0.042,\n",
       "       0.042, 0.042, 0.042, 0.042, 0.042, 0.042, 0.042, 0.042, 0.042,\n",
       "       0.042, 0.042, 0.042, 0.042, 0.042, 0.042, 0.042, 0.042, 0.042,\n",
       "       0.042, 0.042, 0.042, 0.042, 0.042, 0.042, 0.042, 0.042, 0.042,\n",
       "       0.042, 0.042, 0.042, 0.042, 0.042, 0.042, 0.042, 0.042, 0.042,\n",
       "       0.042, 0.042, 0.042, 0.042, 0.042, 0.042, 0.042, 0.042, 0.042,\n",
       "       0.042, 0.042, 0.042, 0.042, 0.042, 0.042, 0.042, 0.042, 0.042,\n",
       "       0.042, 0.042, 0.042, 0.042, 0.042, 0.042, 0.042, 0.042, 0.042,\n",
       "       0.042, 0.042, 0.042, 0.042])"
      ]
     },
     "execution_count": 23,
     "metadata": {},
     "output_type": "execute_result"
    }
   ],
   "source": [
    "RPS_2022.YOUR_SCORE.values"
   ]
  },
  {
   "cell_type": "code",
   "execution_count": 25,
   "metadata": {},
   "outputs": [],
   "source": [
    "for i in range(0, len(RPS_2022)):\n",
    "    r = RPS_2022.loc[i, 'STRING'].count('r')\n",
    "    s = RPS_2022.loc[i, 'STRING'].count('s')\n",
    "    p = RPS_2022.loc[i, 'STRING'].count('p')\n",
    "    \n",
    "    total = r + s + p\n",
    "    maximum = max(r/total, s/total, p/total)\n",
    "    \n",
    "    score = abs(maximum - RPS_2022.loc[i, 'YOUR_SCORE']) \n",
    "    if score > 0.35:\n",
    "        RPS_2022.loc[i,'DECISION (H/M)'] = 'human' \n",
    "    else:   \n",
    "        RPS_2022.loc[i,'DECISION (H/M)'] = 'machine'\n",
    "    RPS_2022.loc[i,'YOUR_SCORE'] = score"
   ]
  },
  {
   "cell_type": "code",
   "execution_count": 26,
   "metadata": {},
   "outputs": [
    {
     "name": "stdout",
     "output_type": "stream",
     "text": [
      "[[0], [4], [8], [11], [13], [15], [17], [21], [25], [27], [37], [38], [40], [41], [42], [44], [47], [49], [50], [54], [55], [56], [59], [68], [69], [71], [72], [73], [74], [75], [86], [89], [91], [93], [94], [100], [104], [106], [107], [109], [112], [113], [118], [122], [123], [127], [129], [130], [131], [132], [133], [137], [138], [139], [143], [146], [148], [149], [150], [151], [155], [160], [164], [165], [167], [168], [172], [174], [177], [179], [187], [191]] \n",
      "\n",
      "Humans: [0, 4, 8, 11, 13, 15, 17, 21, 25, 27, 37, 38, 40, 41, 42, 44, 47, 49, 50, 54, 55, 56, 59, 68, 69, 71, 72, 73, 74, 75, 86, 89, 91, 93, 94, 100, 104, 106, 107, 109, 112, 113, 118, 122, 123, 127, 129, 130, 131, 132, 133, 137, 138, 139, 143, 146, 148, 149, 150, 151, 155, 160, 164, 165, 167, 168, 172, 174, 177, 179, 187, 191]\n"
     ]
    }
   ],
   "source": [
    "\n",
    "#\n",
    "# Be sure to have a sorted list of the indices where the rows are human (feel free to use this!)\n",
    "#\n",
    "\n",
    "human_dataframe = RPS_2022.loc[ RPS_2022['DECISION (H/M)'] == 'human', ['ORIG_INDEX'] ]  # get humans\n",
    "human_array = human_dataframe.to_numpy()     # change to numpy array\n",
    "# print(human_array) \n",
    "\n",
    "human_index_list = human_array.tolist()       # let's get it into a list first...\n",
    "print(human_index_list, \"\\n\")\n",
    "\n",
    "# not required, but we could also take the initial element (and show off LC's)\n",
    "humans = [ L[0] for L in human_index_list ]\n",
    "print(f\"Humans: {humans}\")\n",
    "\n"
   ]
  },
  {
   "cell_type": "code",
   "execution_count": 27,
   "metadata": {},
   "outputs": [
    {
     "name": "stdout",
     "output_type": "stream",
     "text": [
      "[[1], [2], [3], [5], [6], [7], [9], [10], [12], [14], [16], [18], [19], [20], [22], [23], [24], [26], [28], [29], [30], [31], [32], [33], [34], [35], [36], [39], [43], [45], [46], [48], [51], [52], [53], [57], [58], [60], [61], [62], [63], [64], [65], [66], [67], [70], [76], [77], [78], [79], [80], [81], [82], [83], [84], [85], [87], [88], [90], [92], [95], [96], [97], [98], [99], [101], [102], [103], [105], [108], [110], [111], [114], [115], [116], [117], [119], [120], [121], [124], [125], [126], [128], [134], [135], [136], [140], [141], [142], [144], [145], [147], [152], [153], [154], [156], [157], [158], [159], [161], [162], [163], [166], [169], [170], [171], [173], [175], [176], [178], [180], [181], [182], [183], [184], [185], [186], [188], [189], [190], [192]] \n",
      "\n",
      "Machines: [1, 2, 3, 5, 6, 7, 9, 10, 12, 14, 16, 18, 19, 20, 22, 23, 24, 26, 28, 29, 30, 31, 32, 33, 34, 35, 36, 39, 43, 45, 46, 48, 51, 52, 53, 57, 58, 60, 61, 62, 63, 64, 65, 66, 67, 70, 76, 77, 78, 79, 80, 81, 82, 83, 84, 85, 87, 88, 90, 92, 95, 96, 97, 98, 99, 101, 102, 103, 105, 108, 110, 111, 114, 115, 116, 117, 119, 120, 121, 124, 125, 126, 128, 134, 135, 136, 140, 141, 142, 144, 145, 147, 152, 153, 154, 156, 157, 158, 159, 161, 162, 163, 166, 169, 170, 171, 173, 175, 176, 178, 180, 181, 182, 183, 184, 185, 186, 188, 189, 190, 192]\n"
     ]
    }
   ],
   "source": [
    "\n",
    "#\n",
    "# Be sure to have a sorted list of the indices where the rows are machine  (feel free to use this!)\n",
    "#\n",
    "\n",
    "machine_dataframe = RPS_2022.loc[ RPS_2022['DECISION (H/M)'] == 'machine', ['ORIG_INDEX'] ]  # get humans\n",
    "machine_array = machine_dataframe.to_numpy()     # change to numpy array\n",
    "# print(machine_array) \n",
    "\n",
    "machine_index_list = machine_array.tolist()       # let's get it into a list first...\n",
    "print(machine_index_list, \"\\n\")\n",
    "\n",
    "# not required, but we could also take the initial element (and show off LC's)\n",
    "machines = [ L[0] for L in machine_index_list ]\n",
    "print(f\"Machines: {machines}\")"
   ]
  }
 ],
 "metadata": {
  "kernelspec": {
   "display_name": "Python 3",
   "language": "python",
   "name": "python3"
  },
  "language_info": {
   "codemirror_mode": {
    "name": "ipython",
    "version": 3
   },
   "file_extension": ".py",
   "mimetype": "text/x-python",
   "name": "python",
   "nbconvert_exporter": "python",
   "pygments_lexer": "ipython3",
   "version": "3.6.0"
  }
 },
 "nbformat": 4,
 "nbformat_minor": 4
}
