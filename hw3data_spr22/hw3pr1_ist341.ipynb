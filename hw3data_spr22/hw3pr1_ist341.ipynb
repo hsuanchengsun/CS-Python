{
 "cells": [
  {
   "cell_type": "markdown",
   "metadata": {},
   "source": [
    "<br>\n",
    "\n",
    "#### Jason Sun\n",
    "\n",
    "#### Welcome to ist341, week 2 !\n",
    "\n",
    "This notebook combines last week's ideas (loops!) with the previous week's (functions and lists) using the most powerful time-saving capability of programming languages: <i>composition</i>\n",
    "\n",
    "That is, we're diving into <i><b>list comprehensions</b></i> \n",
    "\n",
    "This continues -- in fact, amplifies -- our exploration of randomness to generate insight. Now, you'll be able to run thousands of <i>Monte Carlo simulations</i> to see what results!\n",
    "\n",
    "<hr>"
   ]
  },
  {
   "cell_type": "code",
   "execution_count": 1,
   "metadata": {},
   "outputs": [
    {
     "data": {
      "text/plain": [
       "[0, 2, 4, 6, 8, 10]"
      ]
     },
     "execution_count": 1,
     "metadata": {},
     "output_type": "execute_result"
    }
   ],
   "source": [
    "\n",
    "# let's see an initial LC   (list comprehension)\n",
    "\n",
    "[ 2*x for x in [0,1,2,3,4,5] ]\n",
    "\n",
    "# it _should_ result in     [0, 2, 4, 6, 8, 10]"
   ]
  },
  {
   "cell_type": "code",
   "execution_count": 2,
   "metadata": {},
   "outputs": [
    {
     "name": "stdout",
     "output_type": "stream",
     "text": [
      "[0, 20, 40]\n"
     ]
    }
   ],
   "source": [
    "\n",
    "# let's see three more  list comprehensions.  For sure, we can name them:\n",
    "\n",
    "A  =  [ 10*x for x in [0,1,2,3,4,5] if x%2==0]   # notice the \"if\"! (there's no else...)\n",
    "print(A)"
   ]
  },
  {
   "cell_type": "code",
   "execution_count": 3,
   "metadata": {},
   "outputs": [
    {
     "name": "stdout",
     "output_type": "stream",
     "text": [
      "[0, 21, 42]\n"
     ]
    }
   ],
   "source": [
    "\n",
    "B = [ y*21 for y in list(range(0,3)) ]    # remember what range does?\n",
    "print(B)"
   ]
  },
  {
   "cell_type": "code",
   "execution_count": 4,
   "metadata": {},
   "outputs": [
    {
     "name": "stdout",
     "output_type": "stream",
     "text": [
      "['i', 'C']\n"
     ]
    }
   ],
   "source": [
    "C = [ s[1] for s in [\"hi\", \"5Cs!\"] ]      # doesn't have to be numbers...\n",
    "print(C)"
   ]
  },
  {
   "cell_type": "code",
   "execution_count": null,
   "metadata": {},
   "outputs": [],
   "source": [
    "\n",
    "# First, think about these...\n",
    "\n",
    "\"\"\"\n",
    "A = [ n+2 for n in   range(40,42) ]  \n",
    "B = [ 42 for z in [0,1,2] ]\n",
    "C = [ z for z in [42,42] ]\n",
    "D = [ s[::-2] for s in ['fungic','y!a!y!'] ]\n",
    "L = [ [len(w),w] for w in  ['Hi','IST'] ] \n",
    "\"\"\"\n",
    "\n",
    "# then, see if they work the way you predict..."
   ]
  },
  {
   "cell_type": "code",
   "execution_count": 6,
   "metadata": {},
   "outputs": [
    {
     "data": {
      "text/plain": [
       "[42, 43]"
      ]
     },
     "execution_count": 6,
     "metadata": {},
     "output_type": "execute_result"
    }
   ],
   "source": [
    "[ n+2 for n in   range(40,42) ]  "
   ]
  },
  {
   "cell_type": "code",
   "execution_count": 7,
   "metadata": {},
   "outputs": [
    {
     "data": {
      "text/plain": [
       "[42, 42, 42]"
      ]
     },
     "execution_count": 7,
     "metadata": {},
     "output_type": "execute_result"
    }
   ],
   "source": [
    "[ 42 for z in [0,1,2] ]"
   ]
  },
  {
   "cell_type": "code",
   "execution_count": 8,
   "metadata": {},
   "outputs": [
    {
     "data": {
      "text/plain": [
       "[42, 42]"
      ]
     },
     "execution_count": 8,
     "metadata": {},
     "output_type": "execute_result"
    }
   ],
   "source": [
    "[ z for z in [42,42] ]"
   ]
  },
  {
   "cell_type": "code",
   "execution_count": 9,
   "metadata": {},
   "outputs": [
    {
     "data": {
      "text/plain": [
       "['cgu', '!!!']"
      ]
     },
     "execution_count": 9,
     "metadata": {},
     "output_type": "execute_result"
    }
   ],
   "source": [
    "[ s[::-2] for s in ['fungic','y!a!y!'] ]"
   ]
  },
  {
   "cell_type": "code",
   "execution_count": 10,
   "metadata": {},
   "outputs": [
    {
     "data": {
      "text/plain": [
       "[[2, 'Hi'], [3, 'IST']]"
      ]
     },
     "execution_count": 10,
     "metadata": {},
     "output_type": "execute_result"
    }
   ],
   "source": [
    "[ [len(w),w] for w in  ['Hi','IST'] ] "
   ]
  },
  {
   "cell_type": "markdown",
   "metadata": {},
   "source": [
    "<br>\n",
    "\n",
    "#### Monte Carlo analysis!"
   ]
  },
  {
   "cell_type": "code",
   "execution_count": 11,
   "metadata": {},
   "outputs": [
    {
     "data": {
      "text/plain": [
       "63"
      ]
     },
     "execution_count": 11,
     "metadata": {},
     "output_type": "execute_result"
    }
   ],
   "source": [
    "# \n",
    "# Example while loop: the \"guessing game\"\n",
    "#\n",
    "\n",
    "from random import *\n",
    "\n",
    "def guess( hidden ):\n",
    "    \"\"\"\n",
    "        have the computer guess numbers until it gets the \"hidden\" value\n",
    "        return the number of guesses\n",
    "    \"\"\"\n",
    "    guess = hidden - 1      # start with a wrong guess + don't count it as a guess\n",
    "    number_of_guesses = 0   # start with no guesses made so far...\n",
    "\n",
    "    while guess != hidden:\n",
    "        #print(\"I guess\", guess)  # comment this out - avoid printing when analyzing!\n",
    "        guess = choice( range(0,100) )  # 0 to 99, inclusive\n",
    "        number_of_guesses += 1\n",
    "\n",
    "    return number_of_guesses\n",
    "\n",
    "# test our function!\n",
    "guess(42)"
   ]
  },
  {
   "cell_type": "code",
   "execution_count": 12,
   "metadata": {},
   "outputs": [
    {
     "name": "stdout",
     "output_type": "stream",
     "text": [
      "[259, 160, 82, 39, 24, 43, 6, 112, 1, 146]\n",
      "[210, 47, 7, 52, 20, 102, 159, 8, 44, 37]\n",
      "[16, 1, 146, 35, 16, 194, 2, 162, 20, 43]\n",
      "[148, 253, 445, 50, 125, 117, 218, 61, 280, 4]\n",
      "[271, 57, 22, 385, 146, 124, 120, 301, 80, 155]\n",
      "[140, 22, 107, 30, 2, 56, 1, 7, 73, 219]\n",
      "[34, 49, 65, 192, 7, 48, 59, 48, 235, 180]\n",
      "[68, 178, 477, 6, 24, 37, 92, 67, 32, 260]\n",
      "[136, 48, 162, 198, 12, 53, 12, 67, 456, 19]\n",
      "[128, 293, 9, 33, 55, 219, 131, 159, 76, 132]\n"
     ]
    }
   ],
   "source": [
    "# Let's run 10 number-guessing experiments!\n",
    "\n",
    "#L = [ guess(42) for i in range(10) ]\n",
    "#print(L) \n",
    "\n",
    "# 10 experiments: let's see them!!\n",
    "for j in range(10):\n",
    "    L = [ guess(42) for i in range(10) ]\n",
    "    print(L) "
   ]
  },
  {
   "cell_type": "code",
   "execution_count": 14,
   "metadata": {},
   "outputs": [
    {
     "name": "stdout",
     "output_type": "stream",
     "text": [
      "len(L) is 10\n",
      "average is 184.2\n",
      "max is 574\n",
      "min is 13\n",
      "count of 42 is 0\n",
      "count of 69 is 0\n"
     ]
    }
   ],
   "source": [
    "L = [ guess(42) for i in range(10) ]\n",
    "#\n",
    "# Let's see what the average results were\n",
    "print(\"len(L) is\", len(L))\n",
    "ave = sum(L)/len(L)\n",
    "print(\"average is\", ave )\n",
    "\n",
    "# try min and max, count of 42's, count of 92's, etc.\n",
    "print(\"max is\", max(L) )\n",
    "print(\"min is\", min(L) )\n",
    "print(\"count of 42 is\", L.count(42) )\n",
    "print(\"count of 69 is\", L.count(69) )"
   ]
  },
  {
   "cell_type": "code",
   "execution_count": 16,
   "metadata": {},
   "outputs": [
    {
     "data": {
      "text/plain": [
       "111"
      ]
     },
     "execution_count": 16,
     "metadata": {},
     "output_type": "execute_result"
    }
   ],
   "source": [
    "#\n",
    "# Let's try again... with the dice-rolling experiment\n",
    "#\n",
    "\n",
    "from random import choice\n",
    "\n",
    "def count_doubles( num_rolls ):\n",
    "    \"\"\"\n",
    "        have the computer roll two six-sided dice, counting the # of doubles\n",
    "        (same value on both dice)\n",
    "        Then, return the number of doubles...\n",
    "    \"\"\"\n",
    "    numdoubles = 0       # start with no doubles so far...\n",
    "\n",
    "    for i in range(0,num_rolls):   # roll repeatedly: i keeps track\n",
    "        d1 = choice( [1,2,3,4,5,6] )  # 0 to 6, inclusive\n",
    "        d2 = choice( range(1,7) )     # 0 to 6, inclusive\n",
    "        if d1 == d2:\n",
    "            numdoubles += 1\n",
    "            you = \"🙂\"\n",
    "        else:\n",
    "            you = \" \"\n",
    "        \n",
    "        #print(\"run\", i, \"roll:\", d1, d2, you, flush=True)\n",
    "        #time.sleep(.01)\n",
    "\n",
    "    return numdoubles\n",
    "\n",
    "# test our function!\n",
    "count_doubles(600)"
   ]
  },
  {
   "cell_type": "code",
   "execution_count": 17,
   "metadata": {},
   "outputs": [
    {
     "name": "stdout",
     "output_type": "stream",
     "text": [
      "doubles-counting: L[0:5] are [101, 109, 116, 105, 93]\n",
      "doubles-counting: L[-5:] are [101, 98, 105, 101, 94]\n",
      "len(L) is 1000\n",
      "average is 100.043\n",
      "max is 132\n",
      "min is 62\n",
      "count of 42 is 0\n",
      "count of 69 is 0\n"
     ]
    }
   ],
   "source": [
    "L = [ count_doubles(600) for i in range(1000) ]\n",
    "print(\"doubles-counting: L[0:5] are\", L[0:5])\n",
    "print(\"doubles-counting: L[-5:] are\", L[-5:])\n",
    "#\n",
    "# Let's see what the average results were\n",
    "print(\"len(L) is\", len(L))\n",
    "ave = sum(L)/len(L)\n",
    "print(\"average is\", ave )\n",
    "\n",
    "# try min and max, count of 42's, count of 92's, etc.\n",
    "print(\"max is\", max(L) )\n",
    "print(\"min is\", min(L) )\n",
    "print(\"count of 42 is\", L.count(42) )\n",
    "print(\"count of 69 is\", L.count(69) )"
   ]
  },
  {
   "cell_type": "code",
   "execution_count": 20,
   "metadata": {},
   "outputs": [
    {
     "name": "stdout",
     "output_type": "stream",
     "text": [
      "[18, 165, 235, 321, 111, 104, 246, 347, 239, 271, 265, 234, 150, 206, 70, 361, 105, 172, 145, 182, 251, 15, 62, 66, 143, 88, 356, 51, 316, 244, 25, 328, 348, 21, 307]\n"
     ]
    }
   ],
   "source": [
    "\n",
    "# what about our birthday-room experiment?\n",
    "\n",
    "from random import choice\n",
    "\n",
    "def birthday_room( days_in_year = 365 ):    # note: default input!\n",
    "    \"\"\"\n",
    "        run the birthday room experiment once!\n",
    "    \"\"\"\n",
    "    B = []\n",
    "    next_bday = choice( range(0,days_in_year) )\n",
    "\n",
    "    while next_bday not in B:\n",
    "        B += [ next_bday ]\n",
    "        next_bday = choice( range(0,days_in_year) )\n",
    "\n",
    "    return B\n",
    "\n",
    "\n",
    "\n",
    "# test our three-curtain-game, many times:\n",
    "result = birthday_room()   # use the default value\n",
    "print(result)"
   ]
  },
  {
   "cell_type": "code",
   "execution_count": 21,
   "metadata": {},
   "outputs": [
    {
     "name": "stdout",
     "output_type": "stream",
     "text": [
      "birthday room: L[0:5] are [17, 8, 26, 15, 10]\n",
      "birthday room: L[-5:] are [21, 19, 36, 17, 20]\n",
      "len(L) is 1000\n",
      "average is 23.752\n",
      "max is 77\n",
      "min is 1\n",
      "count of 42 is 14\n",
      "count of 69 is 0\n"
     ]
    }
   ],
   "source": [
    "\n",
    "L = [ len(birthday_room()) for i in range(1000) ]\n",
    "print(\"birthday room: L[0:5] are\", L[0:5])\n",
    "print(\"birthday room: L[-5:] are\", L[-5:])\n",
    "#\n",
    "# Let's see what the average results were\n",
    "print(\"len(L) is\", len(L))\n",
    "ave = sum(L)/len(L)\n",
    "print(\"average is\", ave )\n",
    "\n",
    "# try min and max, count of 42's, count of 92's, etc.\n",
    "print(\"max is\", max(L) )\n",
    "print(\"min is\", min(L) )\n",
    "print(\"count of 42 is\", L.count(42) )\n",
    "print(\"count of 69 is\", L.count(69) )"
   ]
  },
  {
   "cell_type": "code",
   "execution_count": 22,
   "metadata": {},
   "outputs": [
    {
     "data": {
      "text/plain": [
       "95"
      ]
     },
     "execution_count": 22,
     "metadata": {},
     "output_type": "execute_result"
    }
   ],
   "source": [
    "# \n",
    "# Example Monte Carlo simulation: the Monte-Carlo Monte Hall paradox\n",
    "#\n",
    "\n",
    "from random import choice\n",
    "\n",
    "def count_wins( N, original_choice, stay_or_switch ):\n",
    "    \"\"\"\n",
    "        run the Monte Hall paradox N times, with \n",
    "        original_choice, which can be 1, 2, or 3 and\n",
    "        stay_or_switch, which can be \"stay\" or \"switch\"\n",
    "        Count the number of wins and return that number.\n",
    "    \"\"\"\n",
    "    numwins = 0       # start with no wins so far...\n",
    "\n",
    "    for i in range(1,N+1):      # run repeatedly: i keeps track\n",
    "        win_curtain = choice([1,2,3])   # the curtain with the grand prize\n",
    "        original_choice = original_choice      # just a reminder that we have this variable\n",
    "        stay_or_switch = stay_or_switch        # a reminder that we have this, too\n",
    "\n",
    "        result = \"\"\n",
    "        if original_choice == win_curtain and stay_or_switch == \"stay\": result = \" Win!!!\"\n",
    "        elif original_choice == win_curtain and stay_or_switch == \"switch\": result = \"lose...\"\n",
    "        elif original_choice != win_curtain and stay_or_switch == \"stay\": result = \"lose...\"\n",
    "        elif original_choice != win_curtain and stay_or_switch == \"switch\": result = \" Win!!!\"\n",
    "        \n",
    "        #print(\"run\", i, \"you\", result, flush=True)\n",
    "        #time.sleep(.025)\n",
    "\n",
    "        if result == \" Win!!!\":\n",
    "            numwins += 1\n",
    "        \n",
    "\n",
    "    return numwins\n",
    "\n",
    "# test our three-curtain-game, many times:\n",
    "count_wins(300, 1, \"stay\")"
   ]
  },
  {
   "cell_type": "code",
   "execution_count": 23,
   "metadata": {},
   "outputs": [
    {
     "name": "stdout",
     "output_type": "stream",
     "text": [
      "curtain game: L[0:5] are [104, 101, 104, 96, 107]\n",
      "curtain game: L[-5:] are [100, 106, 93, 99, 93]\n",
      "max is 124\n",
      "min is 78\n",
      "count of 42 is 0\n",
      "count of 69 is 0\n"
     ]
    }
   ],
   "source": [
    "\n",
    "L = [ count_wins(300,1,\"stay\") for i in range(1000) ]\n",
    "print(\"curtain game: L[0:5] are\", L[0:5])\n",
    "print(\"curtain game: L[-5:] are\", L[-5:])\n",
    "#\n",
    "# Let's see what the average results were\n",
    "# print(\"len(L) is\", len(L))\n",
    "# ave = sum(L)/len(L)\n",
    "# print(\"average is\", ave )\n",
    "\n",
    "# try min and max, count of 42's, count of 92's, etc.\n",
    "print(\"max is\", max(L) )\n",
    "print(\"min is\", min(L) )\n",
    "print(\"count of 42 is\", L.count(42) )\n",
    "print(\"count of 69 is\", L.count(69) )"
   ]
  },
  {
   "cell_type": "markdown",
   "metadata": {},
   "source": [
    "<br>\n",
    "\n",
    "#### Your analysis:  random walks!"
   ]
  },
  {
   "cell_type": "code",
   "execution_count": 26,
   "metadata": {},
   "outputs": [
    {
     "data": {
      "text/plain": [
       "75"
      ]
     },
     "execution_count": 26,
     "metadata": {},
     "output_type": "execute_result"
    }
   ],
   "source": [
    "#\n",
    "# First, the random-walking code:\n",
    "#\n",
    "\n",
    "import random\n",
    "\n",
    "def rs():\n",
    "    \"\"\"One random step\"\"\"\n",
    "    return random.choice([-1, 1])\n",
    "\n",
    "def rwalk(radius):\n",
    "    \"\"\"Random walk between -radius and +radius  (starting at 0 by default)\"\"\"\n",
    "    totalsteps = 0          # Starting value of totalsteps (_not_ final value!)\n",
    "    start = 0               # Start location (_not_ the total # of steps)\n",
    "\n",
    "    while True:             # Run \"forever\" (really, until a return or break)\n",
    "        if start == -radius or start == radius:   \n",
    "            return totalsteps # Phew!  Return totalsteps (stops the while loop)\n",
    "\n",
    "        start = start + rs()\n",
    "        totalsteps += 1     # addn totalsteps 1 (for all who miss Hmmm :-)\n",
    "\n",
    "        #print(\"at:\", start, flush=True) # To see what's happening / debugging\n",
    "        #ASCII = \"|\" + \"_\"*(start- -radius) + \"S\" + \"_\"*(radius-start) + \"|\"\n",
    "        #print(ASCII, flush=True) # To see what's happening / debugging\n",
    "\n",
    "    # it can never get here!\n",
    "\n",
    "# Let's test it:\n",
    "rwalk(5)   # walk randomly within our radius... until we hit a wall!"
   ]
  },
  {
   "cell_type": "code",
   "execution_count": 28,
   "metadata": {},
   "outputs": [
    {
     "name": "stdout",
     "output_type": "stream",
     "text": [
      "random walk: L[0:5] are [45, 7, 11, 25, 13]\n",
      "random walk: L[-5:] are [31, 11, 13, 5, 39]\n",
      "len(L) is 10000\n",
      "average is 24.9118\n"
     ]
    }
   ],
   "source": [
    "\n",
    "# analyze!\n",
    "# create List Comprehensions that run rwalk(5) 1,000 (or 10,000 times)\n",
    "L = [ rwalk(5) for i in range(10000) ]\n",
    "# see above for examples of how to do this!\n",
    "print(\"random walk: L[0:5] are\", L[0:5])\n",
    "print(\"random walk: L[-5:] are\", L[-5:])\n",
    "# then, find the average of those experiments for rwalk(5)\n",
    "\n",
    "# again, see above for examples of how to take the average of a list\n",
    "print(\"len(L) is\", len(L))\n",
    "ave = sum(L)/len(L)\n",
    "print(\"average is\", ave )\n",
    "# Then, answer this question:\n",
    "# On average, how many steps does it seem to take to get \"to the edge\" when radius = 5?\n",
    "# About 25 steps"
   ]
  },
  {
   "cell_type": "code",
   "execution_count": null,
   "metadata": {},
   "outputs": [],
   "source": [
    "L = [ len(birthday_room()) for i in range(1000) ]\n",
    "print(\"birthday room: L[0:5] are\", L[0:5])\n",
    "print(\"birthday room: L[-5:] are\", L[-5:])\n",
    "#\n",
    "# Let's see what the average results were\n",
    "print(\"len(L) is\", len(L))\n",
    "ave = sum(L)/len(L)\n",
    "print(\"average is\", ave )\n",
    "\n",
    "# try min and max, count of 42's, count of 92's, etc.\n",
    "print(\"max is\", max(L) )\n",
    "print(\"min is\", min(L) )\n",
    "print(\"count of 42 is\", L.count(42) )\n",
    "print(\"count of 69 is\", L.count(69) )"
   ]
  },
  {
   "cell_type": "code",
   "execution_count": null,
   "metadata": {},
   "outputs": [],
   "source": [
    "\n",
    "# Repeat the above for a radius of 6, 7, 8, 9, and 10  \n",
    "# It's fast to do!! "
   ]
  },
  {
   "cell_type": "code",
   "execution_count": 29,
   "metadata": {},
   "outputs": [
    {
     "name": "stdout",
     "output_type": "stream",
     "text": [
      "len(L_6) is 10000\n",
      "average is 36.1628\n"
     ]
    }
   ],
   "source": [
    "L_6 = [ rwalk(6) for i in range(10000) ]\n",
    "print(\"len(L_6) is\", len(L_6))\n",
    "ave = sum(L_6)/len(L_6)\n",
    "print(\"average is\", ave )"
   ]
  },
  {
   "cell_type": "code",
   "execution_count": 30,
   "metadata": {},
   "outputs": [
    {
     "name": "stdout",
     "output_type": "stream",
     "text": [
      "len(L_7) is 10000\n",
      "average is 49.0368\n"
     ]
    }
   ],
   "source": [
    "L_7 = [ rwalk(7) for i in range(10000) ]\n",
    "print(\"len(L_7) is\", len(L_7))\n",
    "ave = sum(L_7)/len(L_7)\n",
    "print(\"average is\", ave )"
   ]
  },
  {
   "cell_type": "code",
   "execution_count": 31,
   "metadata": {},
   "outputs": [
    {
     "name": "stdout",
     "output_type": "stream",
     "text": [
      "len(L_8) is 10000\n",
      "average is 64.951\n"
     ]
    }
   ],
   "source": [
    "L_8 = [ rwalk(8) for i in range(10000) ]\n",
    "print(\"len(L_8) is\", len(L_8))\n",
    "ave = sum(L_8)/len(L_8)\n",
    "print(\"average is\", ave )"
   ]
  },
  {
   "cell_type": "code",
   "execution_count": 32,
   "metadata": {},
   "outputs": [
    {
     "name": "stdout",
     "output_type": "stream",
     "text": [
      "len(L_9) is 10000\n",
      "average is 81.1096\n"
     ]
    }
   ],
   "source": [
    "L_9 = [ rwalk(9) for i in range(10000) ]\n",
    "print(\"len(L_9) is\", len(L_9))\n",
    "ave = sum(L_9)/len(L_9)\n",
    "print(\"average is\", ave )"
   ]
  },
  {
   "cell_type": "code",
   "execution_count": 33,
   "metadata": {},
   "outputs": [
    {
     "name": "stdout",
     "output_type": "stream",
     "text": [
      "len(L_10) is 10000\n",
      "average is 100.2122\n"
     ]
    }
   ],
   "source": [
    "L_10 = [ rwalk(10) for i in range(10000) ]\n",
    "print(\"len(L_10) is\", len(L_10))\n",
    "ave = sum(L_10)/len(L_10)\n",
    "print(\"average is\", ave )"
   ]
  },
  {
   "cell_type": "code",
   "execution_count": null,
   "metadata": {},
   "outputs": [],
   "source": [
    "\n",
    "# In general, how many steps does it seem to take to get \"to the edge\" when radius = N?!\n",
    "\n",
    "# Amazing! It takes N^2 steps when radius = N"
   ]
  },
  {
   "cell_type": "code",
   "execution_count": null,
   "metadata": {},
   "outputs": [],
   "source": [
    "\n",
    "# Suppose you set a random walker walking... with infinite space...\n",
    "\n",
    "# How far away from the start would you expect our walker to be after a hundred steps?\n",
    "\n",
    "# I guess it would be 10 away from the start\n",
    "\n",
    "# How far away from the start would you expect our walker to be after STEPS steps?\n",
    "#     where STEPS is any value...\n",
    "\n",
    "# I believe it would be the square root of the STEPS"
   ]
  },
  {
   "cell_type": "markdown",
   "metadata": {},
   "source": [
    "<br>\n",
    "\n",
    "####  Complete!\n",
    "+ If you've completed these, go ahead and submit this notebook to our Gradescope site.\n",
    "+ If you want more details on this set of looping challenges, here is the [CS5 hw page on them](https://www.cs.hmc.edu/twiki/bin/view/CS5Fall2021/LoopyLogicGold)"
   ]
  }
 ],
 "metadata": {
  "interpreter": {
   "hash": "7ccb4bb6bd67730c9185e6c24c983362cd7b4575b595bfae100d8d91e48f4f1e"
  },
  "kernelspec": {
   "display_name": "Python 3",
   "language": "python",
   "name": "python3"
  },
  "language_info": {
   "codemirror_mode": {
    "name": "ipython",
    "version": 3
   },
   "file_extension": ".py",
   "mimetype": "text/x-python",
   "name": "python",
   "nbconvert_exporter": "python",
   "pygments_lexer": "ipython3",
   "version": "3.6.0"
  }
 },
 "nbformat": 4,
 "nbformat_minor": 2
}
