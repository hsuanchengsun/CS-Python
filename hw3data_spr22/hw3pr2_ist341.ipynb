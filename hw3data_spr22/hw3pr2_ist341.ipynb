{
 "cells": [
  {
   "cell_type": "markdown",
   "metadata": {},
   "source": [
    "<br>\n",
    "\n",
    "#### Welcome to ist341, week 3 !\n",
    "\n",
    "This notebook, <code>hw3pr2_ist341.ipynb</code> presents the pi-estimation problem, \"pi from pie\"\n",
    "\n",
    "Its webpage is at this site: [](https://www.cs.hmc.edu/twiki/bin/view/CS5Fall2021/PiFromPieGold)\n",
    "\n",
    "(Notice that we're in <i>Week 8</i> for the undergraduate course...)\n",
    "\n",
    "<hr>"
   ]
  },
  {
   "cell_type": "code",
   "execution_count": 14,
   "metadata": {},
   "outputs": [
    {
     "name": "stdout",
     "output_type": "stream",
     "text": [
      "result is True\n"
     ]
    }
   ],
   "source": [
    "\n",
    "#\n",
    "# throwing a single dart\n",
    "#\n",
    "\n",
    "import random\n",
    "\n",
    "def dart():\n",
    "    \"\"\"Throws one dart between (-1,-1) and (1,1).\n",
    "       Returns True if it lands in the unit circle; otherwise, False.\n",
    "    \"\"\"\n",
    "    x = random.uniform(-1, 1)\n",
    "    y = random.uniform(-1, 1)\n",
    "    # print(\"(x,y) are\", (x,y))   # you'll want to comment this out...\n",
    "    \n",
    "    if x**2 + y**2 < 1:\n",
    "        return True  # HIT (within the unit circle)\n",
    "    else:\n",
    "        return False # missed (landed in one of the corners)\n",
    "\n",
    "# try it!\n",
    "result = dart()\n",
    "print(\"result is\", result)\n"
   ]
  },
  {
   "cell_type": "code",
   "execution_count": 3,
   "metadata": {},
   "outputs": [
    {
     "name": "stdout",
     "output_type": "stream",
     "text": [
      "(x,y) are (0.2817352751913591, -0.5176067712910017)\n",
      "   HIT the circle!\n",
      "(x,y) are (-0.077115464977074, -0.8869930720444328)\n",
      "   HIT the circle!\n",
      "(x,y) are (0.3134920188605428, 0.6659604190975645)\n",
      "   HIT the circle!\n",
      "(x,y) are (0.9930286578684269, -0.17978690614833193)\n",
      "   missed...\n",
      "(x,y) are (-0.22181266907451413, 0.8730045843832592)\n",
      "   HIT the circle!\n",
      "(x,y) are (-0.839796355035604, 0.4209235313640607)\n",
      "   HIT the circle!\n",
      "(x,y) are (-0.12326474499568185, -0.18871885099462116)\n",
      "   HIT the circle!\n",
      "(x,y) are (-0.19702141327924072, 0.15343848433636564)\n",
      "   HIT the circle!\n",
      "(x,y) are (0.8932054612468401, -0.726150068583129)\n",
      "   missed...\n",
      "(x,y) are (0.03854565715621172, 0.1922558819045299)\n",
      "   HIT the circle!\n",
      "The times for hitting the circle: 8\n",
      "Total throws 10\n"
     ]
    }
   ],
   "source": [
    "\n",
    "# Try it ten times in a loop:\n",
    "n = 0\n",
    "m = 0\n",
    "for i in range(10):\n",
    "    result = dart()\n",
    "    if result == True:\n",
    "        print(\"   HIT the circle!\")\n",
    "        n += 1\n",
    "    else:\n",
    "        print(\"   missed...\")\n",
    "        m += 1\n",
    "\n",
    "print(\"The times for hitting the circle:\", n)\n",
    "print(\"Total throws\", n+m)\n",
    "\n",
    "\n",
    "# try adding up the number of hits, the number of total throws\n",
    "# remember that pi is approximately 4*hits/throws   (cool!)"
   ]
  },
  {
   "cell_type": "code",
   "execution_count": 12,
   "metadata": {},
   "outputs": [
    {
     "name": "stdout",
     "output_type": "stream",
     "text": [
      "(x,y) are (-0.7362308108926132, -0.3003054596703041)\n",
      "1 hits out of 1 throws so that pi is 4.0\n",
      "(x,y) are (0.2380685293123641, -0.006488776942789931)\n",
      "2 hits out of 2 throws so that pi is 4.0\n",
      "(x,y) are (-0.1923390799612854, -0.5559215613828157)\n",
      "3 hits out of 3 throws so that pi is 4.0\n",
      "(x,y) are (0.8853264598962702, 0.8053146874896131)\n",
      "3 hits out of 4 throws so that pi is 3.0\n",
      "(x,y) are (-0.6497499087393064, 0.14216853238803862)\n",
      "4 hits out of 5 throws so that pi is 3.2\n",
      "(x,y) are (0.32322962922343335, 0.22301805589515178)\n",
      "5 hits out of 6 throws so that pi is 3.3333333333333335\n",
      "(x,y) are (-0.42592115346461235, -0.938201159524831)\n",
      "5 hits out of 7 throws so that pi is 2.857142857142857\n",
      "(x,y) are (0.4941137345038109, -0.42879627077323357)\n",
      "6 hits out of 8 throws so that pi is 3.0\n",
      "(x,y) are (0.7333273854258011, 0.8842340438066196)\n",
      "6 hits out of 9 throws so that pi is 2.6666666666666665\n",
      "(x,y) are (-0.6227452735063672, 0.9793885677303662)\n",
      "6 hits out of 10 throws so that pi is 2.4\n"
     ]
    },
    {
     "data": {
      "text/plain": [
       "2.4"
      ]
     },
     "execution_count": 12,
     "metadata": {},
     "output_type": "execute_result"
    }
   ],
   "source": [
    "\n",
    "# \n",
    "# Write forpi(n)\n",
    "#\n",
    "\n",
    "#\n",
    "# For the full explanation, see https://www.cs.hmc.edu/twiki/bin/view/CS5Fall2021/PiFromPieGold\n",
    "#\n",
    "\n",
    "\n",
    "# This is only a starting point\n",
    "def forpi(N):\n",
    "    \"\"\"Throws N darts, estimating pi.\"\"\"\n",
    "    pi = 42     # A suitably poor initial estimate\n",
    "    throws = 0  # No throws yet \n",
    "    hits = 0    # No \"hits\" yet  (hits ~ in the circle)\n",
    "    \n",
    "    for i in range(N):\n",
    "        result = dart()\n",
    "        throws += 1\n",
    "        if result == True:\n",
    "            hits += 1\n",
    "    \n",
    "        print(f'{hits} hits out of {throws} throws so that pi is {4*hits/throws}')\n",
    "    \n",
    "    return 4*hits/throws\n",
    "\n",
    "# Try it!\n",
    "forpi(10)"
   ]
  },
  {
   "cell_type": "code",
   "execution_count": 13,
   "metadata": {},
   "outputs": [
    {
     "name": "stdout",
     "output_type": "stream",
     "text": [
      "(x,y) are (0.511669652959144, -0.09985625831473266)\n",
      "1 hits out of 1 throws so that pi is 4.0\n",
      "(x,y) are (0.821925693835116, -0.18924793576584453)\n",
      "2 hits out of 2 throws so that pi is 4.0\n",
      "(x,y) are (-0.1561390128392368, 0.22865693107223972)\n",
      "3 hits out of 3 throws so that pi is 4.0\n",
      "(x,y) are (0.21023953184622313, -0.9437951767225097)\n",
      "4 hits out of 4 throws so that pi is 4.0\n",
      "(x,y) are (-0.030722814470605986, -0.04770028718302988)\n",
      "5 hits out of 5 throws so that pi is 4.0\n",
      "(x,y) are (0.3898462634731312, 0.8199846930422059)\n",
      "6 hits out of 6 throws so that pi is 4.0\n",
      "(x,y) are (0.9037228826650454, 0.3672542059756987)\n",
      "7 hits out of 7 throws so that pi is 4.0\n",
      "(x,y) are (0.5252543169075019, 0.011257298558024376)\n",
      "8 hits out of 8 throws so that pi is 4.0\n",
      "(x,y) are (-0.5433389758337683, -0.277731824017299)\n",
      "9 hits out of 9 throws so that pi is 4.0\n",
      "(x,y) are (0.25004368152855583, 0.16751459544253278)\n",
      "10 hits out of 10 throws so that pi is 4.0\n",
      "(x,y) are (-0.6710537353535182, 0.6811770213218689)\n",
      "11 hits out of 11 throws so that pi is 4.0\n",
      "(x,y) are (-0.5275692050156084, 0.023497494743075054)\n",
      "12 hits out of 12 throws so that pi is 4.0\n",
      "(x,y) are (-0.16661663177323716, -0.6246272196787381)\n",
      "13 hits out of 13 throws so that pi is 4.0\n",
      "(x,y) are (0.5766254303660778, 0.3915412628018622)\n",
      "14 hits out of 14 throws so that pi is 4.0\n",
      "(x,y) are (-0.009955122989838472, 0.87450202961156)\n",
      "15 hits out of 15 throws so that pi is 4.0\n",
      "(x,y) are (0.35337962865951744, -0.8133908397306124)\n",
      "16 hits out of 16 throws so that pi is 4.0\n",
      "(x,y) are (-0.7345466259504776, -0.16391806707778556)\n",
      "17 hits out of 17 throws so that pi is 4.0\n",
      "(x,y) are (-0.20860803655507643, 0.4368362468671403)\n",
      "18 hits out of 18 throws so that pi is 4.0\n",
      "(x,y) are (-0.9216116508499361, 0.8253360076816609)\n",
      "18 hits out of 19 throws so that pi is 3.789473684210526\n",
      "(x,y) are (0.5815942315716514, 0.9823219174242819)\n",
      "18 hits out of 20 throws so that pi is 3.6\n",
      "(x,y) are (-0.13075256583808814, -0.9224345982238831)\n",
      "19 hits out of 21 throws so that pi is 3.619047619047619\n",
      "(x,y) are (-0.599377609845896, -0.3813844543827003)\n",
      "20 hits out of 22 throws so that pi is 3.6363636363636362\n",
      "(x,y) are (-0.13190304606474013, -0.7215088457241221)\n",
      "21 hits out of 23 throws so that pi is 3.652173913043478\n",
      "(x,y) are (0.6121529674724135, -0.05280284276641334)\n",
      "22 hits out of 24 throws so that pi is 3.6666666666666665\n",
      "(x,y) are (0.8149086102501903, -0.8602314536597453)\n",
      "22 hits out of 25 throws so that pi is 3.52\n",
      "(x,y) are (0.6197021713172002, -0.6399756187769534)\n",
      "23 hits out of 26 throws so that pi is 3.5384615384615383\n",
      "(x,y) are (-0.4659102612904138, -0.8585330629445131)\n",
      "24 hits out of 27 throws so that pi is 3.5555555555555554\n",
      "(x,y) are (-0.9210946360824406, 0.640320943047682)\n",
      "24 hits out of 28 throws so that pi is 3.4285714285714284\n",
      "(x,y) are (-0.36807011034188863, 0.7884462363360538)\n",
      "25 hits out of 29 throws so that pi is 3.4482758620689653\n",
      "(x,y) are (0.7403478222056961, -0.965958360609084)\n",
      "25 hits out of 30 throws so that pi is 3.3333333333333335\n",
      "(x,y) are (-0.5634800996630391, 0.8195100435764187)\n",
      "26 hits out of 31 throws so that pi is 3.3548387096774195\n",
      "(x,y) are (0.46025959802858063, -0.37298660039387554)\n",
      "27 hits out of 32 throws so that pi is 3.375\n",
      "(x,y) are (0.22654307325502043, -0.7876910047222243)\n",
      "28 hits out of 33 throws so that pi is 3.393939393939394\n",
      "(x,y) are (-0.048909599977213114, 0.8619680780319168)\n",
      "29 hits out of 34 throws so that pi is 3.411764705882353\n",
      "(x,y) are (0.262971167358387, 0.90065271050518)\n",
      "30 hits out of 35 throws so that pi is 3.4285714285714284\n",
      "(x,y) are (-0.0888514829772249, 0.5774646250527142)\n",
      "31 hits out of 36 throws so that pi is 3.4444444444444446\n",
      "(x,y) are (0.6742419648929765, 0.1681785926084245)\n",
      "32 hits out of 37 throws so that pi is 3.4594594594594597\n",
      "(x,y) are (0.8492111567097851, -0.4590428587512341)\n",
      "33 hits out of 38 throws so that pi is 3.473684210526316\n",
      "(x,y) are (-0.42838311785053573, -0.22647522844635315)\n",
      "34 hits out of 39 throws so that pi is 3.4871794871794872\n",
      "(x,y) are (0.12195908429761126, 0.8981872788226624)\n",
      "35 hits out of 40 throws so that pi is 3.5\n",
      "(x,y) are (0.8767484774316361, 0.34373512341854884)\n",
      "36 hits out of 41 throws so that pi is 3.5121951219512195\n",
      "(x,y) are (0.834915282152662, 0.9522282605132169)\n",
      "36 hits out of 42 throws so that pi is 3.4285714285714284\n",
      "(x,y) are (-0.3442801728080118, -0.6802665991779855)\n",
      "37 hits out of 43 throws so that pi is 3.441860465116279\n",
      "(x,y) are (-0.0841040554918644, 0.13932955307291306)\n",
      "38 hits out of 44 throws so that pi is 3.4545454545454546\n",
      "(x,y) are (0.6963422915577557, 0.9312820305576781)\n",
      "38 hits out of 45 throws so that pi is 3.3777777777777778\n",
      "(x,y) are (-0.1937249217859216, 0.688950680713933)\n",
      "39 hits out of 46 throws so that pi is 3.391304347826087\n",
      "(x,y) are (-0.5708835122584044, 0.849355638062707)\n",
      "39 hits out of 47 throws so that pi is 3.3191489361702127\n",
      "(x,y) are (-0.9014207648523409, -0.22254610004184472)\n",
      "40 hits out of 48 throws so that pi is 3.3333333333333335\n",
      "(x,y) are (-0.04353539047202726, -0.7933480985451269)\n",
      "41 hits out of 49 throws so that pi is 3.3469387755102042\n",
      "(x,y) are (-0.4996081548793714, 0.19246215267732758)\n",
      "42 hits out of 50 throws so that pi is 3.36\n",
      "(x,y) are (0.4501398200362612, -0.5342999167221625)\n",
      "43 hits out of 51 throws so that pi is 3.372549019607843\n",
      "(x,y) are (0.5398283374602679, 0.5359607676645384)\n",
      "44 hits out of 52 throws so that pi is 3.3846153846153846\n",
      "(x,y) are (-0.7440625664270533, 0.30299379814449034)\n",
      "45 hits out of 53 throws so that pi is 3.3962264150943398\n",
      "(x,y) are (0.29273190117578274, -0.4811934998373195)\n",
      "46 hits out of 54 throws so that pi is 3.4074074074074074\n",
      "(x,y) are (-0.5695247040847562, -0.8361737873282724)\n",
      "46 hits out of 55 throws so that pi is 3.3454545454545452\n",
      "(x,y) are (0.8289918101084686, 0.17948792926444024)\n",
      "47 hits out of 56 throws so that pi is 3.357142857142857\n",
      "(x,y) are (0.29797077328172716, -0.887564434647758)\n",
      "48 hits out of 57 throws so that pi is 3.3684210526315788\n",
      "(x,y) are (0.5114473308377789, 0.6149057739736996)\n",
      "49 hits out of 58 throws so that pi is 3.3793103448275863\n",
      "(x,y) are (0.35116671578489145, -0.3201891644839583)\n",
      "50 hits out of 59 throws so that pi is 3.389830508474576\n",
      "(x,y) are (0.2376349054694702, 0.4725581271352315)\n",
      "51 hits out of 60 throws so that pi is 3.4\n",
      "(x,y) are (-0.34277202304682075, 0.2814821189452128)\n",
      "52 hits out of 61 throws so that pi is 3.4098360655737703\n",
      "(x,y) are (-0.5835821811155064, -0.986374609235332)\n",
      "52 hits out of 62 throws so that pi is 3.3548387096774195\n",
      "(x,y) are (0.7313891742786882, 0.9679168511859921)\n",
      "52 hits out of 63 throws so that pi is 3.3015873015873014\n",
      "(x,y) are (0.21954701038832547, 0.3867247064651904)\n",
      "53 hits out of 64 throws so that pi is 3.3125\n",
      "(x,y) are (0.9976666658097277, 0.3943823418886896)\n",
      "53 hits out of 65 throws so that pi is 3.2615384615384615\n",
      "(x,y) are (-0.1378560592308995, -0.16200045774318017)\n",
      "54 hits out of 66 throws so that pi is 3.272727272727273\n",
      "(x,y) are (-0.7971721891984427, -0.606751209777806)\n",
      "54 hits out of 67 throws so that pi is 3.2238805970149254\n",
      "(x,y) are (-0.5051195199903353, 0.07907280472767919)\n",
      "55 hits out of 68 throws so that pi is 3.235294117647059\n",
      "(x,y) are (-0.22609987790777697, -0.3543715663789502)\n",
      "56 hits out of 69 throws so that pi is 3.246376811594203\n",
      "(x,y) are (0.9927912640696888, -0.42284068188690616)\n",
      "56 hits out of 70 throws so that pi is 3.2\n",
      "(x,y) are (0.3201856733137811, 0.20686798841219933)\n",
      "57 hits out of 71 throws so that pi is 3.211267605633803\n",
      "(x,y) are (-0.32557608519859893, -0.06227148353034928)\n",
      "58 hits out of 72 throws so that pi is 3.2222222222222223\n",
      "(x,y) are (-0.8270767387599691, 0.4796262153620774)\n",
      "59 hits out of 73 throws so that pi is 3.232876712328767\n",
      "(x,y) are (-0.7167916439683264, -0.07728872929573405)\n",
      "60 hits out of 74 throws so that pi is 3.2432432432432434\n",
      "(x,y) are (-0.7193640417763345, 0.07053575039841875)\n",
      "61 hits out of 75 throws so that pi is 3.2533333333333334\n",
      "(x,y) are (-0.8635746310449608, -0.4365350336400522)\n",
      "62 hits out of 76 throws so that pi is 3.263157894736842\n",
      "(x,y) are (0.9706100608840711, 0.6155374061582695)\n",
      "62 hits out of 77 throws so that pi is 3.220779220779221\n",
      "(x,y) are (-0.47329255344106524, -0.32675821555763607)\n",
      "63 hits out of 78 throws so that pi is 3.230769230769231\n",
      "(x,y) are (-0.7833415655222331, -0.9981951853107696)\n",
      "63 hits out of 79 throws so that pi is 3.189873417721519\n",
      "(x,y) are (-0.945407352145351, -0.5921768886357204)\n",
      "63 hits out of 80 throws so that pi is 3.15\n"
     ]
    },
    {
     "data": {
      "text/plain": [
       "80"
      ]
     },
     "execution_count": 13,
     "metadata": {},
     "output_type": "execute_result"
    }
   ],
   "source": [
    "\n",
    "# \n",
    "# Write whilepi(n)\n",
    "#\n",
    "\n",
    "#\n",
    "# For the full explanation, see https://www.cs.hmc.edu/twiki/bin/view/CS5Fall2021/PiFromPieGold\n",
    "#\n",
    "\n",
    "import math\n",
    "\n",
    "# This is only a starting point\n",
    "def whilepi(err):\n",
    "    \"\"\"Throws N darts, estimating pi.\"\"\"\n",
    "    pi = 42     # A suitably poor initial estimate\n",
    "    throws = 0  # No throws yet \n",
    "    hits = 0    # No \"hits\" yet  (hits ~ in the circle)\n",
    "    \n",
    "    while (pi - math.pi) > err:\n",
    "        result = dart()\n",
    "        throws += 1\n",
    "        if result == True:\n",
    "            hits += 1\n",
    "        pi = 4*hits/throws\n",
    "        print(f'{hits} hits out of {throws} throws so that pi is {4*hits/throws}')  \n",
    "    \n",
    "    return throws\n",
    "\n",
    "\n",
    "# Try it!\n",
    "whilepi(.01)"
   ]
  },
  {
   "cell_type": "markdown",
   "metadata": {},
   "source": [
    "<br>\n",
    "\n",
    "#### Analysis:  Now, to put these to use!\n",
    "\n",
    "To analyze these, you'll need to have versions that don't print anything\n",
    "+ They will still return the appropriate value, just as they have been doing above.\n",
    "+ Remember that `forpi(N)` returns the estimate of pi after N throws.\n",
    "+ remember that `whilepi(err)` returns the number of throws to estimate pi within err of 𝝅\n",
    "+ So, to that end, copy, paste, and rename your two functions, `forpi` and `whilepi`:\n",
    "\n",
    "<br>\n",
    "\n",
    "+ Create `forpi_np(N)` — the np means no printing.\n",
    "+ Similarly, create `whilepi_np(err)` \n",
    "\n",
    "<br>\n",
    "\n",
    "Then, using our List Comprehension techniques (see previous problem!), analyze the behavior of our two pi-estimating functions:\n",
    "+ Use `range(1000)` so that you're running 1,000 trials at a time...\n",
    "+ Other values are welcome    (It's surprisingly easy to give your machine much more work than it can handle... perhaps if it's been frustrating you lately?)\n",
    "+ Include answers (in a markdown cell or a comment in a code cell) to answer:\n",
    "\n",
    "<br>\n",
    "\n",
    "Questions:\n",
    "+ On average, how close to 𝝅 does `forpi_np(N)` get when `N = 1, 10, 100, 1000`  ?\n",
    "+ On average, how many throws are needed for `whilepi_np(e)` to get within `e = 1, .1, .01, 0.001` ?\n",
    "+ Note that these don't adhere to a clear function in the way that `rwalk` did...\n",
    "+ Here, the goal is seeing the trends, rather than eliciting an exact relationship.\n",
    "\n",
    "<br>\n",
    "\n",
    "Bigger-picture questions:\n",
    "+ Does forpi or whilepi estimate 𝝅 more efficiently? Why?\n",
    "+ Does forpi or whilepi estimate 𝝅 more accurately? Why?\n",
    "\n",
    "Just one phrase suffices on these, for sure..."
   ]
  },
  {
   "cell_type": "code",
   "execution_count": 15,
   "metadata": {},
   "outputs": [],
   "source": [
    "def forpi_np(N):\n",
    "    \"\"\"Throws N darts, estimating pi.\"\"\"\n",
    "    pi = 42     # A suitably poor initial estimate\n",
    "    throws = 0  # No throws yet \n",
    "    hits = 0    # No \"hits\" yet  (hits ~ in the circle)\n",
    "    \n",
    "    for i in range(N):\n",
    "        result = dart()\n",
    "        throws += 1\n",
    "        if result == True:\n",
    "            hits += 1\n",
    "    \n",
    "    return 4*hits/throws"
   ]
  },
  {
   "cell_type": "code",
   "execution_count": 16,
   "metadata": {},
   "outputs": [],
   "source": [
    "import math\n",
    "\n",
    "def whilepi_np(err):\n",
    "    \"\"\"Throws N darts, estimating pi.\"\"\"\n",
    "    pi = 42     # A suitably poor initial estimate\n",
    "    throws = 0  # No throws yet \n",
    "    hits = 0    # No \"hits\" yet  (hits ~ in the circle)\n",
    "    \n",
    "    while (pi - math.pi) > err:\n",
    "        result = dart()\n",
    "        throws += 1\n",
    "        if result == True:\n",
    "            hits += 1\n",
    "        pi = 4*hits/throws\n",
    "    \n",
    "    return throws"
   ]
  },
  {
   "cell_type": "code",
   "execution_count": 20,
   "metadata": {},
   "outputs": [
    {
     "name": "stdout",
     "output_type": "stream",
     "text": [
      "len(L) is 1000\n",
      "average is 3.204\n",
      "On average, forpi_np(1) is  0.062407346410207065 close to 𝝅.\n"
     ]
    }
   ],
   "source": [
    "# On average, how close to 𝝅 does forpi_np(N) get when N = 1, 10, 100, 1000 ?\n",
    "L = [forpi_np(1) for i in range(1000)]\n",
    "print(\"len(L) is\", len(L))\n",
    "ave = sum(L)/len(L)\n",
    "print(\"average is\", ave )\n",
    "print(\"On average, forpi_np(1) is \", abs(ave - math.pi), \"close to 𝝅.\" )"
   ]
  },
  {
   "cell_type": "code",
   "execution_count": 21,
   "metadata": {},
   "outputs": [
    {
     "name": "stdout",
     "output_type": "stream",
     "text": [
      "len(L) is 1000\n",
      "average is 3.159599999999988\n",
      "On average, forpi_np(10) is  0.01800734641019508 close to 𝝅.\n"
     ]
    }
   ],
   "source": [
    "# On average, how close to 𝝅 does forpi_np(N) get when N = 1, 10, 100, 1000 ?\n",
    "L = [forpi_np(10) for i in range(1000)]\n",
    "print(\"len(L) is\", len(L))\n",
    "ave = sum(L)/len(L)\n",
    "print(\"average is\", ave )\n",
    "print(\"On average, forpi_np(10) is \", abs(ave - math.pi), \"close to 𝝅.\" )"
   ]
  },
  {
   "cell_type": "code",
   "execution_count": 22,
   "metadata": {},
   "outputs": [
    {
     "name": "stdout",
     "output_type": "stream",
     "text": [
      "len(L) is 1000\n",
      "average is 3.150239999999988\n",
      "On average, forpi_np(100) is  0.008647346410195045 close to 𝝅.\n"
     ]
    }
   ],
   "source": [
    "# On average, how close to 𝝅 does forpi_np(N) get when N = 1, 10, 100, 1000 ?\n",
    "L = [forpi_np(100) for i in range(1000)]\n",
    "print(\"len(L) is\", len(L))\n",
    "ave = sum(L)/len(L)\n",
    "print(\"average is\", ave )\n",
    "print(\"On average, forpi_np(100) is \", abs(ave - math.pi), \"close to 𝝅.\" )"
   ]
  },
  {
   "cell_type": "code",
   "execution_count": 23,
   "metadata": {},
   "outputs": [
    {
     "name": "stdout",
     "output_type": "stream",
     "text": [
      "len(L) is 1000\n",
      "average is 3.1423599999999974\n",
      "On average, forpi_np(1000) is  0.0007673464102042615 close to 𝝅.\n"
     ]
    }
   ],
   "source": [
    "# On average, how close to 𝝅 does forpi_np(N) get when N = 1, 10, 100, 1000 ?\n",
    "L = [forpi_np(1000) for i in range(1000)]\n",
    "print(\"len(L) is\", len(L))\n",
    "ave = sum(L)/len(L)\n",
    "print(\"average is\", ave )\n",
    "print(\"On average, forpi_np(1000) is \", abs(ave - math.pi), \"close to 𝝅.\" )"
   ]
  },
  {
   "cell_type": "code",
   "execution_count": 26,
   "metadata": {},
   "outputs": [
    {
     "name": "stdout",
     "output_type": "stream",
     "text": [
      "len(L) is 1000\n",
      "average is 1.0\n",
      "On average, it takes  1.0  times to estimate 𝝅 withing error = 1.\n"
     ]
    }
   ],
   "source": [
    "# On average, how many throws are needed for whilepi_np(e) to get within e = 1, .1, .01, 0.001 ?\n",
    "\n",
    "L = [whilepi_np(1) for i in range(1000)]\n",
    "print(\"len(L) is\", len(L))\n",
    "ave = sum(L)/len(L)\n",
    "print(\"average is\", ave )\n",
    "print(\"On average, it takes \", ave, \" times to estimate 𝝅 withing error = 1.\" )"
   ]
  },
  {
   "cell_type": "code",
   "execution_count": 27,
   "metadata": {},
   "outputs": [
    {
     "name": "stdout",
     "output_type": "stream",
     "text": [
      "len(L) is 1000\n",
      "average is 17.476\n",
      "On average, it takes  17.476  times to estimate 𝝅 withing error = 0.1.\n"
     ]
    }
   ],
   "source": [
    "# On average, how many throws are needed for whilepi_np(e) to get within e = 1, .1, .01, 0.001 ?\n",
    "\n",
    "L = [whilepi_np(0.1) for i in range(1000)]\n",
    "print(\"len(L) is\", len(L))\n",
    "ave = sum(L)/len(L)\n",
    "print(\"average is\", ave )\n",
    "print(\"On average, it takes \", ave, \" times to estimate 𝝅 withing error = 0.1.\" )"
   ]
  },
  {
   "cell_type": "code",
   "execution_count": 28,
   "metadata": {},
   "outputs": [
    {
     "name": "stdout",
     "output_type": "stream",
     "text": [
      "len(L) is 1000\n",
      "average is 105.063\n",
      "On average, it takes  105.063  times to estimate 𝝅 withing error = 0.01.\n"
     ]
    }
   ],
   "source": [
    "# On average, how many throws are needed for whilepi_np(e) to get within e = 1, .1, .01, 0.001 ?\n",
    "\n",
    "L = [whilepi_np(0.01) for i in range(1000)]\n",
    "print(\"len(L) is\", len(L))\n",
    "ave = sum(L)/len(L)\n",
    "print(\"average is\", ave )\n",
    "print(\"On average, it takes \", ave, \" times to estimate 𝝅 withing error = 0.01.\" )"
   ]
  },
  {
   "cell_type": "code",
   "execution_count": 30,
   "metadata": {},
   "outputs": [
    {
     "name": "stdout",
     "output_type": "stream",
     "text": [
      "len(L) is 1000\n",
      "average is 9752.971\n",
      "On average, it takes  9752.971  times to estimate 𝝅 withing error = 0.001.\n"
     ]
    }
   ],
   "source": [
    "# On average, how many throws are needed for whilepi_np(e) to get within e = 1, .1, .01, 0.001 ?\n",
    "\n",
    "L = [whilepi_np(0.001) for i in range(1000)]\n",
    "print(\"len(L) is\", len(L))\n",
    "ave = sum(L)/len(L)\n",
    "print(\"average is\", ave )\n",
    "print(\"On average, it takes \", ave, \" times to estimate 𝝅 withing error = 0.001.\" )"
   ]
  },
  {
   "cell_type": "markdown",
   "metadata": {},
   "source": [
    "\n",
    "\n",
    "#  Feel free to use several cells to share your analysis...\n",
    "\n",
    "### Does forpi or whilepi estimate 𝝅 more efficiently? Why?\n",
    "#### In my opinion, I would say the forpi function would be more efficient than whilepi to estimate 𝝅 since we only need to set N = 1 in the forpi then we can get the error less than 0.1. On the other hand, it takes whilepi about 20 times to estimate the 𝝅 within the error rate of 0.1. Therefore, I think forpi is more efficient.\n",
    "\n",
    "### Does forpi or whilepi estimate 𝝅 more accurately? Why?\n",
    "#### I would say the whilepi is more accurate because we can control the error rate while we can only know the error rate for the forpi function. However, it takes more time for the whilepi to work to satisfy the error rate we want."
   ]
  },
  {
   "cell_type": "markdown",
   "metadata": {},
   "source": [
    "<br>\n",
    "\n",
    "####  Complete!\n",
    "+ With implementations and analysis, you're set!\n",
    "\n",
    "<br>\n",
    "\n",
    "Then, submit this to its Gradescope spot..."
   ]
  }
 ],
 "metadata": {
  "interpreter": {
   "hash": "7ccb4bb6bd67730c9185e6c24c983362cd7b4575b595bfae100d8d91e48f4f1e"
  },
  "kernelspec": {
   "display_name": "Python 3",
   "language": "python",
   "name": "python3"
  },
  "language_info": {
   "codemirror_mode": {
    "name": "ipython",
    "version": 3
   },
   "file_extension": ".py",
   "mimetype": "text/x-python",
   "name": "python",
   "nbconvert_exporter": "python",
   "pygments_lexer": "ipython3",
   "version": "3.6.0"
  }
 },
 "nbformat": 4,
 "nbformat_minor": 2
}
