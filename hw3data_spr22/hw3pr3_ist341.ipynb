{
 "cells": [
  {
   "cell_type": "markdown",
   "metadata": {},
   "source": [
    "<br>\n",
    "\n",
    "#### Welcome to ist341, weeks 2/3 PythonBat problem!\n",
    "\n",
    "This notebook has a single cell, to hold your [PythonBat](https://codingbat.com/python) solutions:\n",
    "+ Here is the [PythonBat loops problem page description and explanation](https://www.cs.hmc.edu/twiki/bin/view/CS5Fall2020/GoldHw8Pr2)\n",
    "+ You _should_ include your functions here, pasted in the cell below\n",
    "+ However, you _don't_ need doctrings\n",
    "+ nor do you need tests (PythonBat itself will run all of the tests!)\n",
    "\n",
    "Do be sure to \"share\" your PythonBat results with me at <tt>dodds@cs.hmc.edu</tt>\n",
    "\n",
    "Remember that the goal is not all of the problems, it's \n",
    "+ ten (25) of the problems - your choice - from the 21 non-looping problems at [PythonBat](https://codingbat.com/python)\n",
    "  + Nine (9) Warmup-2 problems\n",
    "  + Six (6) Sring-2 problems\n",
    "  + Six (6) List-2 problems\n",
    "\n",
    "<br>\n",
    "\n",
    "+ Any of the other half (the other 11, in fact) can be done for extra-credit.\n",
    "+ Warning:  PythonBat loops can also be addictive!\n",
    "<hr>"
   ]
  },
  {
   "cell_type": "code",
   "execution_count": 11,
   "metadata": {},
   "outputs": [],
   "source": [
    "A = [0, 1]"
   ]
  },
  {
   "cell_type": "code",
   "execution_count": 12,
   "metadata": {},
   "outputs": [],
   "source": [
    "B = A.copy()"
   ]
  },
  {
   "cell_type": "code",
   "execution_count": 13,
   "metadata": {},
   "outputs": [
    {
     "data": {
      "text/plain": [
       "[0, 1]"
      ]
     },
     "execution_count": 13,
     "metadata": {},
     "output_type": "execute_result"
    }
   ],
   "source": [
    "B"
   ]
  },
  {
   "cell_type": "code",
   "execution_count": 14,
   "metadata": {},
   "outputs": [],
   "source": [
    "A[0] = 2"
   ]
  },
  {
   "cell_type": "code",
   "execution_count": 15,
   "metadata": {},
   "outputs": [
    {
     "data": {
      "text/plain": [
       "[2, 1]"
      ]
     },
     "execution_count": 15,
     "metadata": {},
     "output_type": "execute_result"
    }
   ],
   "source": [
    "A"
   ]
  },
  {
   "cell_type": "code",
   "execution_count": 16,
   "metadata": {},
   "outputs": [
    {
     "data": {
      "text/plain": [
       "[0, 1]"
      ]
     },
     "execution_count": 16,
     "metadata": {},
     "output_type": "execute_result"
    }
   ],
   "source": [
    "B"
   ]
  },
  {
   "cell_type": "code",
   "execution_count": 1,
   "metadata": {},
   "outputs": [],
   "source": [
    "#\n",
    "# paste your PythonBat functions into this cell:\n",
    "#\n",
    "# we start you off with an example named double_char:\n",
    "#\n",
    "\n",
    "def string_times(str, n):\n",
    "  return str*n\n",
    "\n",
    "def front_times(str, n):\n",
    "  return str[0:3]*n\n",
    "\n",
    "def string_bits(str):\n",
    "  return(str[::2])\n",
    "\n",
    "def string_splosion(str):\n",
    "  s = ''\n",
    "  for i in range(len(str)):\n",
    "    s += str[:i+1]\n",
    "  return s\n",
    "\n",
    "def last2(str):\n",
    "  n = 0\n",
    "  for i in range(len(str)-2):\n",
    "    if str[i:i+2] == str[-2:]:\n",
    "      n += 1\n",
    "  return n\n",
    "\n",
    "def array_count9(nums):\n",
    "  return nums.count(9)\n",
    "\n",
    "def array_front9(nums):\n",
    "  if 9 in nums[0:4]:\n",
    "    return True\n",
    "  else: return False\n",
    "    \n",
    "def string_match(a, b):\n",
    "  m = min(len(a), len(b))\n",
    "  n = 0\n",
    "  for i in range(m-1):\n",
    "    if a[i:i+2] == b[i:i+2]:\n",
    "      n +=1\n",
    "  return n\n",
    "\n",
    "def double_char(str):\n",
    "  result = ''\n",
    "  for i in str:\n",
    "    result += i * 2\n",
    "  return result\n",
    "\n",
    "def count_hi(str):\n",
    "  return str.count('hi')\n",
    "\n",
    "def cat_dog(str):\n",
    "  if str.count('cat') == str.count('dog'):\n",
    "    return True\n",
    "  else: return False\n",
    "    \n",
    "def count_code(str):\n",
    "  n = 0\n",
    "  for i in range(len(str)-3):\n",
    "    if str[i] == 'c' and str[i+1] == 'o' and str[i+3] == 'e':\n",
    "      n += 1\n",
    "  return n\n",
    "\n",
    "def end_other(a, b):\n",
    "  n = len(a)\n",
    "  m = len(b)\n",
    "  if n >= m:\n",
    "    if a[(-m):].lower() == b.lower():\n",
    "      return True\n",
    "    else: return False\n",
    "  else:\n",
    "    if b[(-n):].lower() == a.lower():\n",
    "      return True\n",
    "    else: return False\n",
    "    \n",
    "def xyz_there(str):\n",
    "  for i in range(len(str)-2):\n",
    "    if str[i] == 'x' and str[i+1] == 'y' and str[i+2] == 'z' and i != 0:\n",
    "      if str[i-1] == '.':\n",
    "        pass\n",
    "      else: return True\n",
    "    elif str[i] == 'x' and str[i+1] == 'y' and str[i+2] == 'z' and i == 0:\n",
    "      return True\n",
    "  return False\n",
    "\n",
    "def count_evens(nums):\n",
    "  n = 0\n",
    "  for i in nums:\n",
    "    if i % 2 == 0:\n",
    "      n += 1\n",
    "  return n\n",
    "\n",
    "def big_diff(nums):\n",
    "  return max(nums) - min(nums)\n",
    "\n",
    "def centered_average(nums):\n",
    "  nums.remove(max(nums))\n",
    "  nums.remove(min(nums))\n",
    "  return sum(nums)/len(nums)\n",
    "\n",
    "def sum13(nums):\n",
    "  n = 0\n",
    "  for i in range(0, len(nums)):\n",
    "    if nums[i] != 13:\n",
    "      if i == 0:\n",
    "        n += nums[i]\n",
    "      else: \n",
    "        if nums[i-1] != 13:\n",
    "          n += nums[i]\n",
    "  return n\n",
    "\n",
    "\n",
    "def has22(nums):\n",
    "  for i in range(len(nums)-1):\n",
    "    if nums[i] == 2:\n",
    "      if nums[i+1] == 2:\n",
    "        return True\n",
    "  return False"
   ]
  },
  {
   "cell_type": "markdown",
   "metadata": {},
   "source": [
    "####  Complete!\n",
    "+ If you've completed these, go ahead and submit this notebook to our Gradescope site.\n"
   ]
  }
 ],
 "metadata": {
  "interpreter": {
   "hash": "7ccb4bb6bd67730c9185e6c24c983362cd7b4575b595bfae100d8d91e48f4f1e"
  },
  "kernelspec": {
   "display_name": "Python 3",
   "language": "python",
   "name": "python3"
  },
  "language_info": {
   "codemirror_mode": {
    "name": "ipython",
    "version": 3
   },
   "file_extension": ".py",
   "mimetype": "text/x-python",
   "name": "python",
   "nbconvert_exporter": "python",
   "pygments_lexer": "ipython3",
   "version": "3.6.0"
  }
 },
 "nbformat": 4,
 "nbformat_minor": 2
}
