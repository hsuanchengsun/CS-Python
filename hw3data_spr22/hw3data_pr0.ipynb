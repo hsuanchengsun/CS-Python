{
 "cells": [
  {
   "cell_type": "markdown",
   "metadata": {},
   "source": [
    "<br>\n",
    "\n",
    "#### week3 ~ \"looking at the data...\"  &nbsp;&nbsp; (hw3pr0.ipynb)\n",
    "\n",
    "[the google doc with hw3's details](https://docs.google.com/document/d/1xn3-Nii99ctZ8FUdn_vttlJhCPWbtEZRrqj2CFtJn2k/edit)\n",
    "<hr>"
   ]
  },
  {
   "cell_type": "markdown",
   "metadata": {},
   "source": [
    "<br>\n",
    "\n",
    "#### Reading for hw3...     (hw3pr0.ipynb)\n",
    "\n",
    "Because we will transition into AI/Machine Learning for the next few weeks, this week's reading takes a big-picture view: it's a NYTimes article - from a couple of years ago - setting out how we might pursue and regulate AI:\n",
    "+ [How to Regulate Artificial Intelligence](https://www.nytimes.com/2017/09/01/opinion/artificial-intelligence-regulations-rules.html)\n",
    "+ [locally-hosted pdf copy](https://drive.google.com/file/d/1EZcygQdk40J0dJTZ1vp0F20rIoQU27nH/view)\n",
    "\n",
    "Consider Etzioni's three proposed principles, elaborating Isaac Asimov's \"laws\":\n",
    "+ AIs must obey human society's laws\n",
    "+ AIs must disclose themselves as such\n",
    "+ AIs cannot retain confidential information (w/o permission)\n",
    "\n",
    "Choose one (or more) of these principles with which to agree or disagree, bringing in your own experience and perspective. \n",
    "\n",
    "Alternative paths and balancing acts welcome! \n",
    "\n",
    "<br>\n",
    "\n",
    "The optimism/pessimism/regulation landscape is shifting so fast as to be unclassifiable:\n",
    "+ Corporate titans such as Meta and Tesla (and their CEOs) have [disagreed about AI-optimism in the past](https://www.businessinsider.com/mark-zuckerberg-said-elon-musks-doomsday-ai-predictions-are-irresponsible-2017-7)\n",
    "+ The economist ran a techno-optimistic piece about a year ago: [Why a dawn of technological optimism is breaking](https://www.economist.com/leaders/2021/01/16/why-a-dawn-of-technological-optimism-is-breaking)\n",
    "+ No need to use/read these... \n",
    "  + ... they're just a reminder that there's very little consensus in this space at the moment, <i>even within single individuals</i>\n",
    "\n",
    "<hr>"
   ]
  },
  {
   "cell_type": "markdown",
   "metadata": {},
   "source": [
    "#### Reading response\n",
    "\n",
    "(Feel free to use this cell for your response.)"
   ]
  },
  {
   "cell_type": "markdown",
   "metadata": {},
   "source": [
    "I would agree that AIs cannot retain confidential information since I believe privacy is still more valuable than other features such as convenience and speed. Now AI is able to collect data and analyze them with the advanced hardware and software in human's daily life. For example, most people have smartphones and computers. Also, our living environment is full of smart devices, so it would not be a difficult problem for AIs to get data from us. However, the information in such an environment is very confidential for individuals and humans. In society, people could not access the information if individuals do not want others to know. We have severe regulations to control those people who are going to know others' private data. Even they are doubted to involve in crimes, the process to access their information is not easy and should be based on reasonable evidence. Therefore, we could know that such privacy is a priority in human society. If AI could easily get confidential information, that would be a disaster for our privacy. It would be like someone you do not know is monitoring your life. In my personal experience, for instance, I really hate to see the advertisement on my smartphone that shows what I would like to buy that I have told in a chat with my friend several days ago. That looks like my phone is collecting my data and using that to understand my needs and send the related advertisement for me. It is really awful to get such an experience and you may doubt what you have said is all recorded by your smart device. Hence, I totally agree that AIs cannot retain confidential information."
   ]
  },
  {
   "cell_type": "code",
   "execution_count": null,
   "metadata": {},
   "outputs": [],
   "source": []
  }
 ],
 "metadata": {
  "interpreter": {
   "hash": "7ccb4bb6bd67730c9185e6c24c983362cd7b4575b595bfae100d8d91e48f4f1e"
  },
  "kernelspec": {
   "display_name": "Python 3",
   "language": "python",
   "name": "python3"
  },
  "language_info": {
   "codemirror_mode": {
    "name": "ipython",
    "version": 3
   },
   "file_extension": ".py",
   "mimetype": "text/x-python",
   "name": "python",
   "nbconvert_exporter": "python",
   "pygments_lexer": "ipython3",
   "version": "3.6.0"
  }
 },
 "nbformat": 4,
 "nbformat_minor": 2
}
