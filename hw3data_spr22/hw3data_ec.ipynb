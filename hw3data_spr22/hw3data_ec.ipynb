{
 "cells": [
  {
   "cell_type": "markdown",
   "metadata": {},
   "source": [
    "<br>\n",
    "\n",
    "#### hw3ec.ipynb ~ wk3's chapter of our Lost Grutor challenge...   &nbsp;&nbsp; (hw2pr0.ipynb)\n",
    "+ more detail at the [hw3 page](https://docs.google.com/document/d/1xn3-Nii99ctZ8FUdn_vttlJhCPWbtEZRrqj2CFtJn2k/edit)\n",
    "\n",
    "<hr>\n",
    "\n",
    "The Lost Grutor has left an as-yet-undecoded message..."
   ]
  },
  {
   "cell_type": "code",
   "execution_count": null,
   "metadata": {},
   "outputs": [],
   "source": [
    "\n",
    "#\n",
    "# Let's be sure that key.csv and secret_message.csv are present in the current directory\n",
    "#\n",
    "\n",
    "%ls *.csv"
   ]
  },
  {
   "cell_type": "markdown",
   "metadata": {},
   "source": [
    "<br>\n",
    "\n",
    "#### Additional links\n",
    "+ [the hw3 Lost Grutor page](https://docs.google.com/document/d/1V7HoLy1GtaQMXbm5yy2cR_MZmR4jV4Soa3ffn-XjhbY/edit)\n",
    "+ [the hw3 secret_message dataset, as a Google sheet](https://docs.google.com/spreadsheets/d/1Vbh-xD4RoWXBEXmOav4hG_iz3dM2QFes18qAbTVvgOA/edit#gid=2091608176)\n",
    "  + If it's not present, you'll be able to grab it from there (as a csv...)\n",
    "\n",
    "<br>\n",
    "\n",
    "#### Good luck!!"
   ]
  }
 ],
 "metadata": {
  "interpreter": {
   "hash": "7ccb4bb6bd67730c9185e6c24c983362cd7b4575b595bfae100d8d91e48f4f1e"
  },
  "kernelspec": {
   "display_name": "Python 3.8.8 64-bit (conda)",
   "language": "python",
   "name": "python3"
  },
  "language_info": {
   "codemirror_mode": {
    "name": "ipython",
    "version": 3
   },
   "file_extension": ".py",
   "mimetype": "text/x-python",
   "name": "python",
   "nbconvert_exporter": "python",
   "pygments_lexer": "ipython3",
   "version": "3.10.2"
  },
  "orig_nbformat": 4
 },
 "nbformat": 4,
 "nbformat_minor": 2
}
