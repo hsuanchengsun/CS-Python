{
 "cells": [
  {
   "cell_type": "markdown",
   "metadata": {},
   "source": [
    "#### Welcome to ist341, week 1 !\n",
    "This notebook practices some additional Python skills, especially practicing with slicing and indexing strings and lists\n",
    "\n",
    "<hr>"
   ]
  },
  {
   "cell_type": "markdown",
   "metadata": {},
   "source": [
    "#### Part A: Lists\n",
    "\n",
    "Your task is to create _new_ lists by slicing-indexing-and-adding others...\n",
    "+ Extra challenge: see how few operations you can use\n",
    "+ Note: this extra challenge is not required at all (it _can_ be fun: if it's not, ignore!)"
   ]
  },
  {
   "cell_type": "code",
   "execution_count": 1,
   "metadata": {},
   "outputs": [
    {
     "name": "stdout",
     "output_type": "stream",
     "text": [
      "pi is [3, 1, 4, 1, 5, 9]\n",
      "e is [2, 7, 1]\n"
     ]
    }
   ],
   "source": [
    "#\n",
    "# here are two lists...\n",
    "#\n",
    "\n",
    "pi = [3, 1, 4, 1, 5, 9]\n",
    "e = [2, 7, 1]\n",
    "\n",
    "print(\"pi is\", pi)\n",
    "print(\"e is\", e)"
   ]
  },
  {
   "cell_type": "code",
   "execution_count": 2,
   "metadata": {},
   "outputs": [
    {
     "name": "stdout",
     "output_type": "stream",
     "text": [
      "answer0: [2, 7, 5, 9]\n"
     ]
    }
   ],
   "source": [
    "#\n",
    "# problem 0:   create the list [2, 7, 5, 9]\n",
    "# \n",
    "\n",
    "# This one we answer, as an example\n",
    "#    reasoning:  \"The [2,7] is there at the front of e!\"\n",
    "#    then:       \"Aha! The [5,9] is there are the end of pi!\"\n",
    "\n",
    "answer0 = e[0:2] + pi[-2:]  \n",
    "print(\"answer0:\", answer0)"
   ]
  },
  {
   "cell_type": "markdown",
   "metadata": {},
   "source": [
    "Now, try it for these next four... \n",
    "Feel free to use\n",
    "+ slicing, such as <tt>e[1:]</tt>, which is <tt>[7,1]</tt>\n",
    "+ indexing, such as <tt>pi[0]</tt>, which is <tt>3</tt>\n",
    "+ list brackets, such as <tt>[ pi[0] ]</tt>, which is <tt>[3]</tt>\n",
    "+ adding, such as <tt>e[1:] + pi[0:1]</tt>, which is <tt>[7,1,3]</tt>"
   ]
  },
  {
   "cell_type": "code",
   "execution_count": 4,
   "metadata": {},
   "outputs": [
    {
     "name": "stdout",
     "output_type": "stream",
     "text": [
      "answer1: [7, 1]\n"
     ]
    }
   ],
   "source": [
    "#\n",
    "# A reminder of the two lists:\n",
    "#   pi = [3, 1, 4, 1, 5, 9]\n",
    "#   e = [2, 7, 1]\n",
    "\n",
    "#\n",
    "# problem 1:   create the list [7,1]\n",
    "# \n",
    "\n",
    "# this answer is wrong -- it's [7] -- see if you can fix it!\n",
    "answer1 = e[1:3]\n",
    "print(\"answer1:\", answer1)"
   ]
  },
  {
   "cell_type": "code",
   "execution_count": 7,
   "metadata": {},
   "outputs": [
    {
     "name": "stdout",
     "output_type": "stream",
     "text": [
      "answer2: [9, 1, 1]\n"
     ]
    }
   ],
   "source": [
    "#\n",
    "# A reminder of the two lists:\n",
    "#   pi = [3, 1, 4, 1, 5, 9]\n",
    "#   e = [2, 7, 1]\n",
    "\n",
    "#\n",
    "# problem 2:   create the list [9, 1, 1]   Store in answer2\n",
    "# \n",
    "\n",
    "# continue in the same pattern as above...\n",
    "\n",
    "answer2 = pi[-1::-2]\n",
    "print(\"answer2:\", answer2)"
   ]
  },
  {
   "cell_type": "code",
   "execution_count": 8,
   "metadata": {},
   "outputs": [
    {
     "name": "stdout",
     "output_type": "stream",
     "text": [
      "answer3: [1, 4, 1, 5, 9]\n"
     ]
    }
   ],
   "source": [
    "#\n",
    "# A reminder of the two lists:\n",
    "#   pi = [3, 1, 4, 1, 5, 9]\n",
    "#   e = [2, 7, 1]\n",
    "\n",
    "#\n",
    "# problem 3:   create the list [1, 4, 1, 5, 9]       Store in answer3\n",
    "# \n",
    "\n",
    "# continue in the same pattern as above...\n",
    "answer3 = pi[1:]\n",
    "print(\"answer3:\", answer3)"
   ]
  },
  {
   "cell_type": "code",
   "execution_count": 10,
   "metadata": {},
   "outputs": [
    {
     "name": "stdout",
     "output_type": "stream",
     "text": [
      "answer4: [1, 2, 3, 4, 5]\n"
     ]
    }
   ],
   "source": [
    "#\n",
    "# A reminder of the two lists:\n",
    "#   pi = [3, 1, 4, 1, 5, 9]\n",
    "#   e = [2, 7, 1]\n",
    "\n",
    "#\n",
    "# problem 4:   create the list [1, 2, 3, 4, 5]       Store in answer4\n",
    "# \n",
    "\n",
    "# continue in the same way as above...\n",
    "answer4 = pi[1:2] + e[0:1] + pi[0:1] + pi[2:3] + pi[4:5]\n",
    "print(\"answer4:\", answer4)"
   ]
  },
  {
   "cell_type": "markdown",
   "metadata": {},
   "source": [
    "#### String slicing and indexing\n",
    "This problem continues in the style of the last one, but uses strings rather than lists.  Onward!\n"
   ]
  },
  {
   "cell_type": "code",
   "execution_count": 11,
   "metadata": {},
   "outputs": [],
   "source": [
    "#\n",
    "# Here are the three strings to use:\n",
    "#\n",
    "h = 'harvey'\n",
    "m = 'mudd'\n",
    "c = 'college'"
   ]
  },
  {
   "cell_type": "code",
   "execution_count": 12,
   "metadata": {},
   "outputs": [
    {
     "name": "stdout",
     "output_type": "stream",
     "text": [
      "answer5 is hey\n"
     ]
    }
   ],
   "source": [
    "#\n",
    "# A reminder of the three strings:\n",
    "#    h = 'harvey'\n",
    "#    m = 'mudd'\n",
    "#    c = 'college'\n",
    "\n",
    "#\n",
    "# problem 5:   use h, m, and c to create 'hey'    Store in answer5\n",
    "#\n",
    "\n",
    "#\n",
    "# Answer and thought process:\n",
    "#     \"Aha! everything we need is in h!\"\n",
    "#     \"the 'h' is the zero-th character in h:  h[0]\"\n",
    "#     \"the 'ey' is at the end of h:  h[-2:]\"\n",
    "#     \"So, it will be h[0] + h[-2:]\"\n",
    "\n",
    "answer5 = h[0] + h[-2:]\n",
    "print(\"answer5 is\", answer5)\n",
    "\n",
    "\n",
    "# remember: your answers don't need to be especially short...\n",
    "# our shortest result was 3 operations: one index, one slice, one addition"
   ]
  },
  {
   "cell_type": "code",
   "execution_count": 14,
   "metadata": {},
   "outputs": [
    {
     "name": "stdout",
     "output_type": "stream",
     "text": [
      "answer6 is collude\n"
     ]
    }
   ],
   "source": [
    "#\n",
    "# A reminder of the three strings:\n",
    "#    h = 'harvey'\n",
    "#    m = 'mudd'\n",
    "#    c = 'college'\n",
    "\n",
    "# \n",
    "# problem 6:   use h, m, and c to create 'collude'    Store in answer6\n",
    "# (5 ops)      \n",
    "\n",
    "answer6 = c[0:4] + m[1:3] + c[-1]\n",
    "print(\"answer6 is\", answer6)"
   ]
  },
  {
   "cell_type": "code",
   "execution_count": 15,
   "metadata": {},
   "outputs": [
    {
     "name": "stdout",
     "output_type": "stream",
     "text": [
      "answer7 is arveyudd\n"
     ]
    }
   ],
   "source": [
    "#\n",
    "# A reminder of the three strings:\n",
    "#    h = 'harvey'\n",
    "#    m = 'mudd'\n",
    "#    c = 'college'\n",
    "\n",
    "# \n",
    "# problem 7:   use h, m, and c to create 'arveyudd'    Store in answer7\n",
    "# (7 ops)      \n",
    "\n",
    "answer7 = h[1:] + m[1:]\n",
    "print(\"answer7 is\", answer7)"
   ]
  },
  {
   "cell_type": "code",
   "execution_count": 16,
   "metadata": {},
   "outputs": [
    {
     "name": "stdout",
     "output_type": "stream",
     "text": [
      "answer8 is hardeharharhar\n"
     ]
    }
   ],
   "source": [
    "#\n",
    "# A reminder of the three strings:\n",
    "#    h = 'harvey'\n",
    "#    m = 'mudd'\n",
    "#    c = 'college'\n",
    "\n",
    "# Note: You're welcome to use string multiplication:  'i'*3 == 'iii'\n",
    "\n",
    "# \n",
    "# problem 8:   use h, m, and c to create 'hardeharharhar'    Store in answer8\n",
    "# (7 ops)      \n",
    "\n",
    "answer8 = h[0:3] + m[-1] + c[-1] + h[0:3] * 3\n",
    "print(\"answer8 is\", answer8)"
   ]
  },
  {
   "cell_type": "code",
   "execution_count": 21,
   "metadata": {},
   "outputs": [
    {
     "name": "stdout",
     "output_type": "stream",
     "text": [
      "answer9 is legomyego\n"
     ]
    }
   ],
   "source": [
    "#\n",
    "# A reminder of the three strings:\n",
    "#    h = 'harvey'\n",
    "#    m = 'mudd'\n",
    "#    c = 'college'\n",
    "\n",
    "# \n",
    "# problem 9:   use h, m, and c to create 'legomyego'    Store in answer9\n",
    "# (8 ops)    \n",
    "\n",
    "answer9 = c[-4:-1] + c[1] + m[0] + h[-1] + c[-3:-1] + c[1]\n",
    "print(\"answer9 is\", answer9)"
   ]
  },
  {
   "cell_type": "code",
   "execution_count": 22,
   "metadata": {},
   "outputs": [
    {
     "name": "stdout",
     "output_type": "stream",
     "text": [
      "answer10 is clearcall\n"
     ]
    }
   ],
   "source": [
    "#\n",
    "# A reminder of the three strings:\n",
    "#    h = 'harvey'\n",
    "#    m = 'mudd'\n",
    "#    c = 'college'\n",
    "\n",
    "# \n",
    "# problem 10:   use h, m, and c to create 'clearcall'    Store in answer10\n",
    "# (8 ops)    \n",
    "\n",
    "answer10 = c[0:-2:2] + h[1:3] + c[0] + h[1] + c[2:4]\n",
    "print(\"answer10 is\", answer10)"
   ]
  },
  {
   "cell_type": "markdown",
   "metadata": {},
   "source": [
    "####  Complete!\n",
    "+ If you've completed these, go ahead and submit this notebook to our Gradescope site.\n",
    "+ If you want more details on this set of indexing-and-challenging problems, here is the [CS5 lab page on them](https://www.cs.hmc.edu/twiki/bin/view/CS5/Lab1A)"
   ]
  }
 ],
 "metadata": {
  "interpreter": {
   "hash": "7ccb4bb6bd67730c9185e6c24c983362cd7b4575b595bfae100d8d91e48f4f1e"
  },
  "kernelspec": {
   "display_name": "Python 3",
   "language": "python",
   "name": "python3"
  },
  "language_info": {
   "codemirror_mode": {
    "name": "ipython",
    "version": 3
   },
   "file_extension": ".py",
   "mimetype": "text/x-python",
   "name": "python",
   "nbconvert_exporter": "python",
   "pygments_lexer": "ipython3",
   "version": "3.6.0"
  }
 },
 "nbformat": 4,
 "nbformat_minor": 2
}
