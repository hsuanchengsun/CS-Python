{
 "cells": [
  {
   "cell_type": "markdown",
   "metadata": {},
   "source": [
    "#### Welcome to ist341, week 1 !\n",
    "+ <b><tt>hw1pr0_ist341.ipynb</tt></b> is this week's reading-and-response\n",
    "+ This week the article is about the \"layers\" of reality - or unreality - that computing creates\n",
    "\n",
    "<hr>\n",
    " "
   ]
  },
  {
   "cell_type": "markdown",
   "metadata": {},
   "source": [
    "#### Jason Sun\n",
    "#### Reading for hw1pr0_ist341...\n",
    "\n",
    "This week has \"1+\" readings: \n",
    "\n",
    "The \"1\" comes from the Economist. It muses about how \"mediated\" the world might become. \n",
    "This is timely, seeing as this class -- and so much else -- is via Zoom right now. \n",
    "\n",
    "<br>\n",
    "\n",
    "Here is the article:\n",
    "+ [The Metaverse is Coming, (a locally-linked pdf)](https://drive.google.com/file/d/1maxglrFap2zLS0WTbSRn8UEYMxqjyhio/view)     \n",
    "+ [the same article, at the Economist itself](https://www.economist.com/technology-quarterly/2020/10/01/the-metaverse-is-coming)\n",
    "\n",
    "<br>\n",
    "\n",
    "This week's \"+\" reading is only two paragraphs, from the ACM, the Association for Computing Machinery. The ACM is the world's largest professional-computing group. In 2018, the ACM published a <u>Code of Ethics and Profesional Conduct</u>, \"the Code,\" a broad ethical guide for all computing work:  \n",
    "+ [Read the first two paragraphs of the Preamble  of \"the Code.\"](https://ethics.acm.org/)\n",
    "\n",
    "<br>\n",
    "\n",
    "#### Prompts\n",
    "\n",
    "As each week, this reading problem asks you to compose a one-paragraph reflection (~5 sentences, give or take), building from your choice of prompts. \n",
    "\n",
    "This week's prompts: \n",
    "+ (a) What is your overall sense of the deeply-mediated \"metaverse\"-like immersive experiences?  Does your experience of today's \"Zoom era\" affect your thoughts on this? \n",
    "+ (b) How do you view \"deeply mediated\" experiences in terms of the ethics of computational interactions, vis-a-vis the ACM's (preamble) on computing ethics. Is the metaverse  ethics-promoting? detracting?  neutral?  amplifying what's already there? Is it even \"a thing\"?\n",
    "\n",
    "<br>\n",
    "\n",
    "Here and in general, your response should incorporate ideas from the article(s), ideally incorporating your own takes and experiences.       \n",
    "\n",
    "Submit your reflection in this notebook file (<b><tt>hw1pr0_ist341.ipynb</tt></b>)\n",
    "\n",
    "\n",
    "<hr>"
   ]
  },
  {
   "cell_type": "markdown",
   "metadata": {},
   "source": [
    "#### Reading response\n",
    "\n",
    "(Feel free to use this cell for your response.)"
   ]
  },
  {
   "cell_type": "markdown",
   "metadata": {},
   "source": [
    "In my opinion, the metaverse is an old concept, and has already existed, but was announced and introduced by the huge company now and is understood by society. Since I like video games a lot, I have already noticed several games are created several years ago and fit all features of the metaverse. For example, VR chat is a VR game that players can join the game with the skin they want. Moreover, everything, which includes the world, could be built in the game. You can just create everything you want in your world and invite other players to join. These features are just the same as the metaverse they claimed. Therefore, I think it is not a whole new thing. On the other hand, people are getting used to chatting and communicating online due to the pandemic. I believe the situation would help people accept the way we connect in the metaverse.\n",
    "\n",
    "For the ethics of computational interactions, I believe that would be one of the most important issues in the metaverse. The main reason is that metaverse connects to the cryptocurrency, blockchain, and non-fungible token (NFT) a lot now. If someone ignores or violate the ethics and put virus or backdoors in the code, that would cause a huge financial loss for the player and be hard to chase back. Also, this way would decrease people and make them hate the new technology. Therefore, I think the ethic of the code would be strengthened in the metaverse, and it is really necessary."
   ]
  },
  {
   "cell_type": "code",
   "execution_count": null,
   "metadata": {},
   "outputs": [],
   "source": []
  }
 ],
 "metadata": {
  "interpreter": {
   "hash": "7ccb4bb6bd67730c9185e6c24c983362cd7b4575b595bfae100d8d91e48f4f1e"
  },
  "kernelspec": {
   "display_name": "Python 3",
   "language": "python",
   "name": "python3"
  },
  "language_info": {
   "codemirror_mode": {
    "name": "ipython",
    "version": 3
   },
   "file_extension": ".py",
   "mimetype": "text/x-python",
   "name": "python",
   "nbconvert_exporter": "python",
   "pygments_lexer": "ipython3",
   "version": "3.6.0"
  }
 },
 "nbformat": 4,
 "nbformat_minor": 2
}
