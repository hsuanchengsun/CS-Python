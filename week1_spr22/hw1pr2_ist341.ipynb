{
 "cells": [
  {
   "cell_type": "markdown",
   "metadata": {},
   "source": [
    "#### Welcome to ist341, week 1 !\n",
    "This notebook practices building and testing Python functions...\n",
    "\n",
    "Functions are the most important building-blocks for software\n",
    "\n",
    "They're not so different from _cells_, which are biology's most fundamental building blocks...\n",
    "\n",
    "<hr>"
   ]
  },
  {
   "cell_type": "markdown",
   "metadata": {},
   "source": [
    "#### Jason Sun\n",
    "#### Notebook 2: functions\n",
    "\n",
    "Your task is to create several new functions.\n",
    "\n",
    "For each function, you should run the tests provided to see if they're working (and working correctly...)\n",
    "\n",
    "We start you off with an example named <tt>dbl</tt>"
   ]
  },
  {
   "cell_type": "code",
   "execution_count": 1,
   "metadata": {},
   "outputs": [],
   "source": [
    "#\n",
    "# here is the definition of the function dbl\n",
    "#\n",
    "\n",
    "def dbl(x):\n",
    "    \"\"\"Result: dbl returns twice its argument\n",
    "       Argument x: a number (int or float)\n",
    "       Spam is great, and dbl(\"spam\") is better!\n",
    "    \"\"\"\n",
    "    return 2*x"
   ]
  },
  {
   "cell_type": "code",
   "execution_count": 2,
   "metadata": {},
   "outputs": [
    {
     "name": "stdout",
     "output_type": "stream",
     "text": [
      "Help on function dbl in module __main__:\n",
      "\n",
      "dbl(x)\n",
      "    Result: dbl returns twice its argument\n",
      "    Argument x: a number (int or float)\n",
      "    Spam is great, and dbl(\"spam\") is better!\n",
      "\n"
     ]
    }
   ],
   "source": [
    "#\n",
    "# that \"\"\"docstring\"\"\" in triple quotes becomes part of Python's\n",
    "# help system... Try it out:\n",
    "\n",
    "help(dbl)"
   ]
  },
  {
   "cell_type": "code",
   "execution_count": 3,
   "metadata": {},
   "outputs": [
    {
     "name": "stdout",
     "output_type": "stream",
     "text": [
      "dbl(21) is 42\n",
      "dbl('wow') is wowwow\n"
     ]
    }
   ],
   "source": [
    "#\n",
    "# Here are two tests for the dbl function\n",
    "#\n",
    "\n",
    "# should print \"dbl(21) is 42\"\n",
    "print(\"dbl(21) is\", dbl(21))  \n",
    "\n",
    "# should print \"dbl('wow') is wowwow\"\n",
    "print(\"dbl('wow') is\", dbl('wow'))  \n",
    "\n",
    "# hopefully, these work! :-)\n"
   ]
  },
  {
   "cell_type": "code",
   "execution_count": 4,
   "metadata": {},
   "outputs": [],
   "source": [
    "# Another example function:\n",
    "#\n",
    "# here is the definition of the function tpl (triple)\n",
    "#\n",
    "\n",
    "def tpl(x):\n",
    "    \"\"\"Result: dbl returns twice its argument\n",
    "       Argument x: a number (int or float)\n",
    "       Spam is great, and dbl(\"spam\") is better!\n",
    "    \"\"\"\n",
    "    return 3*x"
   ]
  },
  {
   "cell_type": "code",
   "execution_count": 5,
   "metadata": {},
   "outputs": [
    {
     "name": "stdout",
     "output_type": "stream",
     "text": [
      "tpl(1) is 3\n",
      "tpl('i') is iii\n"
     ]
    }
   ],
   "source": [
    "#\n",
    "# Here are two tests for the tpl function\n",
    "#\n",
    "\n",
    "# should print \"tpl(1) is 3\"\n",
    "print(\"tpl(1) is\", tpl(1))  \n",
    "\n",
    "# should print \"tpl('i') is iii\"\n",
    "print(\"tpl('i') is\", tpl('i'))  "
   ]
  },
  {
   "cell_type": "markdown",
   "metadata": {},
   "source": [
    "Now, try it out for these next functions... "
   ]
  },
  {
   "cell_type": "markdown",
   "metadata": {},
   "source": [
    "#### <tt>sq(x)</tt>\n",
    "The function <tt>sq(x)</tt> should accept a numeric argument named <tt>x</tt>. Then, <tt>sq</tt> should return the square of its argument.\n",
    "\n",
    "Note that this is the square, not the square root. (The square is <tt>x</tt> times itself...)"
   ]
  },
  {
   "cell_type": "code",
   "execution_count": 6,
   "metadata": {},
   "outputs": [],
   "source": [
    "# Your sq function (use the examples above to help!)\n",
    "#      do include a docstring!\n",
    "\n",
    "def sq(x):\n",
    "    \"\"\"\n",
    "    Result: sq return the square of its argument\n",
    "    Argument x: a number (int or float)\n",
    "    \"\"\"\n",
    "    return x * x"
   ]
  },
  {
   "cell_type": "code",
   "execution_count": 7,
   "metadata": {},
   "outputs": [
    {
     "name": "stdout",
     "output_type": "stream",
     "text": [
      "sq(10) is 100\n",
      "sq(.5) is 0.25\n"
     ]
    }
   ],
   "source": [
    "#\n",
    "# Here are two tests for the sq function\n",
    "#\n",
    "\n",
    "# should print \"sq(10) is 100\"\n",
    "print(\"sq(10) is\", sq(10))  \n",
    "\n",
    "# should print \"sq(.5) is 0.25\"\n",
    "print(\"sq(.5) is\", sq(.5))  "
   ]
  },
  {
   "cell_type": "markdown",
   "metadata": {},
   "source": [
    "#### <tt>interp(low,hi,fraction)</tt>\n",
    "\n",
    "\n",
    "The function <tt>interp(low, hi, fraction)</tt> accepts three numbers as its input\n",
    "arguments: <tt>low</tt>, <tt>hi</tt>,\n",
    "and <tt>fraction</tt>, and by definition,\n",
    "\n",
    " <tt>interp(low, hi, fraction)</tt> should return the floating-point value that is <tt>fraction</tt> of the\n",
    "way between <tt>low</tt> and <tt>hi</tt>.\n",
    "\n",
    "\n",
    "<font color=\"darkred\"><b>What!?</b></font>\n",
    "\n",
    "\n",
    "You can find much more explanation on <tt>interp</tt> from [this function-challenge page](view-source:https://www.cs.hmc.edu/twiki/bin/view/CS5/Lab1B)  or here:\n",
    "\n",
    "\n",
    "You might use a pencil and paper to diagram this\n",
    "out; perhaps start by drawing a number line.\n",
    "<p />\n",
    "As an example, consider <tt>interp(1, 9, .25)</tt>, which means <ul>\n",
    "<li> You started at location <tt>1</tt>\n",
    "</li> <li> You will finish at location <tt>9</tt>\n",
    "</li> <li> You have traversed one-quarter, <tt>0.25</tt>, of the journey so far\n",
    "</li></ul> \n",
    "<p />\n",
    "The <tt>interp</tt> function should return your location\n",
    "<i><b>now</b></i>, &nbsp;&nbsp; one-quarter of the way from <tt>1</tt>\n",
    "to <tt>9</tt>. <ul>\n",
    "<li> Do you see why the correct result for <tt>interp(1, 9, .25)</tt>     is <i><b><u>3</u></b></i> ?\n",
    "</li></ul> \n",
    "\n",
    "Take a moment to convince yourself&mdash;or ask &amp; chat about it!  \n",
    "\n",
    "Once you see why the correct result of <tt>interp(1, 9, .25)</tt>     is <i><b>3</b></i> , then try to describe the <i>same</i> process using the variable names: <ul>\n",
    "<li> <tt>low</tt>, the \"start point\"\n",
    "</li> <li> <tt>hi</tt>, the \"end point\"\n",
    "</li> <li> <tt>fraction</tt>, the fraction traversed so far...\n",
    "</ul>\n",
    "\n",
    "From the above description, it might feel tempting to divide this function into several cases and use <tt>if</tt>,\n",
    "<tt>elif</tt>, and the like. Yet this function can be written using\n",
    "<i><b>no</b></i> conditional (<tt>if/elif/else</tt>)\n",
    "constructions at all! \n",
    "\n",
    "Try it <i>without</i> using <tt>if</tt>!\n",
    "\n",
    "With the examples below, try your function when  <tt>fraction</tt> is\n",
    "less than zero or greater than one. In those cases,\n",
    "it's extrapolating rather than interpolating. We'll stick with the\n",
    "name <tt>interp</tt> anyway!\n",
    "\n",
    "<br>\n",
    "\n",
    "Here are more examples to clarify how <tt>interp</tt> works:\n",
    "\n",
    "<pre>\n",
    "interp(1.0, 9.0, 0.25)      # A quarter (.25) of the way from 1.0 to 9.0\n",
    "should output: 3.0\n",
    "\n",
    "interp(1.0, 3.0, 0.25)      # A quarter of the way from 1.0 to 3.0\n",
    "should output: 1.5\n",
    "\n",
    "interp(2, 12, 0.22)         # 22% of the way from 2 to 12\n",
    "should output: 4.2\n",
    "</pre>\n",
    "</font>"
   ]
  },
  {
   "cell_type": "code",
   "execution_count": 8,
   "metadata": {},
   "outputs": [],
   "source": [
    "# Your interp function (use the examples above to help!)\n",
    "#      do include a docstring!\n",
    "\n",
    "def interp(low, hi, fraction):\n",
    "    \"\"\"\n",
    "    Result: interp return the floating-point value that is fraction of the way between low and hi.\n",
    "    Argument: low: the \"start point\"\n",
    "              hi: the \"end point\"\n",
    "              fraction: the fraction traversed so far...\n",
    "    \"\"\"    \n",
    "    return (hi-low)*fraction + low"
   ]
  },
  {
   "cell_type": "code",
   "execution_count": 9,
   "metadata": {},
   "outputs": [
    {
     "name": "stdout",
     "output_type": "stream",
     "text": [
      "interp(1.0, 9.0, 0.25) is 3.0\n",
      "interp(1.0, 3.0, 0.25) is 1.5\n",
      "interp(2, 12, 0.22) is 4.2\n"
     ]
    }
   ],
   "source": [
    "#\n",
    "# Here are three tests for the interp function\n",
    "#\n",
    "\n",
    "# should print \"interp(1.0, 9.0, 0.25) is 3.0\"\n",
    "print(\"interp(1.0, 9.0, 0.25) is\", interp(1.0, 9.0, 0.25))  \n",
    "\n",
    "# should print \"interp(1.0, 3.0, 0.25) is 1.5\"\n",
    "print(\"interp(1.0, 3.0, 0.25) is\", interp(1.0, 3.0, 0.25)) \n",
    "\n",
    "# should print \"interp(2, 12, 0.22) is 4.2\"\n",
    "print(\"interp(2, 12, 0.22) is\", interp(2, 12, 0.22)) "
   ]
  },
  {
   "cell_type": "markdown",
   "metadata": {},
   "source": [
    "<hr>\n",
    "\n",
    "#### <tt>checkends(s)</tt>\n",
    "\n",
    "\n",
    "The function <tt>checkends(s)</tt> takes in a string <code>s</code> and returns <code>True</code> if the first character in <code>s</code> is the same as the last character in <code>s</code>. It returns <code>False</code> otherwise. \n",
    "\n",
    "The <code>checkends</code> function\n",
    "does not have to work on the empty string (the string <code>''</code>). \n",
    "\n",
    "As with all of these, you can find much more explanation on <tt>interp</tt> from [this function-challenge page](view-source:https://www.cs.hmc.edu/twiki/bin/view/CS5/Lab1B)  \n",
    "\n",
    "Also, take a look at the tests, below!\n",
    "\n",
    "Understanding the tests is often a great way to understand the process(or function) they test!!"
   ]
  },
  {
   "cell_type": "code",
   "execution_count": 10,
   "metadata": {},
   "outputs": [],
   "source": [
    "# Your checkends function (use the examples below to help!)\n",
    "#      do include a docstring!\n",
    "\n",
    "\n",
    "def checkends(s):\n",
    "    \"\"\"\n",
    "    Result: checkends returns True if the first character in s is the same as the last character in s. It returns False otherwise.\n",
    "    Argument s: a string\n",
    "    \"\"\"\n",
    "    if s[0] == s[-1]:\n",
    "        return True\n",
    "    else:\n",
    "        return False"
   ]
  },
  {
   "cell_type": "code",
   "execution_count": 11,
   "metadata": {},
   "outputs": [
    {
     "name": "stdout",
     "output_type": "stream",
     "text": [
      "checkends('no match') is False\n",
      "checkends('hah! a match') is True\n",
      "checkends('q') is True\n",
      "checkends(' ') is True\n"
     ]
    }
   ],
   "source": [
    "#\n",
    "# Here are tests for the checkends function\n",
    "#\n",
    "\n",
    "# should print \"checkends('no match') is False\"\n",
    "print(\"checkends('no match') is\", checkends('no match'))  \n",
    "\n",
    "# should print \"checkends('hah! a match') is True\"\n",
    "print(\"checkends('hah! a match') is\", checkends('hah! a match'))  \n",
    "\n",
    "# should print \"checkends('q') is True\"\n",
    "print(\"checkends('q') is\", checkends('q'))  \n",
    "\n",
    "# should print \"checkends(' ') is True\"\n",
    "print(\"checkends(' ') is\", checkends(' '))   # a space, not empty!!"
   ]
  },
  {
   "cell_type": "markdown",
   "metadata": {},
   "source": [
    "<hr>\n",
    "\n",
    "#### <tt>flipside(s)</tt>\n",
    "\n",
    "\n",
    "The function <tt>flipside(s)</tt> takes in a string <code>s</code> and returns a string whose first half is <tt>s</tt>'s second half and whose second half is <tt>s</tt>'s first half. If <tt>len(s)</tt> (the length of <tt>s</tt>) is odd, the \"first half\" of <tt>s</tt> is considered to have one fewer character than the second half. \n",
    "\n",
    "(Accordingly, the second half of the returned string will be one shorter than the first half in these cases.) \n",
    "\n",
    "\n",
    "As with all of these, you can find much more explanation on <tt>interp</tt> from [this function-challenge page](view-source:https://www.cs.hmc.edu/twiki/bin/view/CS5/Lab1B)  \n",
    "\n",
    "Also, take a look at the tests below...\n"
   ]
  },
  {
   "cell_type": "code",
   "execution_count": 12,
   "metadata": {},
   "outputs": [],
   "source": [
    "# Your flipside function (use the examples below to help!)\n",
    "#      do include a docstring!\n",
    "\n",
    "def flipside(s):\n",
    "    \"\"\"\n",
    "    Result: flipside returns a string whose first half is s's second half and whose second half is s's first half\n",
    "    Argument s: a string\n",
    "    \"\"\"    \n",
    "    n = len(s) // 2\n",
    "    return s[n:] + s[:n]"
   ]
  },
  {
   "cell_type": "code",
   "execution_count": 13,
   "metadata": {},
   "outputs": [
    {
     "name": "stdout",
     "output_type": "stream",
     "text": [
      "flipside('homework') is workhome\n",
      "flipside('carpets') is petscar\n"
     ]
    }
   ],
   "source": [
    "#\n",
    "# Here are tests for the flipside function\n",
    "#\n",
    "\n",
    "# should print \"flipside('homework') is workhome\"\n",
    "print(\"flipside('homework') is\", flipside('homework'))  \n",
    "\n",
    "# should print \"flipside('carpets') is petscar\"\n",
    "print(\"flipside('carpets') is\", flipside('carpets'))  \n"
   ]
  },
  {
   "cell_type": "markdown",
   "metadata": {},
   "source": [
    "<hr>\n",
    "\n",
    "#### <tt>convertFromSeconds(s)</tt>\n",
    "\n",
    "\n",
    "The function <tt>convertFromSeconds(s)</tt> takes in an integer <code>s</code>, not a string.\n",
    "\n",
    "The function <tt>convertFromSeconds(s)</tt> should return a list (we'll call it <tt>L</tt>) of four nonnegative integers that represents that number of seconds in more conventional units of time, such that:\n",
    "+ The initial element represents a number of days.\n",
    "+ The next element represents a number of hours.\n",
    "+ The next element represents a number of minutes.\n",
    "+ The final one represents a number of seconds.\n",
    "\n",
    "\n",
    "As with all of these, you can find much more explanation on <tt>interp</tt> from [this function-challenge page](view-source:https://www.cs.hmc.edu/twiki/bin/view/CS5/Lab1B)  \n",
    "\n",
    "Also, take a look at the tests below...\n",
    "Some starter-code is also provided...\n"
   ]
  },
  {
   "cell_type": "code",
   "execution_count": 16,
   "metadata": {},
   "outputs": [],
   "source": [
    "# Your convertFromSeconds function (use the examples below to help!)\n",
    "#      This is some starter code! (Do include a docstring, too :-) \n",
    "\n",
    "def convertFromSeconds(s):\n",
    "    '''\n",
    "    Result: convertFromSeconds return a list of four nonnegative integers that represents that number of seconds in more conventional units of time,\n",
    "    Argument s: a integer    \n",
    "    '''\n",
    "    days = (s // (60 * 60)) // 24 # Number of days\n",
    "    hours = (s // (60 * 60)) % 24\n",
    "    minutes = (s // 60) % 60\n",
    "    seconds = s % 60\n",
    "    return [days, hours, minutes, seconds]"
   ]
  },
  {
   "cell_type": "code",
   "execution_count": 17,
   "metadata": {},
   "outputs": [
    {
     "name": "stdout",
     "output_type": "stream",
     "text": [
      "convertFromSeconds(610) is [0, 0, 10, 10]\n",
      "convertFromSeconds(100000) is [1, 3, 46, 40]\n"
     ]
    }
   ],
   "source": [
    "#\n",
    "# Here are tests for the convertFromSeconds function\n",
    "#\n",
    "\n",
    "# should print \"convertFromSeconds(610) is [0, 0, 10, 10]\"\n",
    "print(\"convertFromSeconds(610) is\", convertFromSeconds(610))  \n",
    "\n",
    "# should print \"convertFromSeconds(100000) is [1, 3, 46, 40]\"\n",
    "print(\"convertFromSeconds(100000) is\", convertFromSeconds(100000))  \n",
    "\n",
    "\n"
   ]
  },
  {
   "cell_type": "markdown",
   "metadata": {},
   "source": [
    "####  Complete!\n",
    "+ If you've completed these, go ahead and submit this notebook to our Gradescope site.\n",
    "+ If you want more details on this set of indexing-and-challenging problems, here is the [CS5 lab page on them](https://www.cs.hmc.edu/twiki/bin/view/CS5/Lab1A)"
   ]
  }
 ],
 "metadata": {
  "interpreter": {
   "hash": "7ccb4bb6bd67730c9185e6c24c983362cd7b4575b595bfae100d8d91e48f4f1e"
  },
  "kernelspec": {
   "display_name": "Python 3",
   "language": "python",
   "name": "python3"
  },
  "language_info": {
   "codemirror_mode": {
    "name": "ipython",
    "version": 3
   },
   "file_extension": ".py",
   "mimetype": "text/x-python",
   "name": "python",
   "nbconvert_exporter": "python",
   "pygments_lexer": "ipython3",
   "version": "3.6.0"
  }
 },
 "nbformat": 4,
 "nbformat_minor": 2
}
