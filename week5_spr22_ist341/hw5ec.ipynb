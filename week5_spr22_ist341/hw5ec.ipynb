{
 "cells": [
  {
   "cell_type": "markdown",
   "metadata": {},
   "source": [
    "<br>\n",
    "\n",
    "#### hw5ec.ipynb ~ wk5's EC, including\n",
    "+ You might try RandomForest _regression_ model-building\n",
    "+ And, our Lost-Grutor challenge continues...   \n",
    "+ &nbsp;&nbsp; (hw5ec.ipynb)\n",
    "\n",
    "<hr>\n"
   ]
  },
  {
   "cell_type": "code",
   "execution_count": 1,
   "metadata": {},
   "outputs": [],
   "source": [
    "\n",
    "#\n",
    "# Feel free to choose any of these tasks (or all?! :-)\n",
    "#\n"
   ]
  },
  {
   "cell_type": "markdown",
   "metadata": {},
   "source": [
    "<br>\n",
    "\n",
    "#### Additional links\n",
    "+ [the hw5 page](https://docs.google.com/document/d/1l82PGTqIQkFJAGRCv0hxa2ifccM0YFzIYRzsBib2dAM/edit)\n",
    "+ [the hw5 Lost Grutor page](https://docs.google.com/document/d/1YNpj6M_MKarp-Rp-CiI3Bf_eUIKOEp2d6_omHpH2mo8/edit)\n",
    "\n",
    "<br>\n",
    "\n",
    "#### Good luck!!"
   ]
  }
 ],
 "metadata": {
  "interpreter": {
   "hash": "7ccb4bb6bd67730c9185e6c24c983362cd7b4575b595bfae100d8d91e48f4f1e"
  },
  "kernelspec": {
   "display_name": "Python 3.8.8 64-bit (conda)",
   "language": "python",
   "name": "python3"
  },
  "language_info": {
   "codemirror_mode": {
    "name": "ipython",
    "version": 3
   },
   "file_extension": ".py",
   "mimetype": "text/x-python",
   "name": "python",
   "nbconvert_exporter": "python",
   "pygments_lexer": "ipython3",
   "version": "3.10.2"
  },
  "orig_nbformat": 4
 },
 "nbformat": 4,
 "nbformat_minor": 2
}
