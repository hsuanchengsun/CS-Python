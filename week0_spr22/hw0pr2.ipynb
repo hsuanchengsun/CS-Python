{
 "cells": [
  {
   "cell_type": "markdown",
   "metadata": {},
   "source": [
    "#### Jason Sun\n",
    "#### hw0pr2.ipynb \n",
    "\n",
    "+ The rock-paper-scissors problem ...\n",
    "+ ... along with some \"graded\" examples of if ... elif ... else."
   ]
  },
  {
   "cell_type": "code",
   "execution_count": 1,
   "metadata": {},
   "outputs": [],
   "source": [
    "# This is a starting point for your rps function:\n",
    "\n",
    "import random          # imports the library named random\n",
    "\n",
    "def rps():\n",
    "    \"\"\"This plays a game of rock-paper-scissors\n",
    "       (or a variant of that game)\n",
    "       Arguments: none     (prompted text doesn't count as an argument)\n",
    "       Results: none       (printing doesn't count as a result)\n",
    "    \"\"\"\n",
    "    user = input(\"Choose your weapon: \")\n",
    "    comp = random.choice(['rock', 'paper', 'scissors'])\n",
    "    print()\n",
    "\n",
    "    print('The user (you)   chose', user)\n",
    "    print('The computer (I) chose', comp)\n",
    "    print()\n",
    "\n",
    "    if user == 'rock':\n",
    "        print('Ha! I really chose paper--I WIN!')\n",
    "\n",
    "    print(\"Better luck next time...\")"
   ]
  },
  {
   "cell_type": "markdown",
   "metadata": {},
   "source": [
    "#### The above cell didn't do anything?!\n",
    "\n",
    "+ In fact, if it worked, it didn't _show_ anything, but it did **do** something:\n",
    "+ It _defined_ the function named `rps`\n",
    "+ Functions are reusable pieces of code that, like biological cells, carry around their own operating environment.\n",
    "+ In the next cell, run `rps` by calling `rps()` \n",
    "+ (Those parens are important!) \n",
    "\n",
    "#### user input will come from the top of the notebook...\n",
    "+ The function `rps` asks the user for input \n",
    "+ there will be a dialog at the top of the notebook for this\n",
    "+ (It will wait until you enter some text. In fact, a _string_ of text.)"
   ]
  },
  {
   "cell_type": "code",
   "execution_count": 2,
   "metadata": {},
   "outputs": [
    {
     "name": "stdout",
     "output_type": "stream",
     "text": [
      "Choose your weapon: rock\n",
      "\n",
      "The user (you)   chose rock\n",
      "The computer (I) chose paper\n",
      "\n",
      "Ha! I really chose paper--I WIN!\n",
      "Better luck next time...\n"
     ]
    }
   ],
   "source": [
    "# Let's run rps by calling rps()\n",
    "\n",
    "rps()"
   ]
  },
  {
   "cell_type": "markdown",
   "metadata": {},
   "source": [
    "#### Task #1: Rock-paper-scissors\n",
    "\n",
    "+ Your challenge: Improve the `rps` function so that it plays a complete, fair game of rock-paper-scissors!\n",
    "  "
   ]
  },
  {
   "cell_type": "code",
   "execution_count": 8,
   "metadata": {},
   "outputs": [],
   "source": [
    "def rps():\n",
    "    \"\"\"This plays a game of rock-paper-scissors\n",
    "       (or a variant of that game)\n",
    "       Arguments: none     (prompted text doesn't count as an argument)\n",
    "       Results: none       (printing doesn't count as a result)\n",
    "    \"\"\"\n",
    "    user = input(\"Choose your weapon: \")\n",
    "    comp = random.choice(['rock', 'paper', 'scissors'])\n",
    "    print()\n",
    "\n",
    "    print('The user (you)   chose', user)\n",
    "    print('The computer (I) chose', comp)\n",
    "    print()\n",
    "\n",
    "    if user == 'rock':\n",
    "        if comp == 'paper':\n",
    "            print('Ha! I really chose paper--I WIN!')\n",
    "            print(\"Better luck next time...\")\n",
    "        elif comp == 'rock':\n",
    "            print(\"Next time I will WIN!\")\n",
    "            rps()\n",
    "        else:\n",
    "            print(\"Great! You just beat the smartest computer in the world!\")\n",
    "    elif user == 'paper':\n",
    "        if comp == 'scissors':\n",
    "            print('Ha! I really chose scissors--I WIN!')\n",
    "            print(\"Better luck next time...\")\n",
    "        elif comp == 'paper':\n",
    "            print(\"Next time I will WIN!\")\n",
    "            rps()\n",
    "        else:\n",
    "            print(\"Great! You just beat the smartest computer in the world!\")\n",
    "    elif user == 'scissors':\n",
    "        if comp == 'rock':\n",
    "            print('Ha! I really chose rock--I WIN!')\n",
    "            print(\"Better luck next time...\")\n",
    "        elif comp == 'scissors':\n",
    "            print(\"Next time I will WIN!\")\n",
    "            rps()\n",
    "        else:\n",
    "            print(\"Great! You just beat the smartest computer in the world!\")\n",
    "    else:\n",
    "        print(\"Please verify you input and try again.\")\n",
    "        rps()"
   ]
  },
  {
   "cell_type": "code",
   "execution_count": 9,
   "metadata": {},
   "outputs": [
    {
     "name": "stdout",
     "output_type": "stream",
     "text": [
      "Choose your weapon: paper\n",
      "\n",
      "The user (you)   chose paper\n",
      "The computer (I) chose paper\n",
      "\n",
      "Next time I will WIN!\n",
      "Choose your weapon: paper\n",
      "\n",
      "The user (you)   chose paper\n",
      "The computer (I) chose scissors\n",
      "\n",
      "Ha! I really chose scissors--I WIN!\n",
      "Better luck next time...\n"
     ]
    }
   ],
   "source": [
    "rps()"
   ]
  },
  {
   "cell_type": "code",
   "execution_count": 10,
   "metadata": {},
   "outputs": [
    {
     "name": "stdout",
     "output_type": "stream",
     "text": [
      "Choose your weapon: lizard\n",
      "\n",
      "The user (you)   chose lizard\n",
      "The computer (I) chose rock\n",
      "\n",
      "Please verify you input and try again.\n",
      "Choose your weapon: rock\n",
      "\n",
      "The user (you)   chose rock\n",
      "The computer (I) chose paper\n",
      "\n",
      "Ha! I really chose paper--I WIN!\n",
      "Better luck next time...\n"
     ]
    }
   ],
   "source": [
    "rps()"
   ]
  },
  {
   "cell_type": "markdown",
   "metadata": {},
   "source": [
    "#### Task #2: Your own variation of RPS!\n",
    "\n",
    "+ Next, copy the whole contents of the `rps` function to a new cell (create one below)\n",
    "+ Then, create a new version of RPS that is of your own design. It should\n",
    "  + Use other \"weapons\" or \"gestures\" than the originals -- either change them or add more (lizard spock?)\n",
    "  + Or, it should always win\n",
    "  + Or, it should always lose\n",
    "  + Or, it should play with a distinctive \"character,\" e.g., snarky, supportive, solicitous, something else... \n",
    "\n",
    "<br>\n",
    "\n",
    "+ The key is that the game is now one of your own creation :-)\n",
    "+ We look forward to playing your version of RPS!! "
   ]
  },
  {
   "cell_type": "code",
   "execution_count": 11,
   "metadata": {},
   "outputs": [],
   "source": [
    "def rps_new():\n",
    "    \"\"\"This plays a game of rock-paper-scissors\n",
    "       (or a variant of that game)\n",
    "       Arguments: none     (prompted text doesn't count as an argument)\n",
    "       Results: none       (printing doesn't count as a result)\n",
    "    \"\"\"\n",
    "    user = input(\"Choose your weapon: \")\n",
    "    comp = ''\n",
    "    if user == 'rock':\n",
    "        print()\n",
    "\n",
    "        print('The user (you)   chose', user)\n",
    "        print('The computer (I) chose, scissors')\n",
    "        print()\n",
    "        print('Great! You are so lucky today!!!')\n",
    "        print(\"You just beat the smartest computer in the world!\")\n",
    "    \n",
    "    elif user == 'paper':\n",
    "        print()\n",
    "\n",
    "        print('The user (you)   chose', user)\n",
    "        print('The computer (I) chose, rock')\n",
    "        print()\n",
    "        print('Great! You are so lucky today!!!')\n",
    "        print(\"You just beat the smartest computer in the world!\")\n",
    "    \n",
    "    elif user == 'scissors':\n",
    "        print()\n",
    "\n",
    "        print('The user (you)   chose', user)\n",
    "        print('The computer (I) chose, paper')\n",
    "        print()\n",
    "        print('Great! You are so lucky today!!!')\n",
    "        print(\"You just beat the smartest computer in the world!\")\n",
    "    \n",
    "    else:\n",
    "        print(\"Sorry I can not understand what you mean.\")\n",
    "        rps_new()"
   ]
  },
  {
   "cell_type": "code",
   "execution_count": 12,
   "metadata": {},
   "outputs": [
    {
     "name": "stdout",
     "output_type": "stream",
     "text": [
      "Choose your weapon: paper\n",
      "\n",
      "The user (you)   chose paper\n",
      "The computer (I) chose, rock\n",
      "\n",
      "Great! You are so lucky today!!!\n",
      "You just beat the smartest computer in the world!\n"
     ]
    }
   ],
   "source": [
    "rps_new()"
   ]
  },
  {
   "cell_type": "code",
   "execution_count": null,
   "metadata": {},
   "outputs": [],
   "source": []
  }
 ],
 "metadata": {
  "interpreter": {
   "hash": "7ccb4bb6bd67730c9185e6c24c983362cd7b4575b595bfae100d8d91e48f4f1e"
  },
  "kernelspec": {
   "display_name": "Python 3",
   "language": "python",
   "name": "python3"
  },
  "language_info": {
   "codemirror_mode": {
    "name": "ipython",
    "version": 3
   },
   "file_extension": ".py",
   "mimetype": "text/x-python",
   "name": "python",
   "nbconvert_exporter": "python",
   "pygments_lexer": "ipython3",
   "version": "3.6.0"
  }
 },
 "nbformat": 4,
 "nbformat_minor": 2
}
