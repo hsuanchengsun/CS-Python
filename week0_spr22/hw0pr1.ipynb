{
 "cells": [
  {
   "cell_type": "markdown",
   "metadata": {},
   "source": [
    "#### hw0pr1.ipynb \n",
    "\n",
    "+ Getting used to notebooks...\n",
    "+ ... and the Four-fours problem!"
   ]
  },
  {
   "cell_type": "code",
   "execution_count": 1,
   "metadata": {},
   "outputs": [
    {
     "data": {
      "text/plain": [
       "42"
      ]
     },
     "execution_count": 1,
     "metadata": {},
     "output_type": "execute_result"
    }
   ],
   "source": [
    "# This is a code-cell, which should be runnable, also with (control-enter) or (command-return)\n",
    "\n",
    "35 + 7"
   ]
  },
  {
   "cell_type": "code",
   "execution_count": 2,
   "metadata": {},
   "outputs": [
    {
     "data": {
      "text/plain": [
       "10000000000000000000000000000000000000000000000000000000000000000000000000000000000000000000000000000"
      ]
     },
     "execution_count": 2,
     "metadata": {},
     "output_type": "execute_result"
    }
   ],
   "source": [
    "# Try running this cell to compute a googol (the number after which Google was named):\n",
    "\n",
    "10**100"
   ]
  },
  {
   "cell_type": "code",
   "execution_count": 3,
   "metadata": {},
   "outputs": [
    {
     "data": {
      "text/plain": [
       "2.0"
      ]
     },
     "execution_count": 3,
     "metadata": {},
     "output_type": "execute_result"
    }
   ],
   "source": [
    "# This cell imports the math library and then runs a function from it. \n",
    "# (The square root of 4 is 2, as you'll see :-)\n",
    "\n",
    "from math import *    # imports the sqrt function and others\n",
    "sqrt(4)"
   ]
  },
  {
   "cell_type": "code",
   "execution_count": 4,
   "metadata": {},
   "outputs": [
    {
     "data": {
      "text/plain": [
       "24"
      ]
     },
     "execution_count": 4,
     "metadata": {},
     "output_type": "execute_result"
    }
   ],
   "source": [
    "# Here is an example of the \"factorial\" function. factorial(4) is 1*2*3*4, which is 24\n",
    "\n",
    "factorial(4)     # also imported from the math library"
   ]
  },
  {
   "cell_type": "code",
   "execution_count": 5,
   "metadata": {
    "scrolled": false
   },
   "outputs": [
    {
     "name": "stdout",
     "output_type": "stream",
     "text": [
      "Zero is 0\n"
     ]
    }
   ],
   "source": [
    "# This cell shows how printing works. Try it! It should print:   Zero is 0\n",
    "\n",
    "print(\"Zero is\", 4+4-4-4)"
   ]
  },
  {
   "cell_type": "markdown",
   "metadata": {},
   "source": [
    "#### Your task: Four fours!\n",
    "\n",
    "+ The challenge: add several more lines similar to the above line to compute values from `0` to `20`\n",
    "  + you should compute at least 16 of the 21 values (from 0 through 20) using exactly four fours -- and no other numbers). \n",
    "  + only 16 of the 21 possibilities... so that you can skip a couple if they give you trouble! \n",
    "  \n",
    "<br>\n",
    "\n",
    "+ You may use any of Python's arithmetic operations:\n",
    "  + `-`    subtraction or negation\n",
    "  + `*`    multiplication\n",
    "  + `/`    division\n",
    "  + `(   )`    parentheses for grouping\n",
    "  + `**`    power\n",
    "\n",
    "<br>\n",
    "\n",
    "#### hints and notes:\n",
    "+ Results with decimals: 1.0, 2.0, etc. are totally OK!\n",
    "+ You may also use 44 or 4.4, each of which count as two fours,\n",
    "+ or .4, which counts as one four.\n",
    "+ or, `sqrt`, for example `math.sqrt(4)` (or others, from the `math` library\n",
    "+ or, `factorial`, for example `math.factorial(4)` (or others).\n",
    "\n",
    "#### desired results:\n",
    "Here are what the results, but not the source code, will look like.\n",
    "Remember you need only 16 of them!\n",
    "\n",
    "<code><pre>\n",
    "Zero is 0\n",
    "One is 1\n",
    "Two is 2\n",
    "Three is 3\n",
    "Four is 4\n",
    "Five is 5\n",
    "Six is 6\n",
    "Seven is 7\n",
    "Eight is 8\n",
    "Nine is 9\n",
    "Ten is 10\n",
    "Eleven is 11\n",
    "Twelve is 12\n",
    "Thirteen is 13\n",
    "Fourteen is 14\n",
    "Fifteen is 15\n",
    "Sixteen is 16\n",
    "Seventeen is 17\n",
    "Eighteen is 18\n",
    "Nineteen is 19\n",
    "Twenty is 20\n",
    "</pre></code>\n"
   ]
  },
  {
   "cell_type": "code",
   "execution_count": 6,
   "metadata": {},
   "outputs": [
    {
     "name": "stdout",
     "output_type": "stream",
     "text": [
      "Zero is 0\n",
      "One is 1.0\n",
      "Two is 2.0\n",
      "Three is 3.0\n",
      "Four is 4\n",
      "Five is 5.0\n",
      "Six is 6.0\n",
      "Seven is 7.0\n",
      "Eight is 8\n",
      "Nine is 9.0\n",
      "Ten is 10.0\n",
      "Eleven is 11.0\n",
      "Twelve is 12.0\n",
      "Thirteen is 13.0\n",
      "Fourteen is 14.0\n",
      "Fifteen is 15.0\n",
      "Sixteen is 16\n",
      "Seventeen is 17.0\n",
      "Eighteen is 18.0\n",
      "Nineteen is 19.0\n",
      "Twenty is 20.0\n"
     ]
    }
   ],
   "source": [
    "print(\"Zero is\", 4+4-4-4)\n",
    "print(\"One is\", 4*4/4/4)\n",
    "print(\"Two is\", (4/4)+(4/4))\n",
    "print(\"Three is\", 4-((4/4)**4))\n",
    "print(\"Four is\", (4-4)*4+4)\n",
    "print(\"Five is\", 4+((4/4)**4))\n",
    "print(\"Six is\", 4*(4/4)+sqrt(4))\n",
    "print(\"Seven is\", 4+(4-(4/4)))\n",
    "print(\"Eight is\", 4+4+4-4)\n",
    "print(\"Nine is\", 4+4+4/4)\n",
    "print(\"Ten is\", 4+4+(4/sqrt(4)))\n",
    "print(\"Eleven is\", factorial(4)/sqrt(4)-4/4)\n",
    "print(\"Twelve is\", 4*(4-4/4))\n",
    "print(\"Thirteen is\", (4/4)+factorial(4)/sqrt(4))\n",
    "print(\"Fourteen is\", (4/sqrt(4))+factorial(4)/sqrt(4))\n",
    "print(\"Fifteen is\", 44/4+4)\n",
    "print(\"Sixteen is\", 4+4+4+4)\n",
    "print(\"Seventeen is\", 4*4+4/4)\n",
    "print(\"Eighteen is\", 4*4+(4/sqrt(4)))\n",
    "print(\"Nineteen is\", factorial(4)-4-(4/4))\n",
    "print(\"Twenty is\", 4*(4+4/4))"
   ]
  }
 ],
 "metadata": {
  "interpreter": {
   "hash": "7ccb4bb6bd67730c9185e6c24c983362cd7b4575b595bfae100d8d91e48f4f1e"
  },
  "kernelspec": {
   "display_name": "Python 3",
   "language": "python",
   "name": "python3"
  },
  "language_info": {
   "codemirror_mode": {
    "name": "ipython",
    "version": 3
   },
   "file_extension": ".py",
   "mimetype": "text/x-python",
   "name": "python",
   "nbconvert_exporter": "python",
   "pygments_lexer": "ipython3",
   "version": "3.6.0"
  }
 },
 "nbformat": 4,
 "nbformat_minor": 2
}
