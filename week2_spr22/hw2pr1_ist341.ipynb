{
 "cells": [
  {
   "cell_type": "markdown",
   "metadata": {},
   "source": [
    "<br>\n",
    "\n",
    "#### Jason Sun\n",
    "\n",
    "#### Welcome to ist341, week 2 !\n",
    "\n",
    "This notebook combines last week's ideas (functions and slicing/indexing) with the most important time-saving capability of programming languages: <i>repetition</i>\n",
    "\n",
    "That is, we're diving into <i><b>loops</b></i> \n",
    "\n",
    "In addition, we will explore more deeply a library we used last week, named <b><tt>random</tt></b>\n",
    "\n",
    "When together, <i>randomness</i> and <i>loops</i> are a powerful combination. Later in this notebook, you will create a <i>Monte Carlo simulation</i> using randomness-within-loops.\n",
    "\n",
    "<hr>"
   ]
  },
  {
   "cell_type": "code",
   "execution_count": 1,
   "metadata": {},
   "outputs": [],
   "source": [
    "\n",
    "# this imports the library named random\n",
    "\n",
    "import random\n",
    "\n",
    "# once it's imported, you are able to call random.choice(L) for any sequence L\n",
    "# try it:"
   ]
  },
  {
   "cell_type": "code",
   "execution_count": 2,
   "metadata": {},
   "outputs": [
    {
     "name": "stdout",
     "output_type": "stream",
     "text": [
      "result is university\n"
     ]
    }
   ],
   "source": [
    "\n",
    "# Try out random.choice -- several times!\n",
    "result = random.choice( ['claremont', 'graduate', 'university'] )\n",
    "print(\"result is\", result)"
   ]
  },
  {
   "cell_type": "code",
   "execution_count": 3,
   "metadata": {},
   "outputs": [
    {
     "name": "stdout",
     "output_type": "stream",
     "text": [
      "result is university\n",
      "result is graduate\n",
      "result is graduate\n",
      "result is claremont\n",
      "result is graduate\n",
      "result is claremont\n",
      "result is university\n",
      "result is graduate\n",
      "result is university\n",
      "result is claremont\n"
     ]
    }
   ],
   "source": [
    "\n",
    "# let's see a loop do this 10 times!\n",
    "\n",
    "for i in range(10):                # loop 10 times\n",
    "    result = random.choice( ['claremont', 'graduate', 'university'] ) # choose\n",
    "    print(\"result is\", result)     # print"
   ]
  },
  {
   "cell_type": "code",
   "execution_count": 4,
   "metadata": {},
   "outputs": [
    {
     "data": {
      "text/plain": [
       "'J'"
      ]
     },
     "execution_count": 4,
     "metadata": {},
     "output_type": "execute_result"
    }
   ],
   "source": [
    "#\n",
    "# Your task:   Use random.choice to choose something from a list of your own devising\n",
    "#              \n",
    "#     For this cell, just one item is enough\n",
    "\n",
    "random.choice('Jason')"
   ]
  },
  {
   "cell_type": "code",
   "execution_count": 5,
   "metadata": {},
   "outputs": [
    {
     "name": "stdout",
     "output_type": "stream",
     "text": [
      "result is Rams\n",
      "result is Both QB pass > 300\n",
      "result is Draw\n",
      "result is Draw\n",
      "result is Draw\n",
      "result is Rams\n",
      "result is Draw\n",
      "result is Draw\n",
      "result is Rams\n",
      "result is Bengals\n"
     ]
    }
   ],
   "source": [
    "#\n",
    "# Your task:   Now, repeat that choice 10 times (or more)\n",
    "#\n",
    "# Use the example above as a guide (feel free to copy-paste-edit-repeat!)\n",
    "\n",
    "for i in range(10):                # loop 10 times\n",
    "    result = random.choice( ['Rams', 'Bengals', 'Draw', 'Both QB pass > 300'] ) # choose\n",
    "    print(\"result is\", result) "
   ]
  },
  {
   "cell_type": "code",
   "execution_count": 6,
   "metadata": {},
   "outputs": [],
   "source": [
    "\n",
    "#\n",
    "# you can also import a library can be imported by using this line:\n",
    "\n",
    "from random import *\n",
    "\n",
    "# when the above line is run, you are able to call choice(L) for any sequence L\n",
    "#\n",
    "# note that you don't need random.choice(L)\n",
    "# let's try it!"
   ]
  },
  {
   "cell_type": "code",
   "execution_count": 7,
   "metadata": {},
   "outputs": [
    {
     "name": "stdout",
     "output_type": "stream",
     "text": [
      "result is paper\n"
     ]
    }
   ],
   "source": [
    "\n",
    "result = choice( [\"rock\", \"paper\", \"scissors\"] )\n",
    "print(\"result is\", result)"
   ]
  },
  {
   "cell_type": "code",
   "execution_count": 8,
   "metadata": {},
   "outputs": [
    {
     "name": "stdout",
     "output_type": "stream",
     "text": [
      "[18, 19, 20, 21, 22, 23, 24, 25, 26, 27, 28, 29, 30, 31, 32, 33, 34, 35, 36, 37, 38, 39, 40, 41, 42, 43, 44, 45, 46, 47, 48, 49, 50, 51, 52, 53, 54, 55, 56, 57, 58, 59, 60, 61, 62, 63, 64, 65, 66, 67, 68, 69, 70, 71, 72, 73, 74, 75, 76, 77, 78, 79, 80, 81, 82, 83, 84, 85, 86, 87, 88, 89, 90, 91, 92, 93, 94, 95, 96, 97]\n"
     ]
    }
   ],
   "source": [
    "\n",
    "# Python can create lists of any integers you'd like...\n",
    "L = list(range(18,98))    # try different values; try omitting/changing the 0\n",
    "print(L)"
   ]
  },
  {
   "cell_type": "code",
   "execution_count": 9,
   "metadata": {},
   "outputs": [
    {
     "name": "stdout",
     "output_type": "stream",
     "text": [
      "result is 75\n"
     ]
    }
   ],
   "source": [
    "\n",
    "# combining these, we can choose random integers from a list\n",
    "result = choice( range(0,100) )   # from 0 to 99\n",
    "print(\"result is\", result)"
   ]
  },
  {
   "cell_type": "code",
   "execution_count": 11,
   "metadata": {},
   "outputs": [
    {
     "name": "stdout",
     "output_type": "stream",
     "text": [
      "result is 16\n",
      "result is 7\n",
      "result is 3\n",
      "result is 76\n",
      "result is 82\n",
      "result is 21\n",
      "result is 67\n",
      "result is 41\n",
      "result is 29\n",
      "result is 86\n"
     ]
    }
   ],
   "source": [
    "\n",
    "# let's run this 10 times!\n",
    "for i in range(0,10):\n",
    "    result = choice( range(0,100) )   # from 0 to 99\n",
    "    print(\"result is\", result)"
   ]
  },
  {
   "cell_type": "code",
   "execution_count": 12,
   "metadata": {},
   "outputs": [
    {
     "name": "stdout",
     "output_type": "stream",
     "text": [
      "i is 0\n",
      "i is 1\n",
      "i is 2\n"
     ]
    }
   ],
   "source": [
    "\n",
    "# let's get more comfortable with loops...\n",
    "\n",
    "for i in [0,1,2]:     # Key: What variable is being defined and set?!\n",
    "    print(\"i is\", i)\n",
    "    "
   ]
  },
  {
   "cell_type": "code",
   "execution_count": 13,
   "metadata": {},
   "outputs": [
    {
     "name": "stdout",
     "output_type": "stream",
     "text": [
      "i is 0\n",
      "i is 1\n",
      "i is 2\n"
     ]
    }
   ],
   "source": [
    "\n",
    "# Note that range(0,3) generates [0,1,2]\n",
    "\n",
    "for i in range(0,3):     # Key: What variable is being defined and set?!\n",
    "    print(\"i is\", i)\n",
    "\n",
    "# When would you _not_ want to use range for integers?\n",
    "# A: Maybe when we do not like to use continuous numbers"
   ]
  },
  {
   "cell_type": "code",
   "execution_count": 14,
   "metadata": {},
   "outputs": [
    {
     "name": "stdout",
     "output_type": "stream",
     "text": [
      "x is 2\n",
      "x is 12\n",
      "x is 2022\n"
     ]
    }
   ],
   "source": [
    "\n",
    "# Usually i is for counting, x is for other things (wise, not req.)\n",
    "\n",
    "for x in [2,12,2022]:     # Key: the loop variable\n",
    "    print(\"x is\", x)\n",
    "\n",
    "# When would you _not_ want to use range for integers?"
   ]
  },
  {
   "cell_type": "code",
   "execution_count": 17,
   "metadata": {},
   "outputs": [
    {
     "name": "stdout",
     "output_type": "stream",
     "text": [
      "This is the 0th time I say Happy birthday!\n",
      "This is the 1th time I say Happy birthday!\n",
      "This is the 2th time I say Happy birthday!\n",
      "This is the 3th time I say Happy birthday!\n",
      "This is the 4th time I say Happy birthday!\n",
      "This is the 5th time I say Happy birthday!\n",
      "This is the 6th time I say Happy birthday!\n",
      "This is the 7th time I say Happy birthday!\n",
      "This is the 8th time I say Happy birthday!\n",
      "This is the 9th time I say Happy birthday!\n",
      "This is the 10th time I say Happy birthday!\n",
      "This is the 11th time I say Happy birthday!\n",
      "This is the 12th time I say Happy birthday!\n",
      "This is the 13th time I say Happy birthday!\n",
      "This is the 14th time I say Happy birthday!\n",
      "This is the 15th time I say Happy birthday!\n",
      "This is the 16th time I say Happy birthday!\n",
      "This is the 17th time I say Happy birthday!\n",
      "This is the 18th time I say Happy birthday!\n",
      "This is the 19th time I say Happy birthday!\n",
      "This is the 20th time I say Happy birthday!\n",
      "This is the 21th time I say Happy birthday!\n",
      "This is the 22th time I say Happy birthday!\n",
      "This is the 23th time I say Happy birthday!\n",
      "This is the 24th time I say Happy birthday!\n",
      "This is the 25th time I say Happy birthday!\n",
      "This is the 26th time I say Happy birthday!\n",
      "This is the 27th time I say Happy birthday!\n",
      "This is the 28th time I say Happy birthday!\n",
      "This is the 29th time I say Happy birthday!\n",
      "This is the 30th time I say Happy birthday!\n",
      "This is the 31th time I say Happy birthday!\n",
      "This is the 32th time I say Happy birthday!\n",
      "This is the 33th time I say Happy birthday!\n",
      "This is the 34th time I say Happy birthday!\n",
      "This is the 35th time I say Happy birthday!\n",
      "This is the 36th time I say Happy birthday!\n",
      "This is the 37th time I say Happy birthday!\n",
      "This is the 38th time I say Happy birthday!\n",
      "This is the 39th time I say Happy birthday!\n",
      "This is the 40th time I say Happy birthday!\n",
      "This is the 41th time I say Happy birthday!\n"
     ]
    }
   ],
   "source": [
    "\n",
    "# How could we get this to print \"Happy birthday!\" 42 times?\n",
    "\n",
    "for i in range(42):          \n",
    "    print(f'This is the {i}th time I say Happy birthday!')"
   ]
  },
  {
   "cell_type": "markdown",
   "metadata": {},
   "source": [
    "<br>\n",
    "\n",
    "#### Functions often use loops... Watch out!\n",
    "+ <tt><b>return</b></tt> is <i>more powerful</i> than the loop\n",
    "+ <tt><b>return</b></tt> <i>always</i> wins!\n",
    "\n",
    "Take a look:"
   ]
  },
  {
   "cell_type": "code",
   "execution_count": 23,
   "metadata": {},
   "outputs": [],
   "source": [
    "\n",
    "# return _after_ a loop:\n",
    "\n",
    "def funA():\n",
    "    for i in range(0,3):\n",
    "        print(\"i is\", i)\n",
    "    return\n",
    "\n",
    "# why does this not print anything?!??\n"
   ]
  },
  {
   "cell_type": "code",
   "execution_count": 21,
   "metadata": {},
   "outputs": [
    {
     "name": "stdout",
     "output_type": "stream",
     "text": [
      "i is 0\n"
     ]
    }
   ],
   "source": [
    "\n",
    "# return _within_ a loop:\n",
    "\n",
    "def funB():\n",
    "    for i in range(0,3):\n",
    "        print(\"i is\", i)\n",
    "        return\n",
    "\n",
    "# What do we need here?  (Is this what you expect?!)\n",
    "funB()"
   ]
  },
  {
   "cell_type": "code",
   "execution_count": 24,
   "metadata": {},
   "outputs": [
    {
     "name": "stdout",
     "output_type": "stream",
     "text": [
      "i is 2\n"
     ]
    }
   ],
   "source": [
    "\n",
    "# let's add an if statement (a conditional)\n",
    "#              ... to test different indentations\n",
    "\n",
    "def funB1():\n",
    "    for i in range(1,6):\n",
    "        if i%2 == 0:\n",
    "            print(\"i is\", i)\n",
    "            return              \n",
    "funB1()"
   ]
  },
  {
   "cell_type": "markdown",
   "metadata": {},
   "source": [
    "<br>\n",
    "\n",
    "#### Accumulators\n",
    "+ a <i>very</i> common approach is to use a loop to <i>accumulate</i> a desired result\n",
    "+ the idea is to start the result at a \"nothing\" value, which is not always zero...\n",
    "+ then operate on it until it becomes the final result!\n",
    "\n",
    "#### factorial\n",
    "+ <pre>fac(5) == 1*2*3*4*5</pre>\n",
    "+ <pre>fac(N) == 1*2*3*4* ... *(N-2)*(N-1)*N</pre>\n",
    "\n",
    "#### addup\n",
    "+ <pre>addup(5) == 1+2+3+4+5</pre>\n",
    "+ <pre>addup(N) == 1+2+3+4+ ... +(N-2)+(N-1)+N</pre>\n",
    "\n",
    "<br>"
   ]
  },
  {
   "cell_type": "code",
   "execution_count": 25,
   "metadata": {},
   "outputs": [
    {
     "data": {
      "text/plain": [
       "10"
      ]
     },
     "execution_count": 25,
     "metadata": {},
     "output_type": "execute_result"
    }
   ],
   "source": [
    "\n",
    "# an add-em-up function\n",
    "\n",
    "def addup(N):\n",
    "    \"\"\" adds from 1 through N (inclusive)\n",
    "    \"\"\"\n",
    "    result = 0\n",
    "\n",
    "    for x in range(1,N+1):\n",
    "        result = result + x\n",
    "\n",
    "    return result\n",
    "\n",
    "# addup(4) should be 0+1+2+3+4 == 10\n",
    "addup(4)"
   ]
  },
  {
   "cell_type": "code",
   "execution_count": 26,
   "metadata": {},
   "outputs": [
    {
     "data": {
      "text/plain": [
       "24"
      ]
     },
     "execution_count": 26,
     "metadata": {},
     "output_type": "execute_result"
    }
   ],
   "source": [
    "\n",
    "# an factorial function\n",
    "\n",
    "def fac(N):\n",
    "    \"\"\" a factorial function, returns the factorial of the input N\n",
    "    \"\"\"\n",
    "    result = 1\n",
    "\n",
    "    for x in range(1,N+1):\n",
    "        result = result*x\n",
    "\n",
    "    return result\n",
    "\n",
    "# fac(4) should be 1*2*3*4 == 24\n",
    "fac(4)"
   ]
  },
  {
   "cell_type": "code",
   "execution_count": 30,
   "metadata": {},
   "outputs": [
    {
     "data": {
      "text/plain": [
       "1"
      ]
     },
     "execution_count": 30,
     "metadata": {},
     "output_type": "execute_result"
    }
   ],
   "source": [
    "\n",
    "# an power-ful function  (to make work!)\n",
    "\n",
    "def power(b,p):\n",
    "    \"\"\" a power function: b to the p power\n",
    "    \"\"\"\n",
    "    result = 1\n",
    "\n",
    "    for x in range(1,p+1):   # N is a copy-paste error from above...\n",
    "        result = result*b    # this isn't correct... yet!\n",
    "\n",
    "    return result\n",
    "\n",
    "# power(2,5) should be 2*2*2*2*2 == 32\n",
    "# power(5,2) should be 5*5 == 25\n",
    "# power(5,0) should be 1            so should power(2,0)\n",
    "power(5,0)"
   ]
  },
  {
   "cell_type": "code",
   "execution_count": null,
   "metadata": {},
   "outputs": [],
   "source": [
    "\"\"\"\n",
    "\n",
    "Loops to try for the \"breakout quiz\":\n",
    "\n",
    "# upper left\n",
    "result = 1\n",
    "for x in [2,5,1,4]:\n",
    "    result *= x\n",
    "print(result)\n",
    "\n",
    "# upper right\n",
    "x = 0\n",
    "for i in range(4):\n",
    "    x += 10\n",
    "print(x)\n",
    "\n",
    "# lower left\n",
    "L = ['golf','fore!','club','tee']\n",
    "for i in range(len(L)):\n",
    "    if i%2 == 1:\n",
    "        print(L[i])\n",
    "\n",
    "# lower right\n",
    "S = 'time to think this over! '\n",
    "result = ''\n",
    "for i in range(len(S)):\n",
    "    if S[i-1] == ' '\n",
    "        result += S[i]\n",
    "print(result)\n",
    "\n",
    "\"\"\""
   ]
  },
  {
   "cell_type": "code",
   "execution_count": 27,
   "metadata": {},
   "outputs": [
    {
     "name": "stdout",
     "output_type": "stream",
     "text": [
      "40\n"
     ]
    }
   ],
   "source": [
    "\n",
    "# staging area...\n",
    "\n",
    "print(\"Start!\")\n"
   ]
  },
  {
   "cell_type": "code",
   "execution_count": null,
   "metadata": {},
   "outputs": [],
   "source": [
    "\n",
    "# \n",
    "# Functions with for loops to write:\n",
    "#\n",
    "# for loops:\n",
    "#\n",
    "# summer(L)               returns the sum of the #'s in L\n",
    "# summedOdds(L)           returns the sum of the _odd_ #'s in L\n",
    "# summedExcept(exc, L)    returns the sum of all #'s in L not equal to exc\n",
    "#                                 exc is the \"exception\"\n",
    "# summedUpto(exc, L)      returns the sum of all #'s in L upto exc (not including exc)\n",
    "\n",
    "\n",
    "# examples:\n",
    "#       summer( [2,3,4,1] )    ->  10\n",
    "#   summedOdds( [2,3,4,1] )    ->   4\n",
    "# summedExcept( 4, [2,3,4,1] ) ->   6\n",
    "#   summedUpto( 4, [2,3,4,1] ) ->   5"
   ]
  },
  {
   "cell_type": "code",
   "execution_count": 34,
   "metadata": {},
   "outputs": [
    {
     "data": {
      "text/plain": [
       "5"
      ]
     },
     "execution_count": 34,
     "metadata": {},
     "output_type": "execute_result"
    }
   ],
   "source": [
    "summedUpto( 4, [2,3,4,1] )"
   ]
  },
  {
   "cell_type": "code",
   "execution_count": 24,
   "metadata": {},
   "outputs": [],
   "source": [
    "\n",
    "def summer(L):\n",
    "    \"\"\" uses a for loop to add and return all of the elements in L\n",
    "    \"\"\"\n",
    "    n = 0\n",
    "    for i in L:\n",
    "        n += i\n",
    "    return n"
   ]
  },
  {
   "cell_type": "code",
   "execution_count": 25,
   "metadata": {},
   "outputs": [],
   "source": [
    "\n",
    "def summedOdds(L):\n",
    "    \"\"\" uses a for loop to add and return all of the _odd_ elements in L\n",
    "    \"\"\"\n",
    "    n = 0\n",
    "    for i in range(len(L)):\n",
    "        if i % 2 == 1:\n",
    "            n += L[i]\n",
    "    return n"
   ]
  },
  {
   "cell_type": "code",
   "execution_count": 26,
   "metadata": {},
   "outputs": [],
   "source": [
    "\n",
    "def summedExcept( exc, L ):\n",
    "    \"\"\" include a short description here!\n",
    "    \"\"\"\n",
    "    n = 0\n",
    "    for i in L:\n",
    "        if i != exc:\n",
    "            n += i\n",
    "    return n"
   ]
  },
  {
   "cell_type": "code",
   "execution_count": 33,
   "metadata": {},
   "outputs": [],
   "source": [
    "\n",
    "def summedUpto( exc, L ):\n",
    "    \"\"\" include a short description here!\n",
    "    \"\"\"\n",
    "    n = 0\n",
    "    for i in L:\n",
    "        if n < exc :\n",
    "            n += i\n",
    "    return n"
   ]
  },
  {
   "cell_type": "code",
   "execution_count": 31,
   "metadata": {},
   "outputs": [
    {
     "data": {
      "text/plain": [
       "175"
      ]
     },
     "execution_count": 31,
     "metadata": {},
     "output_type": "execute_result"
    }
   ],
   "source": [
    "\n",
    "# \n",
    "# Example while loop: the \"guessing game\"\n",
    "#\n",
    "\n",
    "from random import *\n",
    "\n",
    "def guess( hidden ):\n",
    "    \"\"\"\n",
    "        have the computer guess numbers until it gets the \"hidden\" value\n",
    "        return the number of guesses\n",
    "    \"\"\"\n",
    "    guess = hidden - 1      # start with a wrong guess + don't count it as a guess\n",
    "    number_of_guesses = 0   # start with no guesses made so far...\n",
    "\n",
    "    while guess != hidden:\n",
    "        guess = choice( range(0,100) )  # 0 to 99, inclusive\n",
    "        number_of_guesses += 1\n",
    "\n",
    "    return number_of_guesses\n",
    "\n",
    "# test our function!\n",
    "guess(42)"
   ]
  },
  {
   "cell_type": "code",
   "execution_count": null,
   "metadata": {},
   "outputs": [],
   "source": [
    "\n",
    "# \n",
    "# Functions with while loops to write:\n",
    "#\n",
    "\n",
    "# guess_between(low,high) like guess, but until it gets a number anywhere between \n",
    "#                         low and high. Specifically, until it guesses \n",
    "#                         less than high, and greater than or equal to low.\n",
    "#                         \n",
    "#\n",
    "# listTilRepeat(high)     accumulates a list of values in range(0,high) until one repeats\n",
    "#                         and returns the whole list\n",
    "#\n",
    " \n",
    "\n",
    "# examples (don't forget the randomness will change things!)\n",
    "#\n",
    "# guess_between(40,50)   ->   8    (on average, around 10)\n",
    "#\n",
    "# listTilRepeat(10)      ->   [4, 7, 8, 3, 7]     (the final # must be a repeat)\n",
    "# listTilRepeat(10)      ->   [2, 1, 9, 9]     (the final # must be a repeat)\n"
   ]
  },
  {
   "cell_type": "code",
   "execution_count": 32,
   "metadata": {},
   "outputs": [],
   "source": [
    "\n",
    "def guess_between(low,high):\n",
    "    \"\"\" guesses a # from 0 to 99 (inclusive) until\n",
    "        it gets one that is strictly less than high and\n",
    "        greater than or equal to low\n",
    "        Then, this function returns the total # of guesses made\n",
    "    \"\"\"\n",
    "    guess = choice(range(0, 99))\n",
    "    guess_num = 1\n",
    "    \n",
    "    while guess < low or guess >= high:\n",
    "        guess = choice(range(0, 99))\n",
    "        guess_num += 1\n",
    "    return guess_num"
   ]
  },
  {
   "cell_type": "code",
   "execution_count": 37,
   "metadata": {},
   "outputs": [
    {
     "name": "stdout",
     "output_type": "stream",
     "text": [
      "4\n",
      "2\n",
      "39\n",
      "2\n",
      "7\n",
      "31\n",
      "2\n",
      "25\n",
      "6\n",
      "5\n"
     ]
    }
   ],
   "source": [
    "for i in range(10):\n",
    "    print(guess_between(40,50))"
   ]
  },
  {
   "cell_type": "code",
   "execution_count": 38,
   "metadata": {},
   "outputs": [
    {
     "name": "stdout",
     "output_type": "stream",
     "text": [
      "Before: L is [3, 4]\n",
      " After: L is [3, 4, 42]\n"
     ]
    }
   ],
   "source": [
    "\n",
    "# Try out adding elements to Lists\n",
    "\n",
    "L = [3,4]\n",
    "print(\"Before: L is\", L)\n",
    "\n",
    "guess = 42\n",
    "L = L + [guess]\n",
    "print(\" After: L is\", L)"
   ]
  },
  {
   "cell_type": "code",
   "execution_count": 49,
   "metadata": {},
   "outputs": [],
   "source": [
    "\n",
    "def listTilRepeat(high):\n",
    "    \"\"\" into a list, accumulates random guesses until a repeat is found\n",
    "        returns the list (the final element should be repeated, somewhere)\n",
    "    \"\"\"\n",
    "    L = []\n",
    "    while True:\n",
    "        guess = choice(range(0, high))\n",
    "        if guess in L:\n",
    "            L += [guess]\n",
    "            break\n",
    "        else: L += [guess]\n",
    "    return L"
   ]
  },
  {
   "cell_type": "code",
   "execution_count": 53,
   "metadata": {},
   "outputs": [
    {
     "data": {
      "text/plain": [
       "[0, 9, 4, 7, 6, 4]"
      ]
     },
     "execution_count": 53,
     "metadata": {},
     "output_type": "execute_result"
    }
   ],
   "source": [
    "listTilRepeat(10)"
   ]
  },
  {
   "cell_type": "code",
   "execution_count": 50,
   "metadata": {},
   "outputs": [
    {
     "name": "stdout",
     "output_type": "stream",
     "text": [
      "30\n",
      "22\n",
      "53\n",
      "32\n",
      "23\n",
      "12\n",
      "31\n",
      "13\n",
      "15\n",
      "14\n",
      "43\n",
      "12\n",
      "54\n",
      "14\n",
      "39\n",
      "41\n",
      "25\n",
      "2\n",
      "17\n",
      "56\n",
      "6\n",
      "7\n",
      "46\n",
      "20\n",
      "21\n",
      "20\n",
      "46\n",
      "5\n",
      "36\n",
      "13\n",
      "20\n",
      "15\n",
      "14\n",
      "29\n",
      "44\n",
      "26\n",
      "36\n",
      "10\n",
      "24\n",
      "36\n",
      "34\n",
      "28\n",
      "24\n",
      "26\n",
      "34\n",
      "8\n",
      "28\n",
      "12\n",
      "33\n",
      "27\n",
      "31\n",
      "5\n",
      "27\n",
      "33\n",
      "16\n",
      "18\n",
      "48\n",
      "34\n",
      "25\n",
      "8\n",
      "34\n",
      "25\n",
      "19\n",
      "16\n",
      "5\n",
      "28\n",
      "26\n",
      "34\n",
      "32\n",
      "13\n",
      "33\n",
      "15\n",
      "27\n",
      "27\n",
      "12\n",
      "12\n",
      "6\n",
      "16\n",
      "20\n",
      "4\n",
      "35\n",
      "22\n",
      "22\n",
      "15\n",
      "26\n",
      "29\n",
      "17\n",
      "14\n",
      "33\n",
      "39\n",
      "15\n",
      "4\n",
      "41\n",
      "33\n",
      "33\n",
      "16\n",
      "21\n",
      "18\n",
      "18\n",
      "21\n"
     ]
    }
   ],
   "source": [
    "\n",
    "# The birthday paradox is the fact that \n",
    "#     listTilRepeat(365) has surprisingly few elements!\n",
    "# \n",
    "# Run listTilRepeat(365) 100 times and print its _length_ each time\n",
    "#     (Don't print the lists... it's too much to digest.\n",
    "# \n",
    "# To many, the results feel counterintuitive! \n",
    "for i in range(100):\n",
    "    print(len(listTilRepeat(365)))"
   ]
  },
  {
   "cell_type": "markdown",
   "metadata": {},
   "source": [
    "<br>\n",
    "\n",
    "####  Complete!\n",
    "+ If you've completed these, go ahead and submit this notebook to our Gradescope site.\n",
    "+ If you want more details on this set of looping challenges, here is the [CS5 hw page on them](https://www.cs.hmc.edu/twiki/bin/view/CS5Fall2021/LoopyLogicGold)"
   ]
  }
 ],
 "metadata": {
  "interpreter": {
   "hash": "7ccb4bb6bd67730c9185e6c24c983362cd7b4575b595bfae100d8d91e48f4f1e"
  },
  "kernelspec": {
   "display_name": "Python 3",
   "language": "python",
   "name": "python3"
  },
  "language_info": {
   "codemirror_mode": {
    "name": "ipython",
    "version": 3
   },
   "file_extension": ".py",
   "mimetype": "text/x-python",
   "name": "python",
   "nbconvert_exporter": "python",
   "pygments_lexer": "ipython3",
   "version": "3.6.0"
  }
 },
 "nbformat": 4,
 "nbformat_minor": 2
}
