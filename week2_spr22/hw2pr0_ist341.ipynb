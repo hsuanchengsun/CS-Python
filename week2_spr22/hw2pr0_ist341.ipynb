{
 "cells": [
  {
   "cell_type": "markdown",
   "metadata": {},
   "source": [
    "<br>\n",
    "\n",
    "#### Welcome to ist341, week 2 !\n",
    "+ <b><tt>hw2pr0_ist341.ipynb</tt></b> is this week's reading-and-response\n",
    "+ This week's article is about IBM's \"Watson\" software that soundly defeated humans in the game show, Jeopardy...\n",
    "\n",
    "<hr>\n",
    " "
   ]
  },
  {
   "cell_type": "markdown",
   "metadata": {},
   "source": [
    "<br>\n",
    "\n",
    "#### Reading for hw2pr0_ist341... \n",
    "\n",
    "This week's article is about IBM's Watson, a software (and hardware) system that defeated two human champions at Jeopardy...\n",
    "\n",
    "+ [Here is the NYTimes article (from 2011)](https://www.nytimes.com/2011/02/17/science/17jeopardy-watson.html?_r=1&scp=12&sq=computer%20science&st=cse)\n",
    "+ [Here is a local pdf, in case you're not able to access that article](https://www.cs.hmc.edu/~cs5grad/cs5/watson.pdf)\n",
    "\n",
    "<br>\n",
    "\n",
    "After you have read the above article, write a response that addresses one or more of the following questions/prompts:\n",
    "+ What was the most interesting or important idea in this article to you—and why?\n",
    "+ What is your sense of the similarities and differences between Watson-style and human-style thinking?\n",
    "+ How much of an impact do you feel Watson's capabilities will make (or have made)? You can look around for web articles on this, or you're welcome to speculate. Or, [feel free to check out the NYTimes re-reflection, ten years later](https://www.nytimes.com/2021/07/16/technology/what-happened-ibm-watson.html)\n",
    "\n",
    "<br>\n",
    "\n",
    "As ever, don't feel obligated to go beyond a few sentences in total. An ideal response would show that you'd thought critically about the article's ideas -- and that you've brought your own ideas, background, and experience into your response.\n",
    "\n",
    "<hr> \n",
    "\n",
    "Submit your reflection here in this file (<b><tt>hw2pr0_ist341.ipynb</tt></b>)\n",
    "\n",
    "<hr>"
   ]
  },
  {
   "cell_type": "markdown",
   "metadata": {},
   "source": [
    "#### Reading response\n",
    "\n",
    "(Feel free to use this cell for your response.)"
   ]
  },
  {
   "cell_type": "markdown",
   "metadata": {},
   "source": [
    "For me, I think the most interesting part of the article is the collaboration between IBM, Columbia University, and the University of Maryland. IBM had mentioned they would corporate with the universities to create a physician’s assistant service. That just makes me think that the technologies were studied in the top academic organizations ten years ago. However, ten years later, everyone could train and use artificial intelligence in their own computers. AI has just become a normal thing in our life from far away technologies in just ten years. Therefore, I think that means our hardware, software, and knowledge advance to a new step in the decade.\n",
    "\n",
    "Based on the article, I think the major difference between Watson-style and human-style thinking is the way we produce the answer. For humans (or my usual way), I would think about several answers in my mind based on the question and then choose the one I am confident about. On the other hand, Watson seems to put possibilities to every item based on the questions. Then it would choose the one with the highest possibilities as its answer. In my opinion, this kind of thought can only be applied by machines since they are able to do a lot of calculations than humans at the same time.\n",
    "\n",
    "I would speculate that Watson is able to answer questions in more domains now. It could help people once they enter their questions to Watson. For example, it could notify doctors about the illness of the patient, it could set up a strategy for the football team for the coach, and it might present a useful plan for sales managers. Once we need answers, I believe Watson can help!"
   ]
  },
  {
   "cell_type": "code",
   "execution_count": null,
   "metadata": {},
   "outputs": [],
   "source": []
  }
 ],
 "metadata": {
  "interpreter": {
   "hash": "7ccb4bb6bd67730c9185e6c24c983362cd7b4575b595bfae100d8d91e48f4f1e"
  },
  "kernelspec": {
   "display_name": "Python 3",
   "language": "python",
   "name": "python3"
  },
  "language_info": {
   "codemirror_mode": {
    "name": "ipython",
    "version": 3
   },
   "file_extension": ".py",
   "mimetype": "text/x-python",
   "name": "python",
   "nbconvert_exporter": "python",
   "pygments_lexer": "ipython3",
   "version": "3.6.0"
  }
 },
 "nbformat": 4,
 "nbformat_minor": 2
}
