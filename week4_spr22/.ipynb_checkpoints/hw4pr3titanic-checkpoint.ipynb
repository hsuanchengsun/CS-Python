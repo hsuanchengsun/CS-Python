{
 "cells": [
  {
   "cell_type": "code",
   "execution_count": null,
   "metadata": {},
   "outputs": [],
   "source": [
    "#\n",
    "# hw4pr3titanic:  titanic-passenger clasification via nearest neighbors\n",
    "#"
   ]
  },
  {
   "cell_type": "code",
   "execution_count": null,
   "metadata": {},
   "outputs": [],
   "source": [
    "# libraries!\n",
    "import numpy as np      # numpy is Python's \"array\" library\n",
    "import pandas as pd     # Pandas is Python's \"data\" library (\"dataframe\" == spreadsheet)"
   ]
  },
  {
   "cell_type": "code",
   "execution_count": null,
   "metadata": {},
   "outputs": [],
   "source": [
    "# let's read in our digits data...\n",
    "# \n",
    "# for read_csv, use header=0 when row 0 is a header row\n",
    "# \n",
    "filename = 'titanic.csv'\n",
    "df = pd.read_csv(filename, header=0)   # read the file w/header row #0\n",
    "print(f\"{filename} : file read into a pandas dataframe.\")"
   ]
  },
  {
   "cell_type": "code",
   "execution_count": null,
   "metadata": {},
   "outputs": [],
   "source": [
    "#\n",
    "# Let's see it!\n",
    "#\n",
    "pd.set_option('display.max_rows', 10)  # None for no limit; default: 10\n",
    "pd.set_option('display.min_rows', 10)  # None for no limit; default: 10\n",
    "# let's view it!\n",
    "df"
   ]
  },
  {
   "cell_type": "code",
   "execution_count": null,
   "metadata": {},
   "outputs": [],
   "source": [
    "#\n",
    "# develop your model-building based on the previous examples!\n",
    "#\n",
    "\n",
    "#\n",
    "# First, let's show some examples of dropping columns (features) that need to go...\n",
    "#"
   ]
  },
  {
   "cell_type": "code",
   "execution_count": null,
   "metadata": {},
   "outputs": [],
   "source": [
    "#\n",
    "# this df.info() call will show the different features (columns), their types, and how many non-null there are ...\n",
    "#\n",
    "\n",
    "df.info()"
   ]
  },
  {
   "cell_type": "code",
   "execution_count": null,
   "metadata": {},
   "outputs": [],
   "source": [
    "#\n",
    "# ok!  let's drop columns that are\n",
    "#      + \"cheating\"  (they give away the answer and wouldn't be available)\n",
    "#      + too sparse  (too many NAs)\n",
    "#\n",
    "\n",
    "COLUMNS = df.columns       # get column names\n",
    "last_column = COLUMNS[-1]  # don't want the \"url\" column...\n",
    "df_2 = df.drop(columns=[last_column])  # drop by name is ok\n",
    "\n",
    "# the \"boat\" column is present when the lifeboat number is known: too much info!\n",
    "df_2 = df_2.drop('boat', axis=1)     # or, axis = 1 indicates we want to drop a column, not a row\n",
    "\n",
    "# the \"cabin\" column has too many missing values...\n",
    "df_2 = df_2.drop('cabin', axis=1)\n",
    "\n",
    "# let's see what's there...\n",
    "df_2.info()  # re-look at the data ...    \n",
    "# + some will still have too many NA's!\n",
    "# + some will still be \"cheating\"\n",
    "# + some simply won't be worth having"
   ]
  },
  {
   "cell_type": "code",
   "execution_count": null,
   "metadata": {},
   "outputs": [],
   "source": [
    "#\n",
    "# let's see everything - again\n",
    "#\n",
    "\n",
    "pd.set_option('display.max_rows', 10)  # None for no limit; default: 10\n",
    "pd.set_option('display.min_rows', 10)  # None for no limit; default: 10\n",
    "# let's view it!\n",
    "df_2"
   ]
  },
  {
   "cell_type": "code",
   "execution_count": null,
   "metadata": {},
   "outputs": [],
   "source": [
    "#\n",
    "# everything needs to be numeric! we'll convert female/male to 1/0\n",
    "#\n",
    "\n",
    "def numberize(s):\n",
    "    \"\"\" converts 'male'/'female' to 0/1 \"\"\"\n",
    "    if s == 'female': return 1\n",
    "    else:  return 0                   # or return int(s=='female')\n",
    "\n",
    "df_2['sex'] = df_2['sex'].apply(numberize)\n",
    "\n",
    "# can't run this cell twice!   (we've replaced things!)"
   ]
  },
  {
   "cell_type": "code",
   "execution_count": null,
   "metadata": {},
   "outputs": [],
   "source": [
    "#\n",
    "# let's see everything - again\n",
    "#\n",
    "\n",
    "pd.set_option('display.max_rows', 10)  # None for no limit; default: 10\n",
    "pd.set_option('display.min_rows', 10)  # None for no limit; default: 10\n",
    "# let's view it!\n",
    "df_2"
   ]
  },
  {
   "cell_type": "code",
   "execution_count": null,
   "metadata": {},
   "outputs": [],
   "source": [
    "#\n",
    "# develop your model-building based on the previous examples!\n",
    "#\n",
    "# remember to\n",
    "#    + drop more columns!\n",
    "#    + dropna values!\n",
    "#    + set up the model, plsit train/test, find the best_k\n",
    "#    + once you have a baseline... THEN change the weights\n",
    "#    + to get a sense of the relative importance of each feature...\n",
    "#"
   ]
  },
  {
   "cell_type": "code",
   "execution_count": null,
   "metadata": {},
   "outputs": [],
   "source": []
  },
  {
   "cell_type": "code",
   "execution_count": null,
   "metadata": {},
   "outputs": [],
   "source": []
  }
 ],
 "metadata": {
  "kernelspec": {
   "display_name": "Python 3",
   "language": "python",
   "name": "python3"
  },
  "language_info": {
   "codemirror_mode": {
    "name": "ipython",
    "version": 3
   },
   "file_extension": ".py",
   "mimetype": "text/x-python",
   "name": "python",
   "nbconvert_exporter": "python",
   "pygments_lexer": "ipython3",
   "version": "3.7.6"
  }
 },
 "nbformat": 4,
 "nbformat_minor": 4
}
