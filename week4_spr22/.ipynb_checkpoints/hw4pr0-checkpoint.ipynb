{
 "cells": [
  {
   "cell_type": "markdown",
   "metadata": {},
   "source": [
    "<br>\n",
    "\n",
    "#### week4 ~ \"modeling with knn: k-nearest neighbors...\"  &nbsp;&nbsp; (hw4pr0.ipynb)\n",
    "\n",
    "[the google doc with hw4's details](https://docs.google.com/document/d/1UYAXHs_NNVTRE1vKGUx-BW-SO2w2PBv2DhWsD4km8QU/edit)\n",
    "<hr>"
   ]
  },
  {
   "cell_type": "markdown",
   "metadata": {},
   "source": [
    "<br>\n",
    "\n",
    "#### Reading for hw4...     (hw4pr0.ipynb)\n",
    "\n",
    "This week's reading is a 2020 [Economist article](https://www.economist.com/technology-quarterly/2020/06/11/for-ai-data-are-harder-to-come-by-than-you-think) (here is a [pdf version](https://drive.google.com/file/d/1tJC3jLjk_ZNzA1UTxREJGqzZg5pg2N24/view) ) on the pitfalls and promise of the data-driven era of AI we now inhabit.  The article takes a \"data-based\" view on recent developments and concerns in AI, especially machine-learning (or \"statistical learning\"). \n",
    "\n",
    "\n",
    "One of the newest ideas in this article is the possibility -- and possible importance -- of generating data to improve model-training, when available data is inequitable, inflexible, or insufficient in another way.   \n",
    "\n",
    "Using the article and your own experience, what are your thoughts on artificially generating data to assist AI/ML training?  Possible jumping-off points include \n",
    "+ (1) echo-chamber effects: can generated data yield more fairness -- or only reinforce existing biases?, or \n",
    "+ (2) implementation concerns: what process would artificially generate the data?, or \n",
    "+ (3) a specific example you've encountered, where a computational system generated data, but \"got things obviously wrong\" (there may be lots of these examples!) \n",
    "\n",
    "In this last case, the generated data made the world's \"data-landscape\" worse, not better.  Alternative directions on artificially-generated data more than welcome!  \n",
    "\n",
    "As with each week's reading, responses should be thoughtful, but need not be long: a 4-5 sentence paragraph is wonderful.\n",
    "\n",
    "<hr>"
   ]
  },
  {
   "cell_type": "markdown",
   "metadata": {},
   "source": [
    "#### Reading response\n",
    "\n",
    "(Feel free to use this cell for your response.)"
   ]
  },
  {
   "cell_type": "markdown",
   "metadata": {},
   "source": [
    "In my opinion, I would say generating training artificial data is a good idea to assist AI/ML. First, it solves the problem of the lack of available data. Sometimes the model needs lots of data to make sure its accuracy and ability to work, but the existing data may not be enough for the training process. At this moment, if we can create data by ourselves, it would be helpful to solve such a situation. Second, generating artificial data could avoid problems in the existing data. For example, as the author mentioned in the article, data for facial recognition task would get privacy problems. Or in the auto-drive car, we can not afford to use real people to test the model. In both situations, the artificial data could boost the model because this way just avoids the problem when we use the real-world data. We could make sure we are not going to violate the regulation in the world while processing our model. Last but not least, we could use artificial data to improve the weak parts in the AI/ML models. Once we identify the model has lower accuracy in some special category, we could generate suitable artificial data for the model to learn and may boost its performance in the perspective. Of course, all of these arguments are based on that the artificial is workable and reasonable. If they are just random data or data with a special pattern, they may not be workable in the real world."
   ]
  },
  {
   "cell_type": "code",
   "execution_count": null,
   "metadata": {},
   "outputs": [],
   "source": []
  }
 ],
 "metadata": {
  "interpreter": {
   "hash": "7ccb4bb6bd67730c9185e6c24c983362cd7b4575b595bfae100d8d91e48f4f1e"
  },
  "kernelspec": {
   "display_name": "Python 3",
   "language": "python",
   "name": "python3"
  },
  "language_info": {
   "codemirror_mode": {
    "name": "ipython",
    "version": 3
   },
   "file_extension": ".py",
   "mimetype": "text/x-python",
   "name": "python",
   "nbconvert_exporter": "python",
   "pygments_lexer": "ipython3",
   "version": "3.6.0"
  }
 },
 "nbformat": 4,
 "nbformat_minor": 2
}
