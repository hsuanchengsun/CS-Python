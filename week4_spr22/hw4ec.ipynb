{
 "cells": [
  {
   "cell_type": "markdown",
   "metadata": {},
   "source": [
    "<br>\n",
    "\n",
    "#### hw4ec.ipynb ~ wk4's EC, including\n",
    "+ There are digits to be dreamed...  (pixel-prediction)\n",
    "+ There are house-prices or garage-areas to be modeled...  (knn-regression)\n",
    "+ Plus, our Lost-Grutor challenge continues...   \n",
    "+ &nbsp;&nbsp; (hw4ec.ipynb)\n",
    "\n",
    "<hr>\n"
   ]
  },
  {
   "cell_type": "code",
   "execution_count": 1,
   "metadata": {},
   "outputs": [],
   "source": [
    "\n",
    "#\n",
    "# Feel free to choose any of these tasks (or all?! :-)\n",
    "#\n"
   ]
  },
  {
   "cell_type": "markdown",
   "metadata": {},
   "source": [
    "<br>\n",
    "\n",
    "#### Additional links\n",
    "+ [the hw4 page](https://docs.google.com/document/d/1UYAXHs_NNVTRE1vKGUx-BW-SO2w2PBv2DhWsD4km8QU/edit)\n",
    "+ [the hw4 Lost Grutor page](https://docs.google.com/document/d/1oH86XO7ntnYJyHpEvKzXyl0Mp3TLQZQ_kXITU1oV1zU/edit)\n",
    "\n",
    "<br>\n",
    "\n",
    "#### Good luck!!"
   ]
  }
 ],
 "metadata": {
  "interpreter": {
   "hash": "7ccb4bb6bd67730c9185e6c24c983362cd7b4575b595bfae100d8d91e48f4f1e"
  },
  "kernelspec": {
   "display_name": "Python 3.8.8 64-bit (conda)",
   "language": "python",
   "name": "python3"
  },
  "language_info": {
   "codemirror_mode": {
    "name": "ipython",
    "version": 3
   },
   "file_extension": ".py",
   "mimetype": "text/x-python",
   "name": "python",
   "nbconvert_exporter": "python",
   "pygments_lexer": "ipython3",
   "version": "3.10.2"
  },
  "orig_nbformat": 4
 },
 "nbformat": 4,
 "nbformat_minor": 2
}
